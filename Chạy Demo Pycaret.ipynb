{
 "cells": [
  {
   "cell_type": "code",
   "execution_count": null,
   "metadata": {},
   "outputs": [],
   "source": [
    "# install pycaret\n",
    "# pip install pycaret\n",
    "\n",
    "# pip install pycaret[full]"
   ]
  },
  {
   "cell_type": "code",
   "execution_count": 33,
   "metadata": {},
   "outputs": [
    {
     "data": {
      "text/plain": [
       "'2.2.3'"
      ]
     },
     "execution_count": 33,
     "metadata": {},
     "output_type": "execute_result"
    }
   ],
   "source": [
    "from pycaret.utils import version\n",
    "version()"
   ]
  },
  {
   "cell_type": "code",
   "execution_count": 34,
   "metadata": {},
   "outputs": [
    {
     "data": {
      "text/html": [
       "<div>\n",
       "<style scoped>\n",
       "    .dataframe tbody tr th:only-of-type {\n",
       "        vertical-align: middle;\n",
       "    }\n",
       "\n",
       "    .dataframe tbody tr th {\n",
       "        vertical-align: top;\n",
       "    }\n",
       "\n",
       "    .dataframe thead th {\n",
       "        text-align: right;\n",
       "    }\n",
       "</style>\n",
       "<table border=\"1\" class=\"dataframe\">\n",
       "  <thead>\n",
       "    <tr style=\"text-align: right;\">\n",
       "      <th></th>\n",
       "      <th>Col1</th>\n",
       "      <th>Col2</th>\n",
       "      <th>Col3</th>\n",
       "      <th>Col4</th>\n",
       "      <th>Col5</th>\n",
       "      <th>Col6</th>\n",
       "      <th>Col7</th>\n",
       "      <th>Col8</th>\n",
       "      <th>Col9</th>\n",
       "      <th>Col10</th>\n",
       "    </tr>\n",
       "  </thead>\n",
       "  <tbody>\n",
       "    <tr>\n",
       "      <th>0</th>\n",
       "      <td>0.263995</td>\n",
       "      <td>0.764929</td>\n",
       "      <td>0.138424</td>\n",
       "      <td>0.935242</td>\n",
       "      <td>0.605867</td>\n",
       "      <td>0.518790</td>\n",
       "      <td>0.912225</td>\n",
       "      <td>0.608234</td>\n",
       "      <td>0.723782</td>\n",
       "      <td>0.733591</td>\n",
       "    </tr>\n",
       "    <tr>\n",
       "      <th>1</th>\n",
       "      <td>0.546092</td>\n",
       "      <td>0.653975</td>\n",
       "      <td>0.065575</td>\n",
       "      <td>0.227772</td>\n",
       "      <td>0.845269</td>\n",
       "      <td>0.837066</td>\n",
       "      <td>0.272379</td>\n",
       "      <td>0.331679</td>\n",
       "      <td>0.429297</td>\n",
       "      <td>0.367422</td>\n",
       "    </tr>\n",
       "    <tr>\n",
       "      <th>2</th>\n",
       "      <td>0.336714</td>\n",
       "      <td>0.538842</td>\n",
       "      <td>0.192801</td>\n",
       "      <td>0.553563</td>\n",
       "      <td>0.074515</td>\n",
       "      <td>0.332993</td>\n",
       "      <td>0.365792</td>\n",
       "      <td>0.861309</td>\n",
       "      <td>0.899017</td>\n",
       "      <td>0.088600</td>\n",
       "    </tr>\n",
       "    <tr>\n",
       "      <th>3</th>\n",
       "      <td>0.092108</td>\n",
       "      <td>0.995017</td>\n",
       "      <td>0.014465</td>\n",
       "      <td>0.176371</td>\n",
       "      <td>0.241530</td>\n",
       "      <td>0.514724</td>\n",
       "      <td>0.562208</td>\n",
       "      <td>0.158963</td>\n",
       "      <td>0.073715</td>\n",
       "      <td>0.208463</td>\n",
       "    </tr>\n",
       "    <tr>\n",
       "      <th>4</th>\n",
       "      <td>0.325261</td>\n",
       "      <td>0.805968</td>\n",
       "      <td>0.957033</td>\n",
       "      <td>0.331665</td>\n",
       "      <td>0.307923</td>\n",
       "      <td>0.355315</td>\n",
       "      <td>0.501899</td>\n",
       "      <td>0.558449</td>\n",
       "      <td>0.885169</td>\n",
       "      <td>0.182754</td>\n",
       "    </tr>\n",
       "  </tbody>\n",
       "</table>\n",
       "</div>"
      ],
      "text/plain": [
       "       Col1      Col2      Col3      Col4      Col5      Col6      Col7  \\\n",
       "0  0.263995  0.764929  0.138424  0.935242  0.605867  0.518790  0.912225   \n",
       "1  0.546092  0.653975  0.065575  0.227772  0.845269  0.837066  0.272379   \n",
       "2  0.336714  0.538842  0.192801  0.553563  0.074515  0.332993  0.365792   \n",
       "3  0.092108  0.995017  0.014465  0.176371  0.241530  0.514724  0.562208   \n",
       "4  0.325261  0.805968  0.957033  0.331665  0.307923  0.355315  0.501899   \n",
       "\n",
       "       Col8      Col9     Col10  \n",
       "0  0.608234  0.723782  0.733591  \n",
       "1  0.331679  0.429297  0.367422  \n",
       "2  0.861309  0.899017  0.088600  \n",
       "3  0.158963  0.073715  0.208463  \n",
       "4  0.558449  0.885169  0.182754  "
      ]
     },
     "metadata": {},
     "output_type": "display_data"
    }
   ],
   "source": [
    "from pycaret.datasets import get_data\n",
    "data = get_data('anomaly')"
   ]
  },
  {
   "cell_type": "code",
   "execution_count": 47,
   "metadata": {},
   "outputs": [
    {
     "data": {
      "text/html": [
       "<div>\n",
       "<style scoped>\n",
       "    .dataframe tbody tr th:only-of-type {\n",
       "        vertical-align: middle;\n",
       "    }\n",
       "\n",
       "    .dataframe tbody tr th {\n",
       "        vertical-align: top;\n",
       "    }\n",
       "\n",
       "    .dataframe thead th {\n",
       "        text-align: right;\n",
       "    }\n",
       "</style>\n",
       "<table border=\"1\" class=\"dataframe\">\n",
       "  <thead>\n",
       "    <tr style=\"text-align: right;\">\n",
       "      <th></th>\n",
       "      <th>count</th>\n",
       "      <th>mean</th>\n",
       "      <th>std</th>\n",
       "      <th>min</th>\n",
       "      <th>25%</th>\n",
       "      <th>50%</th>\n",
       "      <th>75%</th>\n",
       "      <th>max</th>\n",
       "    </tr>\n",
       "  </thead>\n",
       "  <tbody>\n",
       "    <tr>\n",
       "      <th>Col1</th>\n",
       "      <td>1000.0</td>\n",
       "      <td>0.491362</td>\n",
       "      <td>0.259138</td>\n",
       "      <td>0.000000</td>\n",
       "      <td>0.287458</td>\n",
       "      <td>0.492070</td>\n",
       "      <td>0.694192</td>\n",
       "      <td>0.994431</td>\n",
       "    </tr>\n",
       "    <tr>\n",
       "      <th>Col2</th>\n",
       "      <td>1000.0</td>\n",
       "      <td>0.490200</td>\n",
       "      <td>0.251931</td>\n",
       "      <td>0.000000</td>\n",
       "      <td>0.291449</td>\n",
       "      <td>0.488656</td>\n",
       "      <td>0.686531</td>\n",
       "      <td>1.000000</td>\n",
       "    </tr>\n",
       "    <tr>\n",
       "      <th>Col3</th>\n",
       "      <td>1000.0</td>\n",
       "      <td>0.509077</td>\n",
       "      <td>0.256606</td>\n",
       "      <td>0.000000</td>\n",
       "      <td>0.337802</td>\n",
       "      <td>0.510077</td>\n",
       "      <td>0.686914</td>\n",
       "      <td>1.000000</td>\n",
       "    </tr>\n",
       "    <tr>\n",
       "      <th>Col4</th>\n",
       "      <td>1000.0</td>\n",
       "      <td>0.497362</td>\n",
       "      <td>0.263562</td>\n",
       "      <td>0.000000</td>\n",
       "      <td>0.256147</td>\n",
       "      <td>0.497537</td>\n",
       "      <td>0.731949</td>\n",
       "      <td>1.000000</td>\n",
       "    </tr>\n",
       "    <tr>\n",
       "      <th>Col5</th>\n",
       "      <td>1000.0</td>\n",
       "      <td>0.586120</td>\n",
       "      <td>0.334658</td>\n",
       "      <td>0.000000</td>\n",
       "      <td>0.169680</td>\n",
       "      <td>0.782019</td>\n",
       "      <td>0.847956</td>\n",
       "      <td>1.000000</td>\n",
       "    </tr>\n",
       "    <tr>\n",
       "      <th>Col6</th>\n",
       "      <td>1000.0</td>\n",
       "      <td>0.514636</td>\n",
       "      <td>0.317470</td>\n",
       "      <td>0.000000</td>\n",
       "      <td>0.142587</td>\n",
       "      <td>0.537953</td>\n",
       "      <td>0.856512</td>\n",
       "      <td>1.000000</td>\n",
       "    </tr>\n",
       "    <tr>\n",
       "      <th>Col7</th>\n",
       "      <td>1000.0</td>\n",
       "      <td>0.508270</td>\n",
       "      <td>0.278483</td>\n",
       "      <td>0.000000</td>\n",
       "      <td>0.246021</td>\n",
       "      <td>0.465679</td>\n",
       "      <td>0.804935</td>\n",
       "      <td>1.000000</td>\n",
       "    </tr>\n",
       "    <tr>\n",
       "      <th>Col8</th>\n",
       "      <td>1000.0</td>\n",
       "      <td>0.457541</td>\n",
       "      <td>0.220129</td>\n",
       "      <td>0.000000</td>\n",
       "      <td>0.245539</td>\n",
       "      <td>0.515619</td>\n",
       "      <td>0.626757</td>\n",
       "      <td>1.000000</td>\n",
       "    </tr>\n",
       "    <tr>\n",
       "      <th>Col9</th>\n",
       "      <td>1000.0</td>\n",
       "      <td>0.477685</td>\n",
       "      <td>0.241432</td>\n",
       "      <td>0.000000</td>\n",
       "      <td>0.291452</td>\n",
       "      <td>0.387753</td>\n",
       "      <td>0.723674</td>\n",
       "      <td>0.988732</td>\n",
       "    </tr>\n",
       "    <tr>\n",
       "      <th>Col10</th>\n",
       "      <td>1000.0</td>\n",
       "      <td>0.495760</td>\n",
       "      <td>0.211677</td>\n",
       "      <td>0.014495</td>\n",
       "      <td>0.329904</td>\n",
       "      <td>0.488891</td>\n",
       "      <td>0.659528</td>\n",
       "      <td>1.000000</td>\n",
       "    </tr>\n",
       "  </tbody>\n",
       "</table>\n",
       "</div>"
      ],
      "text/plain": [
       "        count      mean       std       min       25%       50%       75%  \\\n",
       "Col1   1000.0  0.491362  0.259138  0.000000  0.287458  0.492070  0.694192   \n",
       "Col2   1000.0  0.490200  0.251931  0.000000  0.291449  0.488656  0.686531   \n",
       "Col3   1000.0  0.509077  0.256606  0.000000  0.337802  0.510077  0.686914   \n",
       "Col4   1000.0  0.497362  0.263562  0.000000  0.256147  0.497537  0.731949   \n",
       "Col5   1000.0  0.586120  0.334658  0.000000  0.169680  0.782019  0.847956   \n",
       "Col6   1000.0  0.514636  0.317470  0.000000  0.142587  0.537953  0.856512   \n",
       "Col7   1000.0  0.508270  0.278483  0.000000  0.246021  0.465679  0.804935   \n",
       "Col8   1000.0  0.457541  0.220129  0.000000  0.245539  0.515619  0.626757   \n",
       "Col9   1000.0  0.477685  0.241432  0.000000  0.291452  0.387753  0.723674   \n",
       "Col10  1000.0  0.495760  0.211677  0.014495  0.329904  0.488891  0.659528   \n",
       "\n",
       "            max  \n",
       "Col1   0.994431  \n",
       "Col2   1.000000  \n",
       "Col3   1.000000  \n",
       "Col4   1.000000  \n",
       "Col5   1.000000  \n",
       "Col6   1.000000  \n",
       "Col7   1.000000  \n",
       "Col8   1.000000  \n",
       "Col9   0.988732  \n",
       "Col10  1.000000  "
      ]
     },
     "execution_count": 47,
     "metadata": {},
     "output_type": "execute_result"
    }
   ],
   "source": [
    "data.describe().transpose()"
   ]
  },
  {
   "cell_type": "code",
   "execution_count": null,
   "metadata": {},
   "outputs": [],
   "source": []
  },
  {
   "cell_type": "code",
   "execution_count": 36,
   "metadata": {},
   "outputs": [
    {
     "data": {
      "text/plain": [
       "pandas.core.frame.DataFrame"
      ]
     },
     "execution_count": 36,
     "metadata": {},
     "output_type": "execute_result"
    }
   ],
   "source": [
    "type(data)"
   ]
  },
  {
   "cell_type": "code",
   "execution_count": null,
   "metadata": {},
   "outputs": [],
   "source": []
  },
  {
   "cell_type": "code",
   "execution_count": 35,
   "metadata": {},
   "outputs": [
    {
     "data": {
      "text/plain": [
       "(1000, 10)"
      ]
     },
     "execution_count": 35,
     "metadata": {},
     "output_type": "execute_result"
    }
   ],
   "source": [
    "data.shape"
   ]
  },
  {
   "cell_type": "code",
   "execution_count": 48,
   "metadata": {},
   "outputs": [
    {
     "data": {
      "text/html": [
       "<style  type=\"text/css\" >\n",
       "#T_59ff6_row11_col1{\n",
       "            background-color:  lightgreen;\n",
       "        }</style><table id=\"T_59ff6_\" ><thead>    <tr>        <th class=\"blank level0\" ></th>        <th class=\"col_heading level0 col0\" >Description</th>        <th class=\"col_heading level0 col1\" >Value</th>    </tr></thead><tbody>\n",
       "                <tr>\n",
       "                        <th id=\"T_59ff6_level0_row0\" class=\"row_heading level0 row0\" >0</th>\n",
       "                        <td id=\"T_59ff6_row0_col0\" class=\"data row0 col0\" >session_id</td>\n",
       "                        <td id=\"T_59ff6_row0_col1\" class=\"data row0 col1\" >123</td>\n",
       "            </tr>\n",
       "            <tr>\n",
       "                        <th id=\"T_59ff6_level0_row1\" class=\"row_heading level0 row1\" >1</th>\n",
       "                        <td id=\"T_59ff6_row1_col0\" class=\"data row1 col0\" >Original Data</td>\n",
       "                        <td id=\"T_59ff6_row1_col1\" class=\"data row1 col1\" >(1000, 10)</td>\n",
       "            </tr>\n",
       "            <tr>\n",
       "                        <th id=\"T_59ff6_level0_row2\" class=\"row_heading level0 row2\" >2</th>\n",
       "                        <td id=\"T_59ff6_row2_col0\" class=\"data row2 col0\" >Missing Values</td>\n",
       "                        <td id=\"T_59ff6_row2_col1\" class=\"data row2 col1\" >False</td>\n",
       "            </tr>\n",
       "            <tr>\n",
       "                        <th id=\"T_59ff6_level0_row3\" class=\"row_heading level0 row3\" >3</th>\n",
       "                        <td id=\"T_59ff6_row3_col0\" class=\"data row3 col0\" >Numeric Features</td>\n",
       "                        <td id=\"T_59ff6_row3_col1\" class=\"data row3 col1\" >10</td>\n",
       "            </tr>\n",
       "            <tr>\n",
       "                        <th id=\"T_59ff6_level0_row4\" class=\"row_heading level0 row4\" >4</th>\n",
       "                        <td id=\"T_59ff6_row4_col0\" class=\"data row4 col0\" >Categorical Features</td>\n",
       "                        <td id=\"T_59ff6_row4_col1\" class=\"data row4 col1\" >0</td>\n",
       "            </tr>\n",
       "            <tr>\n",
       "                        <th id=\"T_59ff6_level0_row5\" class=\"row_heading level0 row5\" >5</th>\n",
       "                        <td id=\"T_59ff6_row5_col0\" class=\"data row5 col0\" >Ordinal Features</td>\n",
       "                        <td id=\"T_59ff6_row5_col1\" class=\"data row5 col1\" >False</td>\n",
       "            </tr>\n",
       "            <tr>\n",
       "                        <th id=\"T_59ff6_level0_row6\" class=\"row_heading level0 row6\" >6</th>\n",
       "                        <td id=\"T_59ff6_row6_col0\" class=\"data row6 col0\" >High Cardinality Features</td>\n",
       "                        <td id=\"T_59ff6_row6_col1\" class=\"data row6 col1\" >False</td>\n",
       "            </tr>\n",
       "            <tr>\n",
       "                        <th id=\"T_59ff6_level0_row7\" class=\"row_heading level0 row7\" >7</th>\n",
       "                        <td id=\"T_59ff6_row7_col0\" class=\"data row7 col0\" >High Cardinality Method</td>\n",
       "                        <td id=\"T_59ff6_row7_col1\" class=\"data row7 col1\" >None</td>\n",
       "            </tr>\n",
       "            <tr>\n",
       "                        <th id=\"T_59ff6_level0_row8\" class=\"row_heading level0 row8\" >8</th>\n",
       "                        <td id=\"T_59ff6_row8_col0\" class=\"data row8 col0\" >Transformed Data</td>\n",
       "                        <td id=\"T_59ff6_row8_col1\" class=\"data row8 col1\" >(1000, 10)</td>\n",
       "            </tr>\n",
       "            <tr>\n",
       "                        <th id=\"T_59ff6_level0_row9\" class=\"row_heading level0 row9\" >9</th>\n",
       "                        <td id=\"T_59ff6_row9_col0\" class=\"data row9 col0\" >CPU Jobs</td>\n",
       "                        <td id=\"T_59ff6_row9_col1\" class=\"data row9 col1\" >-1</td>\n",
       "            </tr>\n",
       "            <tr>\n",
       "                        <th id=\"T_59ff6_level0_row10\" class=\"row_heading level0 row10\" >10</th>\n",
       "                        <td id=\"T_59ff6_row10_col0\" class=\"data row10 col0\" >Use GPU</td>\n",
       "                        <td id=\"T_59ff6_row10_col1\" class=\"data row10 col1\" >False</td>\n",
       "            </tr>\n",
       "            <tr>\n",
       "                        <th id=\"T_59ff6_level0_row11\" class=\"row_heading level0 row11\" >11</th>\n",
       "                        <td id=\"T_59ff6_row11_col0\" class=\"data row11 col0\" >Log Experiment</td>\n",
       "                        <td id=\"T_59ff6_row11_col1\" class=\"data row11 col1\" >True</td>\n",
       "            </tr>\n",
       "            <tr>\n",
       "                        <th id=\"T_59ff6_level0_row12\" class=\"row_heading level0 row12\" >12</th>\n",
       "                        <td id=\"T_59ff6_row12_col0\" class=\"data row12 col0\" >Experiment Name</td>\n",
       "                        <td id=\"T_59ff6_row12_col1\" class=\"data row12 col1\" >anomaly-demo</td>\n",
       "            </tr>\n",
       "            <tr>\n",
       "                        <th id=\"T_59ff6_level0_row13\" class=\"row_heading level0 row13\" >13</th>\n",
       "                        <td id=\"T_59ff6_row13_col0\" class=\"data row13 col0\" >USI</td>\n",
       "                        <td id=\"T_59ff6_row13_col1\" class=\"data row13 col1\" >5118</td>\n",
       "            </tr>\n",
       "            <tr>\n",
       "                        <th id=\"T_59ff6_level0_row14\" class=\"row_heading level0 row14\" >14</th>\n",
       "                        <td id=\"T_59ff6_row14_col0\" class=\"data row14 col0\" >Imputation Type</td>\n",
       "                        <td id=\"T_59ff6_row14_col1\" class=\"data row14 col1\" >simple</td>\n",
       "            </tr>\n",
       "            <tr>\n",
       "                        <th id=\"T_59ff6_level0_row15\" class=\"row_heading level0 row15\" >15</th>\n",
       "                        <td id=\"T_59ff6_row15_col0\" class=\"data row15 col0\" >Iterative Imputation Iteration</td>\n",
       "                        <td id=\"T_59ff6_row15_col1\" class=\"data row15 col1\" >None</td>\n",
       "            </tr>\n",
       "            <tr>\n",
       "                        <th id=\"T_59ff6_level0_row16\" class=\"row_heading level0 row16\" >16</th>\n",
       "                        <td id=\"T_59ff6_row16_col0\" class=\"data row16 col0\" >Numeric Imputer</td>\n",
       "                        <td id=\"T_59ff6_row16_col1\" class=\"data row16 col1\" >mean</td>\n",
       "            </tr>\n",
       "            <tr>\n",
       "                        <th id=\"T_59ff6_level0_row17\" class=\"row_heading level0 row17\" >17</th>\n",
       "                        <td id=\"T_59ff6_row17_col0\" class=\"data row17 col0\" >Iterative Imputation Numeric Model</td>\n",
       "                        <td id=\"T_59ff6_row17_col1\" class=\"data row17 col1\" >None</td>\n",
       "            </tr>\n",
       "            <tr>\n",
       "                        <th id=\"T_59ff6_level0_row18\" class=\"row_heading level0 row18\" >18</th>\n",
       "                        <td id=\"T_59ff6_row18_col0\" class=\"data row18 col0\" >Categorical Imputer</td>\n",
       "                        <td id=\"T_59ff6_row18_col1\" class=\"data row18 col1\" >mode</td>\n",
       "            </tr>\n",
       "            <tr>\n",
       "                        <th id=\"T_59ff6_level0_row19\" class=\"row_heading level0 row19\" >19</th>\n",
       "                        <td id=\"T_59ff6_row19_col0\" class=\"data row19 col0\" >Iterative Imputation Categorical Model</td>\n",
       "                        <td id=\"T_59ff6_row19_col1\" class=\"data row19 col1\" >None</td>\n",
       "            </tr>\n",
       "            <tr>\n",
       "                        <th id=\"T_59ff6_level0_row20\" class=\"row_heading level0 row20\" >20</th>\n",
       "                        <td id=\"T_59ff6_row20_col0\" class=\"data row20 col0\" >Unknown Categoricals Handling</td>\n",
       "                        <td id=\"T_59ff6_row20_col1\" class=\"data row20 col1\" >least_frequent</td>\n",
       "            </tr>\n",
       "            <tr>\n",
       "                        <th id=\"T_59ff6_level0_row21\" class=\"row_heading level0 row21\" >21</th>\n",
       "                        <td id=\"T_59ff6_row21_col0\" class=\"data row21 col0\" >Normalize</td>\n",
       "                        <td id=\"T_59ff6_row21_col1\" class=\"data row21 col1\" >False</td>\n",
       "            </tr>\n",
       "            <tr>\n",
       "                        <th id=\"T_59ff6_level0_row22\" class=\"row_heading level0 row22\" >22</th>\n",
       "                        <td id=\"T_59ff6_row22_col0\" class=\"data row22 col0\" >Normalize Method</td>\n",
       "                        <td id=\"T_59ff6_row22_col1\" class=\"data row22 col1\" >None</td>\n",
       "            </tr>\n",
       "            <tr>\n",
       "                        <th id=\"T_59ff6_level0_row23\" class=\"row_heading level0 row23\" >23</th>\n",
       "                        <td id=\"T_59ff6_row23_col0\" class=\"data row23 col0\" >Transformation</td>\n",
       "                        <td id=\"T_59ff6_row23_col1\" class=\"data row23 col1\" >False</td>\n",
       "            </tr>\n",
       "            <tr>\n",
       "                        <th id=\"T_59ff6_level0_row24\" class=\"row_heading level0 row24\" >24</th>\n",
       "                        <td id=\"T_59ff6_row24_col0\" class=\"data row24 col0\" >Transformation Method</td>\n",
       "                        <td id=\"T_59ff6_row24_col1\" class=\"data row24 col1\" >None</td>\n",
       "            </tr>\n",
       "            <tr>\n",
       "                        <th id=\"T_59ff6_level0_row25\" class=\"row_heading level0 row25\" >25</th>\n",
       "                        <td id=\"T_59ff6_row25_col0\" class=\"data row25 col0\" >PCA</td>\n",
       "                        <td id=\"T_59ff6_row25_col1\" class=\"data row25 col1\" >False</td>\n",
       "            </tr>\n",
       "            <tr>\n",
       "                        <th id=\"T_59ff6_level0_row26\" class=\"row_heading level0 row26\" >26</th>\n",
       "                        <td id=\"T_59ff6_row26_col0\" class=\"data row26 col0\" >PCA Method</td>\n",
       "                        <td id=\"T_59ff6_row26_col1\" class=\"data row26 col1\" >None</td>\n",
       "            </tr>\n",
       "            <tr>\n",
       "                        <th id=\"T_59ff6_level0_row27\" class=\"row_heading level0 row27\" >27</th>\n",
       "                        <td id=\"T_59ff6_row27_col0\" class=\"data row27 col0\" >PCA Components</td>\n",
       "                        <td id=\"T_59ff6_row27_col1\" class=\"data row27 col1\" >None</td>\n",
       "            </tr>\n",
       "            <tr>\n",
       "                        <th id=\"T_59ff6_level0_row28\" class=\"row_heading level0 row28\" >28</th>\n",
       "                        <td id=\"T_59ff6_row28_col0\" class=\"data row28 col0\" >Ignore Low Variance</td>\n",
       "                        <td id=\"T_59ff6_row28_col1\" class=\"data row28 col1\" >False</td>\n",
       "            </tr>\n",
       "            <tr>\n",
       "                        <th id=\"T_59ff6_level0_row29\" class=\"row_heading level0 row29\" >29</th>\n",
       "                        <td id=\"T_59ff6_row29_col0\" class=\"data row29 col0\" >Combine Rare Levels</td>\n",
       "                        <td id=\"T_59ff6_row29_col1\" class=\"data row29 col1\" >False</td>\n",
       "            </tr>\n",
       "            <tr>\n",
       "                        <th id=\"T_59ff6_level0_row30\" class=\"row_heading level0 row30\" >30</th>\n",
       "                        <td id=\"T_59ff6_row30_col0\" class=\"data row30 col0\" >Rare Level Threshold</td>\n",
       "                        <td id=\"T_59ff6_row30_col1\" class=\"data row30 col1\" >None</td>\n",
       "            </tr>\n",
       "            <tr>\n",
       "                        <th id=\"T_59ff6_level0_row31\" class=\"row_heading level0 row31\" >31</th>\n",
       "                        <td id=\"T_59ff6_row31_col0\" class=\"data row31 col0\" >Numeric Binning</td>\n",
       "                        <td id=\"T_59ff6_row31_col1\" class=\"data row31 col1\" >False</td>\n",
       "            </tr>\n",
       "            <tr>\n",
       "                        <th id=\"T_59ff6_level0_row32\" class=\"row_heading level0 row32\" >32</th>\n",
       "                        <td id=\"T_59ff6_row32_col0\" class=\"data row32 col0\" >Remove Outliers</td>\n",
       "                        <td id=\"T_59ff6_row32_col1\" class=\"data row32 col1\" >False</td>\n",
       "            </tr>\n",
       "            <tr>\n",
       "                        <th id=\"T_59ff6_level0_row33\" class=\"row_heading level0 row33\" >33</th>\n",
       "                        <td id=\"T_59ff6_row33_col0\" class=\"data row33 col0\" >Outliers Threshold</td>\n",
       "                        <td id=\"T_59ff6_row33_col1\" class=\"data row33 col1\" >None</td>\n",
       "            </tr>\n",
       "            <tr>\n",
       "                        <th id=\"T_59ff6_level0_row34\" class=\"row_heading level0 row34\" >34</th>\n",
       "                        <td id=\"T_59ff6_row34_col0\" class=\"data row34 col0\" >Remove Multicollinearity</td>\n",
       "                        <td id=\"T_59ff6_row34_col1\" class=\"data row34 col1\" >False</td>\n",
       "            </tr>\n",
       "            <tr>\n",
       "                        <th id=\"T_59ff6_level0_row35\" class=\"row_heading level0 row35\" >35</th>\n",
       "                        <td id=\"T_59ff6_row35_col0\" class=\"data row35 col0\" >Multicollinearity Threshold</td>\n",
       "                        <td id=\"T_59ff6_row35_col1\" class=\"data row35 col1\" >None</td>\n",
       "            </tr>\n",
       "            <tr>\n",
       "                        <th id=\"T_59ff6_level0_row36\" class=\"row_heading level0 row36\" >36</th>\n",
       "                        <td id=\"T_59ff6_row36_col0\" class=\"data row36 col0\" >Clustering</td>\n",
       "                        <td id=\"T_59ff6_row36_col1\" class=\"data row36 col1\" >False</td>\n",
       "            </tr>\n",
       "            <tr>\n",
       "                        <th id=\"T_59ff6_level0_row37\" class=\"row_heading level0 row37\" >37</th>\n",
       "                        <td id=\"T_59ff6_row37_col0\" class=\"data row37 col0\" >Clustering Iteration</td>\n",
       "                        <td id=\"T_59ff6_row37_col1\" class=\"data row37 col1\" >None</td>\n",
       "            </tr>\n",
       "            <tr>\n",
       "                        <th id=\"T_59ff6_level0_row38\" class=\"row_heading level0 row38\" >38</th>\n",
       "                        <td id=\"T_59ff6_row38_col0\" class=\"data row38 col0\" >Polynomial Features</td>\n",
       "                        <td id=\"T_59ff6_row38_col1\" class=\"data row38 col1\" >False</td>\n",
       "            </tr>\n",
       "            <tr>\n",
       "                        <th id=\"T_59ff6_level0_row39\" class=\"row_heading level0 row39\" >39</th>\n",
       "                        <td id=\"T_59ff6_row39_col0\" class=\"data row39 col0\" >Polynomial Degree</td>\n",
       "                        <td id=\"T_59ff6_row39_col1\" class=\"data row39 col1\" >None</td>\n",
       "            </tr>\n",
       "            <tr>\n",
       "                        <th id=\"T_59ff6_level0_row40\" class=\"row_heading level0 row40\" >40</th>\n",
       "                        <td id=\"T_59ff6_row40_col0\" class=\"data row40 col0\" >Trignometry Features</td>\n",
       "                        <td id=\"T_59ff6_row40_col1\" class=\"data row40 col1\" >False</td>\n",
       "            </tr>\n",
       "            <tr>\n",
       "                        <th id=\"T_59ff6_level0_row41\" class=\"row_heading level0 row41\" >41</th>\n",
       "                        <td id=\"T_59ff6_row41_col0\" class=\"data row41 col0\" >Polynomial Threshold</td>\n",
       "                        <td id=\"T_59ff6_row41_col1\" class=\"data row41 col1\" >None</td>\n",
       "            </tr>\n",
       "            <tr>\n",
       "                        <th id=\"T_59ff6_level0_row42\" class=\"row_heading level0 row42\" >42</th>\n",
       "                        <td id=\"T_59ff6_row42_col0\" class=\"data row42 col0\" >Group Features</td>\n",
       "                        <td id=\"T_59ff6_row42_col1\" class=\"data row42 col1\" >False</td>\n",
       "            </tr>\n",
       "            <tr>\n",
       "                        <th id=\"T_59ff6_level0_row43\" class=\"row_heading level0 row43\" >43</th>\n",
       "                        <td id=\"T_59ff6_row43_col0\" class=\"data row43 col0\" >Feature Selection</td>\n",
       "                        <td id=\"T_59ff6_row43_col1\" class=\"data row43 col1\" >False</td>\n",
       "            </tr>\n",
       "            <tr>\n",
       "                        <th id=\"T_59ff6_level0_row44\" class=\"row_heading level0 row44\" >44</th>\n",
       "                        <td id=\"T_59ff6_row44_col0\" class=\"data row44 col0\" >Features Selection Threshold</td>\n",
       "                        <td id=\"T_59ff6_row44_col1\" class=\"data row44 col1\" >None</td>\n",
       "            </tr>\n",
       "            <tr>\n",
       "                        <th id=\"T_59ff6_level0_row45\" class=\"row_heading level0 row45\" >45</th>\n",
       "                        <td id=\"T_59ff6_row45_col0\" class=\"data row45 col0\" >Feature Interaction</td>\n",
       "                        <td id=\"T_59ff6_row45_col1\" class=\"data row45 col1\" >False</td>\n",
       "            </tr>\n",
       "            <tr>\n",
       "                        <th id=\"T_59ff6_level0_row46\" class=\"row_heading level0 row46\" >46</th>\n",
       "                        <td id=\"T_59ff6_row46_col0\" class=\"data row46 col0\" >Feature Ratio</td>\n",
       "                        <td id=\"T_59ff6_row46_col1\" class=\"data row46 col1\" >False</td>\n",
       "            </tr>\n",
       "            <tr>\n",
       "                        <th id=\"T_59ff6_level0_row47\" class=\"row_heading level0 row47\" >47</th>\n",
       "                        <td id=\"T_59ff6_row47_col0\" class=\"data row47 col0\" >Interaction Threshold</td>\n",
       "                        <td id=\"T_59ff6_row47_col1\" class=\"data row47 col1\" >None</td>\n",
       "            </tr>\n",
       "    </tbody></table>"
      ],
      "text/plain": [
       "<pandas.io.formats.style.Styler at 0x26a502c5a48>"
      ]
     },
     "metadata": {},
     "output_type": "display_data"
    }
   ],
   "source": [
    "from pycaret.anomaly import *\n",
    "s = setup(data, session_id = 123, log_experiment = True, experiment_name = 'anomaly-demo')"
   ]
  },
  {
   "cell_type": "code",
   "execution_count": 49,
   "metadata": {},
   "outputs": [
    {
     "data": {
      "text/html": [
       "<div>\n",
       "<style scoped>\n",
       "    .dataframe tbody tr th:only-of-type {\n",
       "        vertical-align: middle;\n",
       "    }\n",
       "\n",
       "    .dataframe tbody tr th {\n",
       "        vertical-align: top;\n",
       "    }\n",
       "\n",
       "    .dataframe thead th {\n",
       "        text-align: right;\n",
       "    }\n",
       "</style>\n",
       "<table border=\"1\" class=\"dataframe\">\n",
       "  <thead>\n",
       "    <tr style=\"text-align: right;\">\n",
       "      <th></th>\n",
       "      <th>Name</th>\n",
       "      <th>Reference</th>\n",
       "    </tr>\n",
       "    <tr>\n",
       "      <th>ID</th>\n",
       "      <th></th>\n",
       "      <th></th>\n",
       "    </tr>\n",
       "  </thead>\n",
       "  <tbody>\n",
       "    <tr>\n",
       "      <th>abod</th>\n",
       "      <td>Angle-base Outlier Detection</td>\n",
       "      <td>pyod.models.abod.ABOD</td>\n",
       "    </tr>\n",
       "    <tr>\n",
       "      <th>cluster</th>\n",
       "      <td>Clustering-Based Local Outlier</td>\n",
       "      <td>pyod.models.cblof.CBLOF</td>\n",
       "    </tr>\n",
       "    <tr>\n",
       "      <th>cof</th>\n",
       "      <td>Connectivity-Based Local Outlier</td>\n",
       "      <td>pyod.models.cof.COF</td>\n",
       "    </tr>\n",
       "    <tr>\n",
       "      <th>iforest</th>\n",
       "      <td>Isolation Forest</td>\n",
       "      <td>pyod.models.iforest.IForest</td>\n",
       "    </tr>\n",
       "    <tr>\n",
       "      <th>histogram</th>\n",
       "      <td>Histogram-based Outlier Detection</td>\n",
       "      <td>pyod.models.hbos.HBOS</td>\n",
       "    </tr>\n",
       "    <tr>\n",
       "      <th>knn</th>\n",
       "      <td>K-Nearest Neighbors Detector</td>\n",
       "      <td>pyod.models.knn.KNN</td>\n",
       "    </tr>\n",
       "    <tr>\n",
       "      <th>lof</th>\n",
       "      <td>Local Outlier Factor</td>\n",
       "      <td>pyod.models.lof.LOF</td>\n",
       "    </tr>\n",
       "    <tr>\n",
       "      <th>svm</th>\n",
       "      <td>One-class SVM detector</td>\n",
       "      <td>pyod.models.ocsvm.OCSVM</td>\n",
       "    </tr>\n",
       "    <tr>\n",
       "      <th>pca</th>\n",
       "      <td>Principal Component Analysis</td>\n",
       "      <td>pyod.models.pca.PCA</td>\n",
       "    </tr>\n",
       "    <tr>\n",
       "      <th>mcd</th>\n",
       "      <td>Minimum Covariance Determinant</td>\n",
       "      <td>pyod.models.mcd.MCD</td>\n",
       "    </tr>\n",
       "    <tr>\n",
       "      <th>sod</th>\n",
       "      <td>Subspace Outlier Detection</td>\n",
       "      <td>pyod.models.sod.SOD</td>\n",
       "    </tr>\n",
       "    <tr>\n",
       "      <th>sos</th>\n",
       "      <td>Stochastic Outlier Selection</td>\n",
       "      <td>pyod.models.sos.SOS</td>\n",
       "    </tr>\n",
       "  </tbody>\n",
       "</table>\n",
       "</div>"
      ],
      "text/plain": [
       "                                        Name                    Reference\n",
       "ID                                                                       \n",
       "abod            Angle-base Outlier Detection        pyod.models.abod.ABOD\n",
       "cluster       Clustering-Based Local Outlier      pyod.models.cblof.CBLOF\n",
       "cof         Connectivity-Based Local Outlier          pyod.models.cof.COF\n",
       "iforest                     Isolation Forest  pyod.models.iforest.IForest\n",
       "histogram  Histogram-based Outlier Detection        pyod.models.hbos.HBOS\n",
       "knn             K-Nearest Neighbors Detector          pyod.models.knn.KNN\n",
       "lof                     Local Outlier Factor          pyod.models.lof.LOF\n",
       "svm                   One-class SVM detector      pyod.models.ocsvm.OCSVM\n",
       "pca             Principal Component Analysis          pyod.models.pca.PCA\n",
       "mcd           Minimum Covariance Determinant          pyod.models.mcd.MCD\n",
       "sod               Subspace Outlier Detection          pyod.models.sod.SOD\n",
       "sos             Stochastic Outlier Selection          pyod.models.sos.SOS"
      ]
     },
     "execution_count": 49,
     "metadata": {},
     "output_type": "execute_result"
    }
   ],
   "source": [
    "models()"
   ]
  },
  {
   "cell_type": "code",
   "execution_count": 50,
   "metadata": {},
   "outputs": [],
   "source": [
    "iforest = create_model('iforest')"
   ]
  },
  {
   "cell_type": "code",
   "execution_count": 60,
   "metadata": {},
   "outputs": [
    {
     "data": {
      "text/plain": [
       "IForest(behaviour='new', bootstrap=False, contamination=0.05,\n",
       "    max_features=1.0, max_samples='auto', n_estimators=100, n_jobs=-1,\n",
       "    random_state=123, verbose=0)"
      ]
     },
     "execution_count": 60,
     "metadata": {},
     "output_type": "execute_result"
    }
   ],
   "source": [
    "iforest"
   ]
  },
  {
   "cell_type": "code",
   "execution_count": 61,
   "metadata": {},
   "outputs": [
    {
     "data": {
      "text/plain": [
       "IForest(behaviour='new', bootstrap=False, contamination=0.05,\n",
       "    max_features=1.0, max_samples='auto', n_estimators=200, n_jobs=-1,\n",
       "    random_state=123, verbose=0)"
      ]
     },
     "execution_count": 61,
     "metadata": {},
     "output_type": "execute_result"
    }
   ],
   "source": [
    "iforest = create_model('iforest', n_estimators=200)\n",
    "iforest"
   ]
  },
  {
   "cell_type": "code",
   "execution_count": 56,
   "metadata": {},
   "outputs": [
    {
     "name": "stdout",
     "output_type": "stream",
     "text": [
      "KNN(algorithm='auto', contamination=0.05, leaf_size=30, method='largest',\n",
      "  metric='minkowski', metric_params=None, n_jobs=-1, n_neighbors=5, p=2,\n",
      "  radius=1.0)\n"
     ]
    }
   ],
   "source": [
    "knn = create_model('knn')\n",
    "print(knn)"
   ]
  },
  {
   "cell_type": "code",
   "execution_count": 63,
   "metadata": {},
   "outputs": [
    {
     "data": {
      "application/vnd.plotly.v1+json": {
       "config": {
        "plotlyServerURL": "https://plot.ly"
       },
       "data": [
        {
         "customdata": [
          [
           0.263995357
          ],
          [
           0.546092303
          ],
          [
           0.336714104
          ],
          [
           0.092107835
          ],
          [
           0.325261175
          ],
          [
           0.212464853
          ],
          [
           0.258565714
          ],
          [
           0.869236755
          ],
          [
           0.197077957
          ],
          [
           0.292984504
          ],
          [
           0.82178316
          ],
          [
           0.796622959
          ],
          [
           0.045577011
          ],
          [
           0.613660351
          ],
          [
           0.950744566
          ],
          [
           0.336346337
          ],
          [
           0.034440667
          ],
          [
           0.741544275
          ],
          [
           0.18443265
          ],
          [
           0.664514943
          ],
          [
           0.162824858
          ],
          [
           0.729838445
          ],
          [
           0.62837389
          ],
          [
           0.057883661
          ],
          [
           0.445534827
          ],
          [
           0.80183695
          ],
          [
           0.27709612
          ],
          [
           0.228634015
          ],
          [
           0.834860657
          ],
          [
           0.669766511
          ],
          [
           0.532527349
          ],
          [
           0.170459071
          ],
          [
           0.510288468
          ],
          [
           0.977561989
          ],
          [
           0.249775993
          ],
          [
           0.975500682
          ],
          [
           0.613701727
          ],
          [
           0.167420363
          ],
          [
           0.537472516
          ],
          [
           0.379899131
          ],
          [
           0.633897303
          ],
          [
           0.633960424
          ],
          [
           0.549974653
          ],
          [
           0.178172988
          ],
          [
           0.85563814
          ],
          [
           0.321796672
          ],
          [
           0.817490537
          ],
          [
           0.254879417
          ],
          [
           0.344140513
          ],
          [
           0.806145726
          ],
          [
           0.277081671
          ],
          [
           0.544328519
          ],
          [
           0.07708393
          ],
          [
           0.273081458
          ],
          [
           0.390877336
          ],
          [
           0.349621385
          ],
          [
           0.214549744
          ],
          [
           0.206075222
          ],
          [
           0.86461997
          ],
          [
           0.981708854
          ],
          [
           0.334829646
          ],
          [
           0.648387061
          ],
          [
           0.093643561
          ],
          [
           0.837802698
          ],
          [
           0.760343967
          ],
          [
           0.291404174
          ],
          [
           0.3413454
          ],
          [
           0.761112484
          ],
          [
           0.541899775
          ],
          [
           0.684176639
          ],
          [
           0.983535597
          ],
          [
           0.52081245
          ],
          [
           0.328227724
          ],
          [
           0.097157938
          ],
          [
           0.876088593
          ],
          [
           0.870214512
          ],
          [
           0.656086992
          ],
          [
           0.306791514
          ],
          [
           0.48126734
          ],
          [
           0.259559174
          ],
          [
           0.326123655
          ],
          [
           0.930568042
          ],
          [
           0.6583894
          ],
          [
           0.689992335
          ],
          [
           0.315781109
          ],
          [
           0.566905093
          ],
          [
           0.637526619
          ],
          [
           0.687540723
          ],
          [
           0.324300602
          ],
          [
           0.592704906
          ],
          [
           0.740253126
          ],
          [
           0.594032877
          ],
          [
           0.596452977
          ],
          [
           0.277680817
          ],
          [
           0.258329663
          ],
          [
           0.142460864
          ],
          [
           0.435533461
          ],
          [
           0.702499044
          ],
          [
           0.58897535
          ],
          [
           0.653304374
          ],
          [
           0.336968524
          ],
          [
           0.631244736
          ],
          [
           0.73530076
          ],
          [
           0.050390366
          ],
          [
           0.064264924
          ],
          [
           0.665359476
          ],
          [
           0.917835245
          ],
          [
           0.44651012
          ],
          [
           0.661938199
          ],
          [
           0.439359853
          ],
          [
           0.687572404
          ],
          [
           0.363462248
          ],
          [
           0.654262182
          ],
          [
           0.578553536
          ],
          [
           0.065927945
          ],
          [
           0.550148559
          ],
          [
           0.139182814
          ],
          [
           0.080004635
          ],
          [
           0.278228358
          ],
          [
           0.560124266
          ],
          [
           0.53639864
          ],
          [
           0.426531904
          ],
          [
           0.789109796
          ],
          [
           0.742900474
          ],
          [
           0.901692589
          ],
          [
           0.650337401
          ],
          [
           0.114057311
          ],
          [
           0.260812592
          ],
          [
           0.43991232
          ],
          [
           0.964409284
          ],
          [
           0.184401415
          ],
          [
           0.345145446
          ],
          [
           0.175894581
          ],
          [
           0.312514453
          ],
          [
           0.674131879
          ],
          [
           0.32825045
          ],
          [
           0.598231057
          ],
          [
           0.092598817
          ],
          [
           0.497916521
          ],
          [
           0.419776521
          ],
          [
           0.3121767
          ],
          [
           0.937857107
          ],
          [
           0.049030963
          ],
          [
           0.476104526
          ],
          [
           0.447397526
          ],
          [
           0.295806058
          ],
          [
           0.737363977
          ],
          [
           0.625896253
          ],
          [
           0.408813429
          ],
          [
           0.437511156
          ],
          [
           0.691351375
          ],
          [
           0.935555275
          ],
          [
           0.437846654
          ],
          [
           0.072217715
          ],
          [
           0.67636067
          ],
          [
           0.468883999
          ],
          [
           0.543820644
          ],
          [
           0.655522647
          ],
          [
           0.693528924
          ],
          [
           0.108878312
          ],
          [
           0.285463743
          ],
          [
           0
          ],
          [
           0.706495497
          ],
          [
           0.273530633
          ],
          [
           0.292320271
          ],
          [
           0.673984307
          ],
          [
           0.126121828
          ],
          [
           0.946707459
          ],
          [
           0.936338898
          ],
          [
           0.853755364
          ],
          [
           0.706071361
          ],
          [
           0.693682186
          ],
          [
           0.508527882
          ],
          [
           0.347170389
          ],
          [
           0.704154263
          ],
          [
           0.658730088
          ],
          [
           0.155841557
          ],
          [
           0.311085435
          ],
          [
           0.281135347
          ],
          [
           0.094587802
          ],
          [
           0.683260954
          ],
          [
           0.907729251
          ],
          [
           0.291512674
          ],
          [
           0.752734459
          ],
          [
           0.93482964
          ],
          [
           0.071413953
          ],
          [
           0.594896327
          ],
          [
           0.404672015
          ],
          [
           0.13837621
          ],
          [
           0.747338468
          ],
          [
           0.530882486
          ],
          [
           0.282649594
          ],
          [
           0.699335734
          ],
          [
           0.056111251
          ],
          [
           0.855234998
          ],
          [
           0.077895127
          ],
          [
           0.891649583
          ],
          [
           0.386742279
          ],
          [
           0.27113158
          ],
          [
           0.958888961
          ],
          [
           0.085120869
          ],
          [
           0.526902249
          ],
          [
           0.066577785
          ],
          [
           0.841506738
          ],
          [
           0.255342095
          ],
          [
           0.060545771
          ],
          [
           0.073385869
          ],
          [
           0.187493723
          ],
          [
           0.858365688
          ],
          [
           0.090640352
          ],
          [
           0.709725227
          ],
          [
           0.631300647
          ],
          [
           0.247504474
          ],
          [
           0.822843584
          ],
          [
           0.373476759
          ],
          [
           0.625538582
          ],
          [
           0.292951715
          ],
          [
           0.299730324
          ],
          [
           0.25121407
          ],
          [
           0.344480551
          ],
          [
           0.293064767
          ],
          [
           0.762803224
          ],
          [
           0.738470804
          ],
          [
           0.674883265
          ],
          [
           0.719151612
          ],
          [
           0.130980216
          ],
          [
           0.511328036
          ],
          [
           0.04492903
          ],
          [
           0.560914449
          ],
          [
           0.744040641
          ],
          [
           0.266961634
          ],
          [
           0.644231853
          ],
          [
           0.038113352
          ],
          [
           0.057155299
          ],
          [
           0.341392461
          ],
          [
           0.720463632
          ],
          [
           0.402878236
          ],
          [
           0.635148967
          ],
          [
           0.320729467
          ],
          [
           0.091209694
          ],
          [
           0.23414609
          ],
          [
           0.890221131
          ],
          [
           0.602170884
          ],
          [
           0.633652055
          ],
          [
           0.806240837
          ],
          [
           0.739731184
          ],
          [
           0.465231269
          ],
          [
           0.7321109
          ],
          [
           0.373874305
          ],
          [
           0.501587947
          ],
          [
           0.115383158
          ],
          [
           0.731946604
          ],
          [
           0.418298728
          ],
          [
           0.062259591
          ],
          [
           0.391496379
          ],
          [
           0.35984929
          ],
          [
           0.245235627
          ],
          [
           0.610028339
          ],
          [
           0.435403602
          ],
          [
           0.434309675
          ],
          [
           0.523763344
          ],
          [
           0.171187866
          ],
          [
           0.187734303
          ],
          [
           0.945014638
          ],
          [
           0.027851097
          ],
          [
           0.68445706
          ],
          [
           0.178014532
          ],
          [
           0.643427879
          ],
          [
           0.59588355
          ],
          [
           0.372361682
          ],
          [
           0.586103584
          ],
          [
           0.271658852
          ],
          [
           0.59951107
          ],
          [
           0.468363088
          ],
          [
           0.314515565
          ],
          [
           0.21893726
          ],
          [
           0.254716562
          ],
          [
           0.25612815
          ],
          [
           0.602259755
          ],
          [
           0.134381075
          ],
          [
           0.513887424
          ],
          [
           0.624241636
          ],
          [
           0.160251854
          ],
          [
           0.580708108
          ],
          [
           0.270540486
          ],
          [
           0.832919932
          ],
          [
           0.93032134
          ],
          [
           0.719157884
          ],
          [
           0.886720033
          ],
          [
           0.098792281
          ],
          [
           0.787174286
          ],
          [
           0.365592376
          ],
          [
           0.719576193
          ],
          [
           0.8058956
          ],
          [
           0.755578334
          ],
          [
           0.526005909
          ],
          [
           0.68880424
          ],
          [
           0.221115312
          ],
          [
           0.739369477
          ],
          [
           0.408440236
          ],
          [
           0.348926542
          ],
          [
           0.433713763
          ],
          [
           0.596496607
          ],
          [
           0.6942953
          ],
          [
           0.709030966
          ],
          [
           0.867652984
          ],
          [
           0.89332545
          ],
          [
           0.746020922
          ],
          [
           0.538284443
          ],
          [
           0.892219314
          ],
          [
           0.935175765
          ],
          [
           0.260527707
          ],
          [
           0.956780449
          ],
          [
           0.204932484
          ],
          [
           0.687733351
          ],
          [
           0.329063619
          ],
          [
           0.632149831
          ],
          [
           0.463744506
          ],
          [
           0.698859621
          ],
          [
           0.385446564
          ],
          [
           0.479975377
          ],
          [
           0.732279108
          ],
          [
           0.3813543
          ],
          [
           0.459326013
          ],
          [
           0.257401434
          ],
          [
           0.665014804
          ],
          [
           0.103399542
          ],
          [
           0.425284413
          ],
          [
           0.943529051
          ],
          [
           0.594750236
          ],
          [
           0.543776817
          ],
          [
           0.18203988
          ],
          [
           0.235842084
          ],
          [
           0.585984497
          ],
          [
           0.762013168
          ],
          [
           0.684982907
          ],
          [
           0.676936933
          ],
          [
           0.290184964
          ],
          [
           0.481068222
          ],
          [
           0.492766033
          ],
          [
           0.221856234
          ],
          [
           0.053875998
          ],
          [
           0.082751144
          ],
          [
           0.385366225
          ],
          [
           0.702513961
          ],
          [
           0.91553156
          ],
          [
           0.082087436
          ],
          [
           0.251280378
          ],
          [
           0.416721817
          ],
          [
           0.277032672
          ],
          [
           0.579539754
          ],
          [
           0.569363476
          ],
          [
           0.133399703
          ],
          [
           0.265045463
          ],
          [
           0.936571901
          ],
          [
           0.252618554
          ],
          [
           0.054033081
          ],
          [
           0.802481439
          ],
          [
           0.528197693
          ],
          [
           0.9515026
          ],
          [
           0.572121173
          ],
          [
           0.752938227
          ],
          [
           0.143857535
          ],
          [
           0.513484576
          ],
          [
           0.313322389
          ],
          [
           0.687797396
          ],
          [
           0.37705984
          ],
          [
           0.348226142
          ],
          [
           0.67763282
          ],
          [
           0.241387521
          ],
          [
           0.850650179
          ],
          [
           0.220348103
          ],
          [
           0.476445464
          ],
          [
           0.690324025
          ],
          [
           0.364695946
          ],
          [
           0.649249197
          ],
          [
           0.943701921
          ],
          [
           0.529645971
          ],
          [
           0.299097002
          ],
          [
           0.96696247
          ],
          [
           0.272005242
          ],
          [
           0.314161447
          ],
          [
           0.752020991
          ],
          [
           0.221882453
          ],
          [
           0.720332673
          ],
          [
           0.379204782
          ],
          [
           0.60168653
          ],
          [
           0.582932673
          ],
          [
           0.950809853
          ],
          [
           0.58830141
          ],
          [
           0.880887227
          ],
          [
           0.467857701
          ],
          [
           0.879902171
          ],
          [
           0.619844009
          ],
          [
           0.359002573
          ],
          [
           0.291511278
          ],
          [
           0.694157143
          ],
          [
           0.727960353
          ],
          [
           0.617703921
          ],
          [
           0.39581257
          ],
          [
           0.58317282
          ],
          [
           0.710332374
          ],
          [
           0.253753693
          ],
          [
           0.049412228
          ],
          [
           0.728378695
          ],
          [
           0.432432881
          ],
          [
           0.58612345
          ],
          [
           0.052342373
          ],
          [
           0.053483902
          ],
          [
           0.518729378
          ],
          [
           0.933040208
          ],
          [
           0.703554284
          ],
          [
           0.268989899
          ],
          [
           0.733006927
          ],
          [
           0.444352467
          ],
          [
           0.583394621
          ],
          [
           0.871172692
          ],
          [
           0.428767078
          ],
          [
           0.300460841
          ],
          [
           0.953329459
          ],
          [
           0.606443965
          ],
          [
           0.90986815
          ],
          [
           0.714896449
          ],
          [
           0.497349509
          ],
          [
           0.853097486
          ],
          [
           0.721804145
          ],
          [
           0.303467328
          ],
          [
           0.664485096
          ],
          [
           0.27978062
          ],
          [
           0.569481665
          ],
          [
           0.628628926
          ],
          [
           0.088368123
          ],
          [
           0.733567326
          ],
          [
           0.537436778
          ],
          [
           0.638593691
          ],
          [
           0.954726948
          ],
          [
           0.632202332
          ],
          [
           0.642134651
          ],
          [
           0.744653087
          ],
          [
           0.115714007
          ],
          [
           0.486250073
          ],
          [
           0.440356144
          ],
          [
           0.08272289
          ],
          [
           0.511591027
          ],
          [
           0.394627555
          ],
          [
           0.224394
          ],
          [
           0.626927584
          ],
          [
           0.290254057
          ],
          [
           0.779008053
          ],
          [
           0.86610579
          ],
          [
           0.873326081
          ],
          [
           0.49548916
          ],
          [
           0.594297695
          ],
          [
           0.918201584
          ],
          [
           0.577042754
          ],
          [
           0.019467671
          ],
          [
           0.670298282
          ],
          [
           0.546595316
          ],
          [
           0.591665146
          ],
          [
           0.42155819
          ],
          [
           0.685608559
          ],
          [
           0.340303024
          ],
          [
           0.675626741
          ],
          [
           0.319067345
          ],
          [
           0.388499664
          ],
          [
           0.706949589
          ],
          [
           0.559409515
          ],
          [
           0.687663508
          ],
          [
           0.708804554
          ],
          [
           0.681888094
          ],
          [
           0.422535109
          ],
          [
           0.320004605
          ],
          [
           0.658281368
          ],
          [
           0.634154867
          ],
          [
           0.777332009
          ],
          [
           0.812677205
          ],
          [
           0.074280797
          ],
          [
           0.39600217
          ],
          [
           0.054933913
          ],
          [
           0.825058925
          ],
          [
           0.382642009
          ],
          [
           0.868729818
          ],
          [
           0.588043346
          ],
          [
           0.891551577
          ],
          [
           0.10920046
          ],
          [
           0.647682781
          ],
          [
           0.724342512
          ],
          [
           0.070163044
          ],
          [
           0.280882054
          ],
          [
           0.039113261
          ],
          [
           0.579641592
          ],
          [
           0.639000922
          ],
          [
           0.281745925
          ],
          [
           0.647857744
          ],
          [
           0.647905797
          ],
          [
           0.875226264
          ],
          [
           0.567603305
          ],
          [
           0.262940591
          ],
          [
           0.268026042
          ],
          [
           0.40519133
          ],
          [
           0.479965451
          ],
          [
           0.33552403
          ],
          [
           0.777165379
          ],
          [
           0.425487963
          ],
          [
           0.237986115
          ],
          [
           0.142522971
          ],
          [
           0.724176488
          ],
          [
           0.234698933
          ],
          [
           0.078182281
          ],
          [
           0.855990155
          ],
          [
           0.270251765
          ],
          [
           0.435517841
          ],
          [
           0.762697513
          ],
          [
           0.464487258
          ],
          [
           0.396112685
          ],
          [
           0.376380921
          ],
          [
           0.294594677
          ],
          [
           0.694492121
          ],
          [
           0.622767949
          ],
          [
           0.847559722
          ],
          [
           0.301463054
          ],
          [
           0.912937812
          ],
          [
           0.500017182
          ],
          [
           0.902587935
          ],
          [
           0.304517943
          ],
          [
           0.299165673
          ],
          [
           0.092014087
          ],
          [
           0.488548917
          ],
          [
           0.664664437
          ],
          [
           0.265349549
          ],
          [
           0.723657021
          ],
          [
           0.149262385
          ],
          [
           0.04577339
          ],
          [
           0.69661064
          ],
          [
           0.42181486
          ],
          [
           0.733845785
          ],
          [
           0.418795386
          ],
          [
           0.677443529
          ],
          [
           0.261283603
          ],
          [
           0.268527767
          ],
          [
           0.544322236
          ],
          [
           0.431632036
          ],
          [
           0.981018141
          ],
          [
           0.214980724
          ],
          [
           0.394729993
          ],
          [
           0.122224944
          ],
          [
           0.297496875
          ],
          [
           0.374904431
          ],
          [
           0.68698771
          ],
          [
           0.388549207
          ],
          [
           0.039296071
          ],
          [
           0.73553424
          ],
          [
           0.379294893
          ],
          [
           0.732123386
          ],
          [
           0.339221439
          ],
          [
           0.659450594
          ],
          [
           0.054838642
          ],
          [
           0.640112102
          ],
          [
           0.307141704
          ],
          [
           0.396611907
          ],
          [
           0.420439161
          ],
          [
           0.241714974
          ],
          [
           0.065893153
          ],
          [
           0.910521937
          ],
          [
           0.697163103
          ],
          [
           0.072559853
          ],
          [
           0.81825094
          ],
          [
           0.311888815
          ],
          [
           0.961644609
          ],
          [
           0.816325524
          ],
          [
           0.14647302
          ],
          [
           0.548753945
          ],
          [
           0.946158087
          ],
          [
           0.293992717
          ],
          [
           0.331479643
          ],
          [
           0.906220031
          ],
          [
           0.525540416
          ],
          [
           0.83301411
          ],
          [
           0.514849806
          ],
          [
           0.574609024
          ],
          [
           0.468711853
          ],
          [
           0.71002775
          ],
          [
           0.645973276
          ],
          [
           0.229794416
          ],
          [
           0.551783393
          ],
          [
           0.055822991
          ],
          [
           0.331750941
          ],
          [
           0.715520198
          ],
          [
           0.583924357
          ],
          [
           0.306957691
          ],
          [
           0.791478237
          ],
          [
           0.164236639
          ],
          [
           0.065711219
          ],
          [
           0.948993132
          ],
          [
           0.080423835
          ],
          [
           0.052495426
          ],
          [
           0.566346135
          ],
          [
           0.3630266
          ],
          [
           0.605442195
          ],
          [
           0.630850584
          ],
          [
           0.065791238
          ],
          [
           0.286817071
          ],
          [
           0.685462839
          ],
          [
           0.260853706
          ],
          [
           0.659122429
          ],
          [
           0.443173922
          ],
          [
           0.602063986
          ],
          [
           0.060366911
          ],
          [
           0.781903153
          ],
          [
           0.514579807
          ],
          [
           0.483886213
          ],
          [
           0.600213807
          ],
          [
           0.497364052
          ],
          [
           0.411145245
          ],
          [
           0.116999171
          ],
          [
           0.341890141
          ],
          [
           0.746950848
          ],
          [
           0.396292746
          ],
          [
           0.622143843
          ],
          [
           0.335271141
          ],
          [
           0.140257137
          ],
          [
           0.081620681
          ],
          [
           0.069837569
          ],
          [
           0.468940008
          ],
          [
           0.990857417
          ],
          [
           0.896616832
          ],
          [
           0.255310561
          ],
          [
           0.224645267
          ],
          [
           0.01991825
          ],
          [
           0.296480415
          ],
          [
           0.155458996
          ],
          [
           0.577916714
          ],
          [
           0.956303031
          ],
          [
           0.813464394
          ],
          [
           0.529675785
          ],
          [
           0.287671353
          ],
          [
           0.48039136
          ],
          [
           0.281044822
          ],
          [
           0.633196521
          ],
          [
           0.093325377
          ],
          [
           0.284473981
          ],
          [
           0.052223775
          ],
          [
           0.051129385
          ],
          [
           0.967405608
          ],
          [
           0.040045728
          ],
          [
           0.908582921
          ],
          [
           0.662117416
          ],
          [
           0.424703209
          ],
          [
           0.72207806
          ],
          [
           0.666193327
          ],
          [
           0.509681253
          ],
          [
           0.751353621
          ],
          [
           0.279073124
          ],
          [
           0.074927
          ],
          [
           0.916359535
          ],
          [
           0.31040327
          ],
          [
           0.716604052
          ],
          [
           0.485587085
          ],
          [
           0.306075181
          ],
          [
           0.477558204
          ],
          [
           0.711923941
          ],
          [
           0.066348638
          ],
          [
           0.274539351
          ],
          [
           0.31082252
          ],
          [
           0.476073127
          ],
          [
           0.186795565
          ],
          [
           0.26654207
          ],
          [
           0.070231142
          ],
          [
           0.26951927
          ],
          [
           0.800004713
          ],
          [
           0.273633667
          ],
          [
           0.146479192
          ],
          [
           0.378318951
          ],
          [
           0.373849065
          ],
          [
           0.242170835
          ],
          [
           0.249796488
          ],
          [
           0.066591188
          ],
          [
           0.372956798
          ],
          [
           0.501812291
          ],
          [
           0.313097752
          ],
          [
           0.880202196
          ],
          [
           0.51981893
          ],
          [
           0.364138746
          ],
          [
           0.492682896
          ],
          [
           0.285732652
          ],
          [
           0.890114985
          ],
          [
           0.316419561
          ],
          [
           0.26866354
          ],
          [
           0.771975959
          ],
          [
           0.968888992
          ],
          [
           0.080334377
          ],
          [
           0.736828221
          ],
          [
           0.300558071
          ],
          [
           0.917950393
          ],
          [
           0.465815039
          ],
          [
           0.054036682
          ],
          [
           0.963150123
          ],
          [
           0.089653503
          ],
          [
           0.707693234
          ],
          [
           0.636416037
          ],
          [
           0.539521117
          ],
          [
           0.114757161
          ],
          [
           0.357312419
          ],
          [
           0.67639834
          ],
          [
           0.43482839
          ],
          [
           0.032326387
          ],
          [
           0.711365605
          ],
          [
           0.187486519
          ],
          [
           0.052789653
          ],
          [
           0.505863613
          ],
          [
           0.927431873
          ],
          [
           0.680984256
          ],
          [
           0.882822186
          ],
          [
           0.495705441
          ],
          [
           0.596240398
          ],
          [
           0.320610701
          ],
          [
           0.3413685
          ],
          [
           0.159681797
          ],
          [
           0.318133669
          ],
          [
           0.839301048
          ],
          [
           0.064359251
          ],
          [
           0.470216633
          ],
          [
           0.776252291
          ],
          [
           0.635843383
          ],
          [
           0.62510543
          ],
          [
           0.52959065
          ],
          [
           0.986900166
          ],
          [
           0.078585688
          ],
          [
           0.233284267
          ],
          [
           0.363330957
          ],
          [
           0.716716981
          ],
          [
           0.375889792
          ],
          [
           0.223316889
          ],
          [
           0.299343986
          ],
          [
           0.538595767
          ],
          [
           0.730297124
          ],
          [
           0.66033077
          ],
          [
           0.435296009
          ],
          [
           0.326494313
          ],
          [
           0.854402708
          ],
          [
           0.573493847
          ],
          [
           0.757786135
          ],
          [
           0.704743233
          ],
          [
           0.281575597
          ],
          [
           0.671968208
          ],
          [
           0.313726015
          ],
          [
           0.364338275
          ],
          [
           0.368216396
          ],
          [
           0.386295207
          ],
          [
           0.655971865
          ],
          [
           0.566025273
          ],
          [
           0.424999093
          ],
          [
           0.090110371
          ],
          [
           0.772350538
          ],
          [
           0.331047258
          ],
          [
           0.273716188
          ],
          [
           0.23877568
          ],
          [
           0.373079772
          ],
          [
           0.331185868
          ],
          [
           0.256134531
          ],
          [
           0.678373225
          ],
          [
           0.434638338
          ],
          [
           0.654668307
          ],
          [
           0.986681065
          ],
          [
           0.371520495
          ],
          [
           0.408359618
          ],
          [
           0.40932365
          ],
          [
           0.283412082
          ],
          [
           0.395246531
          ],
          [
           0.010984428
          ],
          [
           0.306013869
          ],
          [
           0.266194806
          ],
          [
           0.299318521
          ],
          [
           0.318293946
          ],
          [
           0.74282591
          ],
          [
           0.097664329
          ],
          [
           0.079666942
          ],
          [
           0.613258767
          ],
          [
           0.99443072
          ],
          [
           0.568835082
          ],
          [
           0.708034516
          ],
          [
           0.370592719
          ],
          [
           0.669867361
          ],
          [
           0.651295625
          ],
          [
           0.462531569
          ],
          [
           0.719625619
          ],
          [
           0.45377248
          ],
          [
           0.394863946
          ],
          [
           0.323974831
          ],
          [
           0.146454724
          ],
          [
           0.779067041
          ],
          [
           0.401828915
          ],
          [
           0.601479585
          ],
          [
           0.856423023
          ],
          [
           0.565242962
          ],
          [
           0.301225108
          ],
          [
           0.282108144
          ],
          [
           0.594378011
          ],
          [
           0.705312368
          ],
          [
           0.540869628
          ],
          [
           0.319249574
          ],
          [
           0.361766138
          ],
          [
           0.625000704
          ],
          [
           0.316287401
          ],
          [
           0.047239021
          ],
          [
           0.801182233
          ],
          [
           0.508474436
          ],
          [
           0.817893411
          ],
          [
           0.399235601
          ],
          [
           0.974051999
          ],
          [
           0.72241535
          ],
          [
           0.039564764
          ],
          [
           0.908684108
          ],
          [
           0.473010134
          ],
          [
           0.718049628
          ],
          [
           0.763479069
          ],
          [
           0.647596537
          ],
          [
           0.894997386
          ],
          [
           0.222825901
          ],
          [
           0.359012234
          ],
          [
           0.944910252
          ],
          [
           0.297877816
          ],
          [
           0.172517997
          ],
          [
           0.556586265
          ],
          [
           0.876481735
          ],
          [
           0.486677843
          ],
          [
           0.459496733
          ],
          [
           0.474126377
          ],
          [
           0.70101144
          ],
          [
           0.337597387
          ],
          [
           0.537578886
          ],
          [
           0.966992448
          ],
          [
           0.056849545
          ],
          [
           0.233249065
          ],
          [
           0.380054711
          ],
          [
           0.602929443
          ],
          [
           0.303847999
          ],
          [
           0.170194553
          ],
          [
           0.972168554
          ],
          [
           0.332168927
          ],
          [
           0.688728689
          ],
          [
           0.110773401
          ],
          [
           0.273352065
          ],
          [
           0.572939678
          ],
          [
           0.491457065
          ],
          [
           0.281389999
          ],
          [
           0.821697261
          ],
          [
           0.674977683
          ],
          [
           0.585134549
          ],
          [
           0.710596116
          ],
          [
           0.040488789
          ],
          [
           0.568054311
          ],
          [
           0.321752928
          ],
          [
           0.611850232
          ],
          [
           0.926096887
          ],
          [
           0.618347428
          ],
          [
           0.667629785
          ],
          [
           0.397733466
          ],
          [
           0.290875487
          ],
          [
           0.594375103
          ],
          [
           0.508255233
          ],
          [
           0.338571357
          ],
          [
           0.432302347
          ],
          [
           0.302221978
          ],
          [
           0.87619819
          ],
          [
           0.080204492
          ],
          [
           0.092333532
          ],
          [
           0.093656447
          ],
          [
           0.608452351
          ],
          [
           0.732654598
          ],
          [
           0.944158855
          ],
          [
           0.26742308
          ],
          [
           0.731124201
          ],
          [
           0.661308553
          ],
          [
           0.387766262
          ],
          [
           0.962585273
          ],
          [
           0.322067067
          ],
          [
           0.634081093
          ],
          [
           0.475345002
          ],
          [
           0.353558973
          ],
          [
           0.885936316
          ],
          [
           0.876798106
          ],
          [
           0.221581064
          ],
          [
           0.394362449
          ],
          [
           0.805035676
          ],
          [
           0.452898486
          ],
          [
           0.592520516
          ],
          [
           0.761026394
          ],
          [
           0.245049023
          ],
          [
           0.372139363
          ],
          [
           0.681054822
          ],
          [
           0.747143148
          ],
          [
           0.920739529
          ],
          [
           0.097207945
          ],
          [
           0.699302998
          ],
          [
           0.721647006
          ],
          [
           0.535356114
          ],
          [
           0.738293805
          ],
          [
           0.706467551
          ],
          [
           0.67395061
          ],
          [
           0.711212291
          ],
          [
           0.302558708
          ],
          [
           0.080097855
          ],
          [
           0.707010837
          ],
          [
           0.512248622
          ],
          [
           0.659627472
          ],
          [
           0.657559694
          ],
          [
           0.100645606
          ],
          [
           0.92665363
          ],
          [
           0.892879338
          ],
          [
           0.839157508
          ],
          [
           0.890959718
          ],
          [
           0.556754471
          ],
          [
           0.960361937
          ],
          [
           0.631037864
          ],
          [
           0.029838065
          ],
          [
           0.278843351
          ],
          [
           0.926157705
          ],
          [
           0.551504258
          ],
          [
           0.485942349
          ],
          [
           0.437234696
          ],
          [
           0.252318018
          ],
          [
           0.515466972
          ],
          [
           0.437252296
          ],
          [
           0.493724207
          ],
          [
           0.83324725
          ],
          [
           0.317521477
          ],
          [
           0.286234562
          ],
          [
           0.726833965
          ],
          [
           0.495667033
          ],
          [
           0.028645255
          ],
          [
           0.319671917
          ],
          [
           0.674344598
          ],
          [
           0.766037189
          ],
          [
           0.65456992
          ],
          [
           0.756514381
          ],
          [
           0.528253719
          ],
          [
           0.389719491
          ],
          [
           0.355087459
          ],
          [
           0.87015202
          ],
          [
           0.739083306
          ],
          [
           0.305761846
          ],
          [
           0.411587673
          ],
          [
           0.063633094
          ],
          [
           0.735409395
          ],
          [
           0.605916669
          ],
          [
           0.539395562
          ],
          [
           0.566183532
          ],
          [
           0.674795186
          ],
          [
           0.070993366
          ],
          [
           0.1252641
          ],
          [
           0.279601492
          ],
          [
           0.952174402
          ],
          [
           0.233806762
          ],
          [
           0.437247429
          ],
          [
           0.925423095
          ],
          [
           0.433498634
          ],
          [
           0.52517902
          ],
          [
           0.088435529
          ],
          [
           0.447677638
          ],
          [
           0.647000631
          ],
          [
           0.903603337
          ],
          [
           0.265790738
          ],
          [
           0.66419695
          ],
          [
           0.498120658
          ],
          [
           0.490188944
          ],
          [
           0.747084187
          ],
          [
           0.906783648
          ],
          [
           0.678770917
          ],
          [
           0.348599859
          ],
          [
           0.294839683
          ],
          [
           0.705691827
          ],
          [
           0.211917931
          ],
          [
           0.063201124
          ],
          [
           0.276699543
          ],
          [
           0.672459395
          ],
          [
           0.808205949
          ],
          [
           0.296538373
          ],
          [
           0.160126862
          ],
          [
           0.439385032
          ],
          [
           0.555951416
          ],
          [
           0.386240112
          ],
          [
           0.158689619
          ],
          [
           0.214499855
          ],
          [
           0.299579429
          ],
          [
           0.569161656
          ],
          [
           0.488614799
          ],
          [
           0.878295021
          ],
          [
           0.649380949
          ],
          [
           0.465713341
          ],
          [
           0.16813774
          ],
          [
           0.87529545
          ],
          [
           0.841132341
          ],
          [
           0.33292081
          ],
          [
           0.513047859
          ],
          [
           0.305055078
          ],
          [
           0.812626991
          ],
          [
           0.25096706
          ],
          [
           0.502435578
          ],
          [
           0.457990741
          ]
         ],
         "hoverlabel": {
          "namelength": 0
         },
         "hovertemplate": "0=%{x}<br>1=%{y}<br>Feature=%{customdata[0]}<br>Anomaly=%{marker.color}",
         "legendgroup": "",
         "marker": {
          "color": [
           0,
           0,
           1,
           1,
           0,
           0,
           0,
           1,
           1,
           0,
           0,
           1,
           0,
           0,
           1,
           0,
           0,
           1,
           1,
           0,
           1,
           0,
           0,
           1,
           1,
           1,
           0,
           0,
           1,
           1,
           0,
           0,
           0,
           1,
           1,
           1,
           0,
           0,
           0,
           0,
           0,
           0,
           0,
           1,
           0,
           1,
           0,
           0,
           0,
           0,
           0,
           1,
           0,
           1,
           0,
           1,
           0,
           0,
           0,
           1,
           0,
           0,
           1,
           1,
           0,
           0,
           1,
           0,
           0,
           1,
           0,
           0,
           0,
           0,
           0,
           0,
           0,
           0,
           0,
           0,
           0,
           0,
           0,
           0,
           0,
           0,
           0,
           0,
           0,
           0,
           0,
           0,
           0,
           0,
           0,
           0,
           0,
           0,
           0,
           0,
           0,
           0,
           0,
           0,
           0,
           0,
           0,
           0,
           0,
           0,
           0,
           0,
           0,
           0,
           0,
           0,
           0,
           0,
           0,
           0,
           0,
           0,
           0,
           0,
           0,
           0,
           0,
           0,
           0,
           0,
           1,
           0,
           0,
           0,
           0,
           0,
           0,
           0,
           0,
           0,
           0,
           0,
           0,
           0,
           0,
           0,
           0,
           0,
           0,
           0,
           0,
           0,
           0,
           0,
           0,
           0,
           0,
           0,
           0,
           0,
           0,
           0,
           0,
           0,
           0,
           0,
           0,
           0,
           0,
           0,
           0,
           0,
           0,
           0,
           0,
           0,
           0,
           0,
           0,
           0,
           0,
           0,
           0,
           0,
           0,
           0,
           0,
           0,
           0,
           0,
           0,
           0,
           0,
           0,
           0,
           0,
           0,
           0,
           1,
           0,
           0,
           0,
           0,
           0,
           0,
           0,
           0,
           0,
           0,
           0,
           0,
           0,
           0,
           0,
           0,
           0,
           0,
           0,
           0,
           0,
           0,
           0,
           0,
           0,
           0,
           0,
           0,
           0,
           0,
           0,
           0,
           0,
           0,
           0,
           0,
           0,
           0,
           0,
           0,
           0,
           0,
           0,
           0,
           0,
           0,
           0,
           0,
           0,
           0,
           0,
           0,
           0,
           0,
           0,
           0,
           0,
           0,
           0,
           0,
           0,
           0,
           0,
           0,
           0,
           0,
           0,
           0,
           0,
           0,
           0,
           0,
           0,
           0,
           0,
           0,
           0,
           0,
           0,
           0,
           0,
           0,
           0,
           0,
           0,
           0,
           0,
           0,
           0,
           0,
           0,
           0,
           0,
           0,
           0,
           0,
           0,
           0,
           0,
           0,
           0,
           0,
           0,
           0,
           0,
           0,
           0,
           0,
           0,
           0,
           0,
           0,
           0,
           0,
           0,
           0,
           0,
           0,
           0,
           0,
           0,
           0,
           0,
           0,
           0,
           0,
           0,
           0,
           0,
           0,
           0,
           0,
           0,
           0,
           0,
           0,
           0,
           0,
           0,
           0,
           0,
           0,
           0,
           0,
           0,
           0,
           0,
           0,
           0,
           0,
           0,
           0,
           0,
           0,
           0,
           0,
           0,
           0,
           0,
           0,
           0,
           0,
           0,
           0,
           0,
           0,
           0,
           0,
           0,
           0,
           0,
           0,
           0,
           0,
           0,
           0,
           0,
           0,
           0,
           0,
           0,
           0,
           0,
           0,
           0,
           0,
           0,
           0,
           0,
           0,
           0,
           0,
           0,
           0,
           0,
           0,
           0,
           0,
           0,
           0,
           0,
           0,
           0,
           0,
           0,
           0,
           0,
           0,
           0,
           0,
           0,
           0,
           0,
           0,
           0,
           0,
           0,
           0,
           0,
           0,
           0,
           0,
           0,
           0,
           0,
           0,
           0,
           0,
           0,
           0,
           0,
           0,
           0,
           0,
           0,
           0,
           0,
           0,
           0,
           0,
           0,
           0,
           0,
           0,
           0,
           0,
           0,
           0,
           0,
           0,
           0,
           0,
           0,
           0,
           0,
           0,
           0,
           0,
           0,
           0,
           0,
           0,
           0,
           0,
           0,
           0,
           0,
           0,
           0,
           0,
           0,
           0,
           0,
           0,
           0,
           0,
           0,
           0,
           0,
           0,
           0,
           0,
           0,
           0,
           0,
           0,
           0,
           0,
           0,
           0,
           0,
           0,
           0,
           0,
           0,
           0,
           0,
           0,
           0,
           0,
           0,
           0,
           0,
           0,
           0,
           0,
           0,
           0,
           0,
           0,
           0,
           0,
           0,
           0,
           0,
           0,
           0,
           0,
           0,
           0,
           0,
           0,
           0,
           0,
           1,
           0,
           0,
           0,
           0,
           0,
           0,
           0,
           0,
           0,
           0,
           0,
           0,
           0,
           0,
           0,
           0,
           0,
           0,
           0,
           0,
           0,
           1,
           0,
           0,
           0,
           0,
           0,
           0,
           0,
           0,
           0,
           0,
           0,
           0,
           0,
           0,
           0,
           0,
           0,
           0,
           0,
           0,
           0,
           0,
           0,
           0,
           0,
           0,
           0,
           0,
           0,
           0,
           0,
           0,
           0,
           0,
           0,
           0,
           0,
           0,
           0,
           0,
           0,
           0,
           0,
           0,
           0,
           0,
           0,
           0,
           0,
           0,
           0,
           0,
           0,
           0,
           0,
           0,
           1,
           0,
           0,
           0,
           0,
           0,
           0,
           0,
           0,
           0,
           0,
           0,
           0,
           0,
           0,
           0,
           0,
           0,
           0,
           0,
           0,
           0,
           0,
           0,
           0,
           0,
           0,
           0,
           0,
           0,
           0,
           0,
           0,
           0,
           0,
           0,
           0,
           0,
           0,
           0,
           0,
           0,
           0,
           0,
           0,
           0,
           0,
           0,
           0,
           0,
           0,
           0,
           0,
           0,
           0,
           0,
           0,
           0,
           0,
           0,
           0,
           0,
           0,
           0,
           0,
           0,
           0,
           0,
           0,
           0,
           0,
           0,
           0,
           0,
           0,
           0,
           0,
           0,
           1,
           0,
           0,
           0,
           0,
           0,
           0,
           0,
           0,
           0,
           0,
           0,
           0,
           0,
           0,
           0,
           0,
           0,
           0,
           0,
           1,
           1,
           0,
           1,
           0,
           0,
           0,
           1,
           1,
           0,
           1,
           0,
           0,
           1,
           0,
           0,
           1,
           1,
           1,
           0,
           1,
           0,
           1,
           1,
           1,
           0,
           0,
           0,
           1,
           0,
           0,
           0,
           0,
           0,
           0,
           0,
           0,
           0,
           0,
           0,
           0,
           0,
           0,
           0,
           0,
           0,
           0,
           0,
           0,
           0,
           0,
           0,
           0,
           0,
           0,
           0,
           0,
           0,
           0,
           0,
           0,
           0,
           0,
           0,
           0,
           0,
           0,
           0,
           0,
           0,
           0,
           0,
           0,
           0,
           0,
           0,
           0,
           0,
           0,
           0,
           0,
           0,
           0,
           0,
           0,
           0,
           0,
           0,
           0,
           0,
           0,
           0,
           0,
           0,
           0,
           0,
           0,
           0,
           0,
           0,
           0,
           0,
           0,
           0,
           0,
           0,
           0,
           0,
           0,
           0,
           0,
           0,
           0,
           0,
           0,
           0,
           0,
           0,
           0,
           0,
           0,
           0,
           0,
           0,
           0,
           0,
           0,
           0,
           0,
           0,
           0,
           0,
           0,
           0,
           0,
           0,
           0,
           0,
           0,
           0,
           0,
           0,
           0,
           0,
           0,
           0,
           0,
           0,
           0,
           0,
           0,
           0,
           0,
           0,
           0,
           0,
           0,
           0,
           0,
           0,
           0,
           0,
           0,
           1,
           0,
           0,
           0,
           0,
           0,
           0,
           0,
           0,
           0,
           0,
           0,
           0,
           0,
           0,
           0,
           0,
           0,
           0,
           0,
           0,
           0,
           0,
           0,
           0,
           0,
           0,
           0,
           0,
           0,
           0,
           0,
           0,
           0,
           0,
           0,
           0,
           0,
           0,
           0,
           0,
           0,
           0,
           0,
           0,
           0,
           0,
           0,
           0,
           0,
           0,
           0,
           0,
           0,
           0,
           0,
           0,
           0,
           1,
           0,
           0,
           0,
           0,
           0,
           0,
           0,
           0,
           0,
           0,
           0,
           0,
           0,
           0,
           0,
           0,
           0,
           0,
           0,
           0,
           0,
           0,
           0,
           0,
           0,
           0,
           0,
           0,
           0,
           0,
           0,
           0,
           0,
           0,
           0,
           0,
           0,
           0,
           0,
           0,
           0,
           0,
           0,
           0,
           0,
           0,
           0,
           0,
           0,
           0,
           0,
           0,
           0,
           0,
           0,
           0,
           0,
           0,
           0,
           0,
           0,
           0,
           0,
           0,
           0,
           0,
           0,
           0,
           0,
           0,
           0,
           0,
           0,
           0,
           0,
           0,
           0,
           0
          ],
          "coloraxis": "coloraxis",
          "opacity": 0.7,
          "symbol": "circle"
         },
         "mode": "markers",
         "name": "",
         "showlegend": false,
         "type": "scatter",
         "x": [
          -1.5003066062927246,
          -2.031663179397583,
          5.942893981933594,
          7.04987096786499,
          6.905373573303223,
          5.781783103942871,
          -3.6161420345306396,
          7.5472259521484375,
          -1.4387922286987305,
          -2.1004066467285156,
          7.373727321624756,
          7.237735748291016,
          6.65805196762085,
          -2.593623161315918,
          6.837873458862305,
          8.054069519042969,
          6.775933742523193,
          -3.5748863220214844,
          5.649303436279297,
          7.219505786895752,
          5.564209461212158,
          -0.9886066317558289,
          6.4236602783203125,
          -1.4985352754592896,
          6.153147220611572,
          -0.951722264289856,
          7.339334487915039,
          -2.8287267684936523,
          7.789003372192383,
          7.448622226715088,
          -1.6402901411056519,
          -2.477086067199707,
          -2.0993149280548096,
          7.086215972900391,
          -2.625645160675049,
          -0.9301997423171997,
          -4.001194000244141,
          -2.8154895305633545,
          -1.412502646446228,
          5.977121353149414,
          -4.977651119232178,
          7.257180690765381,
          -4.226698875427246,
          5.757411003112793,
          6.796773433685303,
          8.122641563415527,
          6.827678203582764,
          -1.384971022605896,
          7.4034647941589355,
          -4.6324896812438965,
          7.573050498962402,
          5.583392143249512,
          -3.0816566944122314,
          8.08968734741211,
          5.929443836212158,
          5.380594730377197,
          5.621024131774902,
          -2.549877643585205,
          6.997322082519531,
          6.441596508026123,
          -2.3147778511047363,
          -3.0764482021331787,
          8.31933879852295,
          7.229096412658691,
          -4.308386325836182,
          6.696676731109619,
          -3.6703240871429443,
          -3.4708497524261475,
          7.329017639160156,
          6.353661060333252,
          7.708653926849365,
          7.486719131469727,
          -1.795792579650879,
          7.019697666168213,
          -0.989403486251831,
          -0.5241296887397766,
          7.5225067138671875,
          7.8426032066345215,
          -1.6064159870147705,
          -2.202561855316162,
          -1.9211208820343018,
          -0.26284322142601013,
          7.099180698394775,
          -2.917619466781616,
          -3.2036235332489014,
          -1.7832872867584229,
          -4.094576835632324,
          -4.416532516479492,
          -2.0306458473205566,
          -0.18129964172840118,
          -1.0260955095291138,
          7.322852611541748,
          -3.7723753452301025,
          -3.7437374591827393,
          -3.0327467918395996,
          8.352401733398438,
          -3.5207784175872803,
          -1.783577799797058,
          -3.014160394668579,
          7.450278282165527,
          -1.608451247215271,
          -4.695343017578125,
          -1.9823795557022095,
          -3.411672592163086,
          8.280040740966797,
          -2.4336535930633545,
          -3.14591646194458,
          -2.057352066040039,
          -1.0702803134918213,
          7.6978936195373535,
          -0.10717994719743729,
          -1.6519818305969238,
          7.153176307678223,
          -0.8928161859512329,
          6.533046722412109,
          -0.03205924481153488,
          -3.872767925262451,
          -3.6981067657470703,
          6.883592128753662,
          -3.2995057106018066,
          -0.15155144035816193,
          -2.1182303428649902,
          -1.5533232688903809,
          -4.6210150718688965,
          -2.418794631958008,
          -2.005420207977295,
          -2.69035267829895,
          7.05947732925415,
          -2.741535186767578,
          -1.969724416732788,
          -2.22359037399292,
          -3.2299351692199707,
          7.661039352416992,
          -3.1184542179107666,
          -4.760437488555908,
          -0.8531392216682434,
          6.654361248016357,
          7.864553928375244,
          -2.2267725467681885,
          -2.1057608127593994,
          7.335316181182861,
          -0.25852951407432556,
          -3.3732781410217285,
          7.091830253601074,
          -3.516446590423584,
          -2.069117784500122,
          6.857962131500244,
          -4.626906394958496,
          -2.0466222763061523,
          -2.6696548461914062,
          -0.07745006680488586,
          -0.36417752504348755,
          -1.484232783317566,
          -3.461111068725586,
          -1.1457775831222534,
          -3.6355481147766113,
          -4.5600080490112305,
          -4.972724914550781,
          -1.0307416915893555,
          6.172866344451904,
          -3.8565659523010254,
          -2.707179069519043,
          -0.7915610074996948,
          -1.8271292448043823,
          6.443251132965088,
          -4.890615940093994,
          7.476742744445801,
          7.456933498382568,
          6.612476348876953,
          -2.6804230213165283,
          -3.3251078128814697,
          -1.7710343599319458,
          6.175573348999023,
          6.236983299255371,
          -1.5566176176071167,
          -4.703205585479736,
          6.014583110809326,
          5.951359748840332,
          -2.15674090385437,
          7.72445011138916,
          -1.647441029548645,
          6.405114650726318,
          -2.65578293800354,
          7.48723030090332,
          7.396679401397705,
          -3.7916107177734375,
          6.911118507385254,
          -2.4021174907684326,
          -1.9165711402893066,
          -0.3713991940021515,
          -4.697676658630371,
          7.060420513153076,
          7.308938026428223,
          6.288623332977295,
          -4.352417945861816,
          -3.56300950050354,
          -1.9138846397399902,
          -1.517492651939392,
          -1.4983686208724976,
          -1.8081328868865967,
          -1.7908053398132324,
          -2.4340031147003174,
          -2.9339089393615723,
          7.094385623931885,
          6.074248313903809,
          -2.513076066970825,
          -2.2792017459869385,
          -1.8612971305847168,
          6.452107906341553,
          -2.4834654331207275,
          -1.5866014957427979,
          6.8301286697387695,
          7.882904052734375,
          0.022848226130008698,
          -1.9660468101501465,
          -1.9293843507766724,
          -2.396230936050415,
          7.967990875244141,
          8.339487075805664,
          -1.923901081085205,
          6.079915523529053,
          -2.2377431392669678,
          7.31809139251709,
          -1.1315374374389648,
          -4.298689842224121,
          -2.369929075241089,
          -4.455838680267334,
          -1.9398871660232544,
          -4.972776412963867,
          6.328474998474121,
          -3.548121929168701,
          -4.055755138397217,
          7.666388034820557,
          7.817630767822266,
          -3.6454250812530518,
          -2.1864633560180664,
          -2.5097782611846924,
          -0.45051687955856323,
          7.117446422576904,
          5.67662239074707,
          -1.9166172742843628,
          -1.5449057817459106,
          5.768477439880371,
          -3.4127864837646484,
          7.197995185852051,
          -4.450100898742676,
          -1.663892149925232,
          -1.126649022102356,
          -4.415360450744629,
          6.533856391906738,
          -2.9000885486602783,
          -1.8230171203613281,
          7.330505847930908,
          -2.657973527908325,
          -2.3232760429382324,
          -1.3244380950927734,
          -1.3105013370513916,
          -3.8955490589141846,
          6.327115058898926,
          -3.3590469360351562,
          5.858975887298584,
          -2.64279842376709,
          6.824361324310303,
          -1.6984156370162964,
          -3.0739123821258545,
          -2.946847915649414,
          8.047968864440918,
          -4.273849964141846,
          -0.9396560192108154,
          -1.3634135723114014,
          -1.5873793363571167,
          -3.0796256065368652,
          -0.6790932416915894,
          5.751562118530273,
          6.226332187652588,
          -3.92598819732666,
          8.260746955871582,
          7.07469367980957,
          -2.0679237842559814,
          -1.908684492111206,
          -4.4808502197265625,
          5.867295742034912,
          -2.056339979171753,
          -0.6219498515129089,
          6.576043128967285,
          -1.8865535259246826,
          -3.785672664642334,
          -2.1921424865722656,
          -4.237475872039795,
          -1.4067708253860474,
          -0.10087329894304276,
          -2.470919609069824,
          -3.202558994293213,
          -2.4350736141204834,
          -2.8786706924438477,
          7.046597003936768,
          6.616541385650635,
          -1.9703388214111328,
          -2.737484931945801,
          -1.2872159481048584,
          -1.9565296173095703,
          -3.7715587615966797,
          7.853721618652344,
          7.373702526092529,
          6.475790500640869,
          -0.6563863158226013,
          -1.5977972745895386,
          -0.6375916004180908,
          -4.889279842376709,
          7.408958435058594,
          7.36063289642334,
          -4.669243335723877,
          6.463047981262207,
          5.677390098571777,
          -2.1917386054992676,
          -1.4054780006408691,
          -2.768113851547241,
          -3.3761463165283203,
          -0.6838069558143616,
          -2.957791566848755,
          -1.8590692281723022,
          -1.0738656520843506,
          7.587425231933594,
          -2.1171417236328125,
          -0.8006695508956909,
          -1.0427024364471436,
          8.123408317565918,
          7.979152202606201,
          6.746975421905518,
          6.496413230895996,
          -4.153783321380615,
          7.993340015411377,
          -3.014829397201538,
          -3.4994311332702637,
          -4.425501346588135,
          7.2846856117248535,
          -2.0249133110046387,
          -0.8662631511688232,
          7.074610233306885,
          7.514377593994141,
          -0.9237377643585205,
          -2.1293530464172363,
          6.7321085929870605,
          -3.5153563022613525,
          7.564166069030762,
          7.036040306091309,
          -3.0892021656036377,
          -5.013488292694092,
          7.078989505767822,
          7.989189147949219,
          -1.8183047771453857,
          -0.7755223512649536,
          -3.3408708572387695,
          -3.0708353519439697,
          -3.8011064529418945,
          -2.086101770401001,
          -2.5725464820861816,
          -2.1467394828796387,
          8.267926216125488,
          -0.9490134716033936,
          -1.902508020401001,
          -1.8779077529907227,
          -1.772146224975586,
          -4.683375358581543,
          7.454111576080322,
          -0.845274031162262,
          7.954102993011475,
          -3.813793659210205,
          -4.147705078125,
          -2.1107161045074463,
          -4.075047492980957,
          -1.949896216392517,
          7.454107284545898,
          6.675223350524902,
          7.640377521514893,
          -4.216716289520264,
          -0.577982485294342,
          6.5205302238464355,
          -3.041396379470825,
          -0.3958388566970825,
          6.513076305389404,
          -2.1887316703796387,
          -0.88992840051651,
          -1.8871649503707886,
          -1.9471663236618042,
          -3.4483745098114014,
          -3.065783739089966,
          -2.9718801975250244,
          -1.606802225112915,
          -1.5413161516189575,
          -4.092726230621338,
          -3.3906161785125732,
          -0.8765143156051636,
          -0.41894105076789856,
          -3.379746675491333,
          -3.0521175861358643,
          -2.338313102722168,
          7.294273376464844,
          -1.0771071910858154,
          -1.8837394714355469,
          -3.071220874786377,
          -3.38499116897583,
          -4.506560325622559,
          -2.612910032272339,
          7.716891765594482,
          -3.8882131576538086,
          6.377702713012695,
          -2.1444203853607178,
          6.230673313140869,
          -1.4895873069763184,
          -2.5710549354553223,
          -0.44853028655052185,
          8.395341873168945,
          -0.6528472304344177,
          -2.4500339031219482,
          -4.140600681304932,
          -4.5978102684021,
          -2.6480257511138916,
          7.886841297149658,
          7.095310688018799,
          -1.529565453529358,
          -2.6525888442993164,
          -2.2618844509124756,
          -2.1353516578674316,
          6.720239639282227,
          -4.54817008972168,
          -3.4927122592926025,
          6.518548965454102,
          -1.6612242460250854,
          7.502498149871826,
          -0.0600072406232357,
          -3.797372817993164,
          -3.0035593509674072,
          6.669088363647461,
          7.576184272766113,
          -2.2664458751678467,
          -3.8126766681671143,
          7.249170303344727,
          -0.9816351532936096,
          6.075015544891357,
          -2.327751874923706,
          -1.548738718032837,
          6.245579719543457,
          7.683643817901611,
          -2.210728168487549,
          6.0352983474731445,
          7.833521366119385,
          -3.6932497024536133,
          6.436474323272705,
          6.775286674499512,
          -3.6867573261260986,
          6.832211494445801,
          -4.4566264152526855,
          -0.6015926003456116,
          7.153858661651611,
          -2.920975923538208,
          -1.340868592262268,
          6.50637149810791,
          -1.417511224746704,
          -1.4085259437561035,
          -1.9233042001724243,
          6.455600738525391,
          -4.08513879776001,
          -1.8070119619369507,
          -1.5326050519943237,
          -0.9850103855133057,
          -1.0948179960250854,
          7.909023284912109,
          -4.956146717071533,
          6.6080169677734375,
          -0.4738259017467499,
          -3.6475718021392822,
          -4.177042484283447,
          -0.9228050112724304,
          -3.975745439529419,
          -4.301474571228027,
          -3.43202805519104,
          6.254997730255127,
          -0.9023318886756897,
          -2.825648546218872,
          -4.8365278244018555,
          -3.2705910205841064,
          6.474480152130127,
          7.501250743865967,
          -3.8402531147003174,
          7.591280460357666,
          -1.629264235496521,
          -1.7944334745407104,
          -0.9665093421936035,
          5.6724958419799805,
          -0.9288034439086914,
          7.03874397277832,
          6.040346622467041,
          7.897568702697754,
          6.101505756378174,
          6.80929708480835,
          -1.4843034744262695,
          6.371933937072754,
          -3.3553929328918457,
          -0.4542143642902374,
          -2.204590320587158,
          -2.498800039291382,
          -0.9647366404533386,
          -1.9911613464355469,
          -1.627874732017517,
          5.64764928817749,
          -1.220041036605835,
          -4.859381675720215,
          -1.881151556968689,
          6.476425647735596,
          7.0540618896484375,
          -4.9828667640686035,
          -1.4783408641815186,
          7.436986446380615,
          -1.8230444192886353,
          -3.8999476432800293,
          -3.0726685523986816,
          -1.3469372987747192,
          -1.7293989658355713,
          -1.5227882862091064,
          -1.7362807989120483,
          7.338582515716553,
          6.339424133300781,
          6.751288890838623,
          8.323250770568848,
          -3.994317054748535,
          -1.8773657083511353,
          -3.8060216903686523,
          -1.5223472118377686,
          -1.450045108795166,
          -1.904052972793579,
          7.9022908210754395,
          6.342066287994385,
          -4.039658069610596,
          6.762467384338379,
          7.321196556091309,
          -1.7345235347747803,
          7.142403602600098,
          -1.1960175037384033,
          -1.452769160270691,
          -1.9685672521591187,
          6.341611385345459,
          -2.4872822761535645,
          -2.203465223312378,
          -5.008754730224609,
          7.411556720733643,
          -2.2741150856018066,
          6.649817943572998,
          6.645596504211426,
          -2.0044260025024414,
          -3.468336343765259,
          -0.7269766926765442,
          7.1578779220581055,
          -1.1117678880691528,
          -3.7350854873657227,
          -2.6719472408294678,
          6.2631754875183105,
          -0.6965482234954834,
          8.055609703063965,
          -1.2504702806472778,
          7.665008068084717,
          8.3704833984375,
          -3.8342316150665283,
          6.880486965179443,
          -3.590247392654419,
          -2.155303955078125,
          -4.589599609375,
          -2.2754757404327393,
          7.062302589416504,
          6.989201545715332,
          -1.517930269241333,
          6.993386745452881,
          7.5297417640686035,
          8.096386909484863,
          -2.0979621410369873,
          7.544738292694092,
          -3.027817726135254,
          -4.286855220794678,
          -0.798281729221344,
          -0.12768568098545074,
          -1.5342779159545898,
          -0.48834460973739624,
          6.651543140411377,
          -3.001084089279175,
          -4.902629852294922,
          -2.2870965003967285,
          -1.3567330837249756,
          -3.734174966812134,
          -4.240966796875,
          8.023294448852539,
          -3.250608205795288,
          -4.586507320404053,
          -1.3885380029678345,
          7.531222343444824,
          -1.5197162628173828,
          -3.2034008502960205,
          7.44849157333374,
          7.944406986236572,
          6.329924583435059,
          7.650579929351807,
          7.4081525802612305,
          -2.144897937774658,
          6.400818347930908,
          -3.7086703777313232,
          6.351310729980469,
          -2.2136547565460205,
          7.813138484954834,
          8.186920166015625,
          -3.2460904121398926,
          -1.9914411306381226,
          6.257874011993408,
          -0.0983915627002716,
          -1.7892889976501465,
          -1.0271637439727783,
          -2.015017032623291,
          -4.044888019561768,
          -1.8348078727722168,
          -1.936615228652954,
          -2.681438446044922,
          -1.334692358970642,
          -1.567488193511963,
          -3.087486505508423,
          -3.02527117729187,
          -1.825515627861023,
          6.778563022613525,
          7.724293231964111,
          -3.9046719074249268,
          6.725337028503418,
          -2.296055555343628,
          -1.8302761316299438,
          -2.3889966011047363,
          -1.52278470993042,
          -1.0712255239486694,
          7.1616668701171875,
          -0.4231770932674408,
          -1.1170812845230103,
          -0.2096289098262787,
          -1.686034917831421,
          7.104647159576416,
          -1.8780049085617065,
          6.030679702758789,
          -2.5366485118865967,
          -3.5703201293945312,
          -0.3037790358066559,
          7.822160243988037,
          -0.8926053643226624,
          6.2688751220703125,
          -0.8730030655860901,
          6.538641452789307,
          -0.8591691255569458,
          -4.404538154602051,
          -4.539567947387695,
          -2.1127490997314453,
          7.512573719024658,
          -4.61605978012085,
          -2.419384479522705,
          7.266598224639893,
          -0.7173275351524353,
          -2.64632511138916,
          7.688884258270264,
          7.826031684875488,
          -3.1165108680725098,
          -1.4952949285507202,
          -1.4266316890716553,
          6.49285364151001,
          -2.514962911605835,
          7.6672258377075195,
          -3.1045167446136475,
          -1.589131474494934,
          -4.664982318878174,
          -2.042445182800293,
          -2.078852415084839,
          -3.105936288833618,
          -1.8964687585830688,
          6.108230113983154,
          -3.7761268615722656,
          -2.2896478176116943,
          6.986129283905029,
          6.715897560119629,
          -3.155252456665039,
          6.606410026550293,
          -4.291829586029053,
          -0.8679131865501404,
          6.091742038726807,
          -4.092586040496826,
          -4.639233589172363,
          -2.2939705848693848,
          -5.033746242523193,
          7.248210906982422,
          7.51971960067749,
          7.25250244140625,
          6.914328575134277,
          8.292495727539062,
          -1.75779390335083,
          7.306938171386719,
          6.265288829803467,
          -0.8439109921455383,
          -2.3115155696868896,
          -1.2071442604064941,
          6.709107398986816,
          -1.895080327987671,
          -2.4626314640045166,
          -2.6936633586883545,
          7.8118791580200195,
          -1.8359590768814087,
          -3.2137081623077393,
          7.43489933013916,
          7.505089282989502,
          -1.5710937976837158,
          6.025112628936768,
          6.868066787719727,
          -4.820737838745117,
          -2.839277505874634,
          -1.2844338417053223,
          -2.922527313232422,
          5.863659858703613,
          5.732790946960449,
          8.063143730163574,
          -2.766916513442993,
          -3.3535351753234863,
          5.796791076660156,
          -4.101708889007568,
          -1.5809085369110107,
          5.617297649383545,
          -1.7426588535308838,
          -2.208314895629883,
          6.591643333435059,
          6.350997447967529,
          7.625015735626221,
          5.922698974609375,
          -1.7230069637298584,
          7.616703987121582,
          -1.8388328552246094,
          -2.628509283065796,
          -1.5627268552780151,
          7.150359153747559,
          -0.05766230449080467,
          -1.6732659339904785,
          -1.7472612857818604,
          6.277862071990967,
          -2.5841081142425537,
          -0.5882343649864197,
          -0.6933565139770508,
          6.18699312210083,
          -1.1410908699035645,
          -1.910056471824646,
          -0.526204526424408,
          7.0604071617126465,
          6.348044395446777,
          7.833566188812256,
          -1.9963091611862183,
          7.286240577697754,
          -3.3500049114227295,
          -4.323520660400391,
          -4.5287184715271,
          5.970407485961914,
          -2.2465927600860596,
          -2.535935163497925,
          7.511160850524902,
          -4.990006923675537,
          7.649905204772949,
          -3.037139892578125,
          -3.8191161155700684,
          -4.40942907333374,
          -1.3649938106536865,
          -3.833461284637451,
          -4.068556785583496,
          7.177682876586914,
          -3.3434884548187256,
          7.0947346687316895,
          -2.113271713256836,
          -0.7938068509101868,
          -1.488492727279663,
          -3.4788167476654053,
          -0.9263876676559448,
          -4.646734237670898,
          -2.378693103790283,
          -1.9370037317276,
          -1.0319573879241943,
          -1.1274142265319824,
          -0.20903408527374268,
          -3.847710132598877,
          -1.7648295164108276,
          -0.025909854099154472,
          -1.264927625656128,
          7.763558387756348,
          -2.8708343505859375,
          6.182529449462891,
          -2.028663396835327,
          -2.4483680725097656,
          7.809608459472656,
          -1.337828516960144,
          6.393622875213623,
          -0.5803966522216797,
          -4.2025933265686035,
          -2.5543999671936035,
          -4.298404693603516,
          6.4588518142700195,
          -0.27644646167755127,
          -4.605368137359619,
          -2.3768725395202637,
          -2.334935426712036,
          -1.5645167827606201,
          -2.062713146209717,
          5.742279529571533,
          -4.825641632080078,
          -3.757537364959717,
          -2.2840304374694824,
          7.389669895172119,
          -3.975933790206909,
          7.2243146896362305,
          6.007232666015625,
          -0.6865123510360718,
          -1.3657186031341553,
          -1.7333863973617554,
          6.449378490447998,
          -2.015777349472046,
          7.744199275970459,
          5.94057559967041,
          7.162151336669922,
          6.899364948272705,
          5.798228740692139,
          -1.8828108310699463,
          -1.9612962007522583,
          -1.7934224605560303,
          -3.7537102699279785,
          7.331020355224609,
          -2.117621660232544,
          -1.0117218494415283,
          7.965234756469727,
          -2.5082569122314453,
          -0.8634810447692871,
          8.33718490600586,
          6.087998390197754,
          6.3812994956970215,
          6.274783134460449,
          7.597875595092773,
          7.025457859039307,
          6.875093460083008,
          -3.545177936553955,
          -0.28464818000793457,
          -3.3126556873321533,
          7.302915096282959,
          -2.235085964202881,
          -3.503399610519409,
          6.359560012817383,
          -1.5359917879104614,
          -0.2740601897239685,
          -0.046769920736551285,
          -2.4456069469451904,
          6.3202009201049805,
          -1.694466233253479,
          -3.5394279956817627,
          -0.2462320178747177,
          -1.5346959829330444,
          -1.383198618888855,
          -1.8180196285247803,
          7.328128337860107,
          -2.2418065071105957,
          6.283702850341797,
          -1.5001530647277832,
          -2.1920719146728516,
          -1.3059272766113281,
          -0.5384860038757324,
          -1.5596020221710205,
          7.8264384269714355,
          -3.667792320251465,
          -2.3868136405944824,
          6.39780330657959,
          -0.27554160356521606,
          7.025186538696289,
          -3.493912935256958,
          -4.056586742401123,
          -0.0016015912406146526,
          -3.4279093742370605,
          -3.6534197330474854,
          -3.005938768386841,
          -2.1513988971710205,
          -0.747374415397644,
          5.954782485961914,
          -0.08120455592870712,
          -0.7611374258995056,
          -2.1092185974121094,
          7.590664863586426,
          7.398078918457031,
          7.213383674621582,
          -1.0764352083206177,
          -3.094356060028076,
          -1.3426092863082886,
          6.061248779296875,
          7.1382670402526855,
          7.447934150695801,
          6.696535110473633,
          -2.120513916015625,
          7.4512248039245605,
          -0.33225002884864807,
          -0.8039969801902771,
          -4.621254920959473,
          -1.4678999185562134,
          -2.169072151184082,
          -2.209510564804077,
          -2.7299857139587402,
          -4.394134044647217,
          7.800724506378174,
          -0.7560134530067444,
          7.058753967285156,
          6.731545448303223,
          -2.4438977241516113,
          6.694332599639893,
          -1.0387815237045288,
          -2.872504472732544,
          -3.577657461166382,
          -3.9846041202545166,
          -0.9430001974105835,
          6.350872993469238,
          6.910665988922119,
          -0.7015887498855591,
          -1.6611475944519043,
          7.189386367797852,
          7.172873497009277,
          -1.6811444759368896,
          7.583127975463867,
          -3.0691661834716797,
          -1.7645081281661987,
          -1.399937629699707,
          -0.07032142579555511,
          -3.125591278076172,
          -0.8565325736999512,
          -2.4859893321990967,
          -1.4683114290237427,
          7.153439044952393,
          -3.205798864364624,
          -4.091128349304199,
          7.755804061889648,
          7.361296653747559,
          7.420576572418213,
          -3.495192766189575,
          6.128150463104248,
          -2.0796306133270264,
          6.946869373321533,
          6.447115421295166,
          -2.1573925018310547,
          -1.7193024158477783,
          6.364490509033203,
          -0.7380920648574829,
          6.5593037605285645,
          -1.1375709772109985,
          -1.191811442375183,
          -2.078300952911377,
          -3.2043886184692383,
          -0.8940647840499878,
          -2.1814558506011963,
          7.706777572631836,
          7.794670104980469,
          -2.7212443351745605,
          -4.495501518249512,
          7.261446952819824,
          7.1737260818481445,
          6.0321502685546875,
          -1.982869267463684,
          -4.098354816436768,
          -3.1374547481536865,
          5.865068435668945,
          -1.2638192176818848,
          -0.8062734603881836,
          -5.066522598266602,
          -2.465287923812866,
          -1.0652707815170288,
          6.296106815338135,
          -3.1368932723999023,
          8.164644241333008,
          -0.19617502391338348,
          -0.885711669921875,
          6.912215709686279,
          -1.9484864473342896,
          -3.6836507320404053,
          -2.960627317428589,
          8.097875595092773,
          -1.8236737251281738,
          6.086039066314697,
          6.3173441886901855,
          -1.6323649883270264,
          -2.096144199371338,
          -3.8188185691833496,
          7.96488618850708,
          -3.3221349716186523,
          -2.0663397312164307,
          6.589369773864746,
          6.958456516265869,
          7.575918674468994,
          6.265951156616211,
          -0.7008559107780457,
          -0.8656848669052124,
          6.032197952270508,
          6.725644111633301,
          -0.839726448059082,
          -3.533724784851074,
          -2.103607654571533,
          6.597597599029541,
          7.650740623474121
         ],
         "xaxis": "x",
         "y": [
          -2.8173437118530273,
          3.1757261753082275,
          -0.6611327528953552,
          3.376941442489624,
          -0.9818693399429321,
          3.305856943130493,
          2.5336334705352783,
          3.2531063556671143,
          -0.012754746712744236,
          -4.012590408325195,
          4.459120273590088,
          -0.6139522790908813,
          3.9227757453918457,
          0.05601061135530472,
          0.2742438316345215,
          2.428286075592041,
          4.088432788848877,
          1.3593387603759766,
          0.16442322731018066,
          2.8271703720092773,
          3.3365931510925293,
          -2.3057942390441895,
          -0.24094468355178833,
          -0.00767709594219923,
          2.259950876235962,
          -2.02878999710083,
          -0.4777648448944092,
          0.2280856817960739,
          1.1345494985580444,
          1.5702019929885864,
          -0.10762681812047958,
          3.454545497894287,
          -1.282586932182312,
          1.2766501903533936,
          -0.4272621273994446,
          -2.278557538986206,
          0.9176415205001831,
          0.22194722294807434,
          -2.464887857437134,
          3.44661545753479,
          0.8725793957710266,
          1.7214419841766357,
          0.40951478481292725,
          2.2516632080078125,
          1.0493404865264893,
          2.6016764640808105,
          1.1233134269714355,
          0.03800934553146362,
          -0.4526078701019287,
          1.4827176332473755,
          3.955338478088379,
          0.3912293314933777,
          -0.40621820092201233,
          2.550618886947632,
          3.094022512435913,
          0.5687222480773926,
          3.534214496612549,
          2.9008865356445312,
          1.3611526489257812,
          -0.31794625520706177,
          -0.4776633679866791,
          1.1217982769012451,
          2.3201286792755127,
          1.8796966075897217,
          0.5175866484642029,
          0.960736095905304,
          0.22935648262500763,
          1.0916693210601807,
          -0.5487342476844788,
          3.0384693145751953,
          1.3295079469680786,
          3.2314136028289795,
          -2.814540147781372,
          4.043645858764648,
          -5.220469951629639,
          -3.3677735328674316,
          -0.7069362998008728,
          2.07977557182312,
          -5.1363091468811035,
          -4.80744743347168,
          -4.7202067375183105,
          -3.6298716068267822,
          -0.40515410900115967,
          1.2332003116607666,
          2.5359444618225098,
          2.4402146339416504,
          1.379621982574463,
          1.9176992177963257,
          0.27081629633903503,
          -2.748495578765869,
          -3.817302942276001,
          4.449326992034912,
          0.2636474072933197,
          2.313157796859741,
          3.393122434616089,
          2.150131940841675,
          0.1769047975540161,
          2.0883536338806152,
          1.343546986579895,
          -0.670099675655365,
          -2.5639944076538086,
          1.4033373594284058,
          2.103848695755005,
          -0.5549156069755554,
          2.57841157913208,
          -3.685040235519409,
          0.8115110993385315,
          2.819732189178467,
          -5.21966028213501,
          1.9471627473831177,
          -3.211111068725586,
          -2.5305612087249756,
          4.720515727996826,
          -3.719027280807495,
          -1.0424680709838867,
          -3.9255144596099854,
          3.0183465480804443,
          2.330321788787842,
          3.7008872032165527,
          1.4610458612442017,
          -4.12239408493042,
          0.10817709565162659,
          2.7343170642852783,
          0.5027226805686951,
          1.1242775917053223,
          2.9709091186523438,
          3.239794969558716,
          3.423245668411255,
          2.651224374771118,
          2.791020631790161,
          -0.01116051897406578,
          -0.08449887484312057,
          3.911977767944336,
          2.8450756072998047,
          1.6813457012176514,
          -3.297966480255127,
          -0.5624539256095886,
          3.6903257369995117,
          3.100085973739624,
          0.9948893189430237,
          4.0952911376953125,
          -2.6258413791656494,
          -0.6263777613639832,
          -0.8660608530044556,
          1.48392915725708,
          -4.284723281860352,
          3.7664148807525635,
          1.0798296928405762,
          3.281686305999756,
          0.4436380863189697,
          -2.999162435531616,
          -4.060274600982666,
          1.4296629428863525,
          -0.7319055199623108,
          -2.448857545852661,
          0.49771589040756226,
          0.6891516447067261,
          0.8750972151756287,
          -4.620708465576172,
          3.816317081451416,
          2.9188270568847656,
          -0.5442520380020142,
          -4.660568714141846,
          -5.0655131340026855,
          3.5208685398101807,
          1.3970932960510254,
          4.0297698974609375,
          1.3716416358947754,
          -0.017114093527197838,
          1.0614503622055054,
          0.6435710787773132,
          2.067140817642212,
          2.7338857650756836,
          -0.7535960078239441,
          0.9346246719360352,
          1.635573148727417,
          3.0232362747192383,
          -0.6882507801055908,
          3.282139539718628,
          3.5450899600982666,
          1.2414802312850952,
          2.704341173171997,
          3.513467311859131,
          1.6810948848724365,
          1.456069827079773,
          2.9453952312469482,
          1.9436092376708984,
          -0.20744624733924866,
          -4.307389736175537,
          -4.041505813598633,
          1.0447633266448975,
          -1.1038058996200562,
          4.500687599182129,
          -0.924757719039917,
          2.550874948501587,
          2.636517286300659,
          1.2385843992233276,
          2.7858572006225586,
          -2.555443525314331,
          1.0234084129333496,
          0.04532653093338013,
          0.6860265731811523,
          3.299694061279297,
          -0.523537814617157,
          -0.8268979787826538,
          3.4655978679656982,
          -4.783280372619629,
          0.07390355318784714,
          2.9124488830566406,
          3.1654250621795654,
          0.8657680153846741,
          2.0940396785736084,
          1.901329517364502,
          -3.596196413040161,
          0.15212607383728027,
          0.6220179796218872,
          3.085533857345581,
          2.3414456844329834,
          2.0164918899536133,
          0.9598210453987122,
          -0.7934718132019043,
          2.194253921508789,
          -0.5518330335617065,
          -5.1901326179504395,
          2.3927576541900635,
          -4.731566905975342,
          0.2910105884075165,
          -4.2321600914001465,
          1.5533784627914429,
          2.0720856189727783,
          2.5667731761932373,
          0.40088486671447754,
          3.4958765506744385,
          3.637655735015869,
          1.8568544387817383,
          2.1754348278045654,
          2.5075864791870117,
          -3.9260478019714355,
          3.400607109069824,
          -0.7586308121681213,
          0.13730520009994507,
          2.1317341327667236,
          -0.5942220091819763,
          2.2750511169433594,
          3.033395767211914,
          1.8827955722808838,
          -4.0459418296813965,
          -4.916572570800781,
          0.21913711726665497,
          -0.3523935377597809,
          -0.8060551881790161,
          1.2143994569778442,
          3.384437084197998,
          -0.4868292808532715,
          -3.799437999725342,
          0.2002265453338623,
          -3.0175437927246094,
          2.060694694519043,
          2.0764524936676025,
          1.7122362852096558,
          -0.5816081166267395,
          -0.5548118352890015,
          -1.0533114671707153,
          1.1686464548110962,
          -0.6610841751098633,
          2.234405755996704,
          3.54769229888916,
          2.6117405891418457,
          -5.210760593414307,
          2.473198890686035,
          2.4541518688201904,
          3.396437644958496,
          -3.485415458679199,
          -0.606329083442688,
          3.6347720623016357,
          -0.3627535402774811,
          2.137136697769165,
          -1.0728570222854614,
          2.415971040725708,
          -4.231280326843262,
          0.33561965823173523,
          -0.5430953502655029,
          -4.064236640930176,
          -2.9871811866760254,
          -0.9497277736663818,
          2.5678398609161377,
          1.231691837310791,
          2.3221192359924316,
          2.1232662200927734,
          -2.789428949356079,
          -2.877415418624878,
          2.7167446613311768,
          0.656402587890625,
          2.2392828464508057,
          1.219112753868103,
          4.407623291015625,
          3.5115277767181396,
          -5.112005710601807,
          0.7513688802719116,
          -2.9728453159332275,
          2.6185970306396484,
          2.143077850341797,
          1.5747936964035034,
          3.0271873474121094,
          3.0354738235473633,
          -4.8780317306518555,
          2.096320867538452,
          -4.726127624511719,
          0.8440747857093811,
          1.4570003747940063,
          1.5014821290969849,
          0.9950883388519287,
          2.424143075942993,
          -0.6786112785339355,
          0.7218672633171082,
          -2.8961527347564697,
          1.1032073497772217,
          2.3961563110351562,
          -4.9752020835876465,
          3.315765380859375,
          2.608389377593994,
          -3.9266858100891113,
          3.5366578102111816,
          2.1423187255859375,
          -4.378607749938965,
          -2.8097074031829834,
          3.1419825553894043,
          3.4413723945617676,
          0.31396302580833435,
          3.3580119609832764,
          2.784794807434082,
          2.3419344425201416,
          -0.5974494218826294,
          0.16501444578170776,
          1.8023428916931152,
          -0.40696337819099426,
          2.7664003372192383,
          -3.2655510902404785,
          1.9817525148391724,
          2.1401078701019287,
          -3.28458571434021,
          -4.190830707550049,
          3.790485143661499,
          -0.759447455406189,
          3.1964352130889893,
          -0.08987375348806381,
          2.8983378410339355,
          1.1621315479278564,
          3.289919137954712,
          2.289618968963623,
          1.3071357011795044,
          -3.444200038909912,
          1.631293535232544,
          3.3708791732788086,
          1.2509429454803467,
          -4.173759460449219,
          -0.20512907207012177,
          2.119882822036743,
          1.9708788394927979,
          -2.1223771572113037,
          3.0344173908233643,
          2.0984411239624023,
          -0.5087400674819946,
          0.7607055902481079,
          3.49619460105896,
          -4.738004207611084,
          1.9218116998672485,
          2.6173646450042725,
          2.0400075912475586,
          2.7965426445007324,
          0.7143104672431946,
          0.18865828216075897,
          -0.8815528750419617,
          0.4981657564640045,
          3.420973777770996,
          0.40354233980178833,
          -4.9629974365234375,
          3.2435638904571533,
          3.3684072494506836,
          -2.5755550861358643,
          3.7814199924468994,
          0.04641922190785408,
          -5.0055952072143555,
          -3.6688616275787354,
          2.8192169666290283,
          0.17332878708839417,
          0.6756042838096619,
          0.6755813360214233,
          1.1119203567504883,
          -2.370196580886841,
          1.0809482336044312,
          0.17706026136875153,
          -3.560727119445801,
          -4.072423934936523,
          1.7501447200775146,
          3.4166927337646484,
          -3.7374513149261475,
          3.0558066368103027,
          -2.7728586196899414,
          -4.1984782218933105,
          1.427121639251709,
          0.6240414381027222,
          1.1115103960037231,
          3.5438687801361084,
          2.9489896297454834,
          2.9950778484344482,
          -0.4876677095890045,
          -0.22159692645072937,
          4.022281169891357,
          2.740896463394165,
          2.3370680809020996,
          -2.9683403968811035,
          2.0283424854278564,
          -4.825459957122803,
          2.5380330085754395,
          0.39848873019218445,
          1.7058522701263428,
          2.790329933166504,
          3.5713601112365723,
          0.023702017962932587,
          -2.387807846069336,
          1.2258167266845703,
          2.242141008377075,
          2.7654836177825928,
          0.0017145999008789659,
          1.8704073429107666,
          2.556884765625,
          3.213043689727783,
          -2.772716999053955,
          -0.654442310333252,
          -3.89607310295105,
          2.860520601272583,
          1.1807070970535278,
          3.3405511379241943,
          1.176999568939209,
          1.1799482107162476,
          1.7394468784332275,
          -0.572574257850647,
          -5.197204113006592,
          -0.7964167594909668,
          -3.8233134746551514,
          -5.126681804656982,
          -0.8904669284820557,
          -0.8511209487915039,
          0.2845765948295593,
          2.972703456878662,
          1.490270733833313,
          -0.46322813630104065,
          -0.19837607443332672,
          3.0104289054870605,
          0.8040469884872437,
          -0.7190773487091064,
          0.3724273443222046,
          -4.911677360534668,
          4.731832504272461,
          3.3638205528259277,
          0.5891256928443909,
          -0.5487769246101379,
          -5.015539646148682,
          -4.275298595428467,
          2.922215461730957,
          -0.7843332290649414,
          1.0769331455230713,
          -4.575412750244141,
          0.3865782618522644,
          -3.8015458583831787,
          -5.055091857910156,
          1.7162511348724365,
          1.5021007061004639,
          -0.15414248406887054,
          -4.266695976257324,
          0.9089053273200989,
          1.3618518114089966,
          -3.625490188598633,
          0.5905179381370544,
          2.5407814979553223,
          2.69644832611084,
          2.9777753353118896,
          -2.8391449451446533,
          2.31956148147583,
          0.7051591873168945,
          0.9782655239105225,
          3.062723159790039,
          -0.7455084919929504,
          2.9910058975219727,
          -0.8098825216293335,
          1.6235202550888062,
          -2.9232895374298096,
          -3.214944362640381,
          -0.7157773375511169,
          -4.772095680236816,
          4.5874481201171875,
          2.3846144676208496,
          1.5535424947738647,
          -0.39229097962379456,
          3.473585844039917,
          2.7993273735046387,
          4.1329498291015625,
          -0.5344229936599731,
          -2.5494136810302734,
          2.972891330718994,
          0.23265138268470764,
          -2.457489252090454,
          0.33704352378845215,
          -2.748690366744995,
          -0.7236939072608948,
          -5.104905605316162,
          1.0883687734603882,
          -2.936500310897827,
          2.4675490856170654,
          -1.0636043548583984,
          1.0211584568023682,
          2.021500825881958,
          2.2066521644592285,
          -5.119268894195557,
          -0.237853541970253,
          -0.7909759283065796,
          -5.054195404052734,
          0.9738911986351013,
          2.2165520191192627,
          -2.6415212154388428,
          0.19513501226902008,
          2.102750778198242,
          0.2858982980251312,
          2.1289350986480713,
          2.8278324604034424,
          -3.4609897136688232,
          2.2553093433380127,
          0.9914522767066956,
          -2.8787951469421387,
          2.010056257247925,
          1.956011176109314,
          4.064932823181152,
          0.6532012820243835,
          4.659614562988281,
          1.6165412664413452,
          2.9818437099456787,
          -0.7354796528816223,
          -1.6481683254241943,
          2.6298534870147705,
          1.509223222732544,
          3.320577383041382,
          2.3482024669647217,
          3.291102886199951,
          1.3517396450042725,
          4.122962474822998,
          -4.080211162567139,
          3.534119129180908,
          3.2810115814208984,
          -4.044572353363037,
          -0.3950338661670685,
          -3.221079111099243,
          -0.7043108344078064,
          -4.607888221740723,
          -0.3957976996898651,
          2.0107083320617676,
          3.98496675491333,
          -5.063640594482422,
          3.303769111633301,
          0.32915419340133667,
          -0.8235614895820618,
          2.0278282165527344,
          -0.38668277859687805,
          4.282797813415527,
          1.3096669912338257,
          -4.921497344970703,
          1.27979576587677,
          0.2506520748138428,
          3.4444234371185303,
          4.488314628601074,
          -2.818148612976074,
          4.654269218444824,
          3.038372755050659,
          2.314592123031616,
          3.217398166656494,
          1.4521628618240356,
          2.4820010662078857,
          2.0309338569641113,
          -3.001116991043091,
          -4.1395792961120605,
          -2.4649434089660645,
          -4.620749473571777,
          0.24415789544582367,
          2.6938228607177734,
          0.8290616869926453,
          -4.667314529418945,
          -2.98811674118042,
          0.5613105893135071,
          2.581974744796753,
          1.9384559392929077,
          0.8954469561576843,
          0.2179715782403946,
          -0.017317896708846092,
          2.9987640380859375,
          0.010845650918781757,
          -0.4962746798992157,
          3.163499355316162,
          1.869568943977356,
          3.0325191020965576,
          -0.8374283313751221,
          3.7778677940368652,
          0.0008402417879551649,
          2.3896806240081787,
          2.657825231552124,
          3.2601938247680664,
          3.141427993774414,
          3.2854042053222656,
          2.2831006050109863,
          1.4862645864486694,
          2.4497838020324707,
          2.088075876235962,
          -2.9054269790649414,
          -2.657677412033081,
          -3.189208745956421,
          -4.019448757171631,
          -0.11705835163593292,
          0.8319825530052185,
          0.3318975865840912,
          1.123083233833313,
          -2.978444814682007,
          -0.452096551656723,
          -0.46806174516677856,
          -0.7759557962417603,
          0.6032927632331848,
          0.31270429491996765,
          2.9837517738342285,
          3.0040879249572754,
          -1.071813941001892,
          -0.11970221251249313,
          -4.595961093902588,
          -0.8222101330757141,
          2.752399444580078,
          -5.1797051429748535,
          -0.1943189650774002,
          -2.5877695083618164,
          -1.8007291555404663,
          -2.7712767124176025,
          -0.35703572630882263,
          4.72935676574707,
          -0.30498605966567993,
          -0.7576678991317749,
          3.1873044967651367,
          2.6855576038360596,
          -2.6844289302825928,
          2.3031387329101562,
          -4.71621561050415,
          -0.4025108218193054,
          -3.6938469409942627,
          1.816650390625,
          -3.5897927284240723,
          0.2953964173793793,
          1.2747929096221924,
          0.20130270719528198,
          3.8569273948669434,
          1.7013118267059326,
          3.102628707885742,
          -0.6148526668548584,
          -3.1320807933807373,
          0.10651367902755737,
          1.9234760999679565,
          1.4678583145141602,
          -0.37947773933410645,
          0.09927260875701904,
          -2.8635330200195312,
          3.5132179260253906,
          2.8297626972198486,
          3.5358469486236572,
          2.876250743865967,
          2.862166404724121,
          1.511846899986267,
          1.034156322479248,
          -4.160262584686279,
          -0.7585235834121704,
          -0.2657305598258972,
          3.5782253742218018,
          -0.1316474974155426,
          3.23142147064209,
          4.6658806800842285,
          3.4236536026000977,
          2.8168141841888428,
          0.11445879191160202,
          0.46895116567611694,
          -3.4439010620117188,
          2.8687071800231934,
          -0.3187848925590515,
          1.5301401615142822,
          -4.306983947753906,
          1.0144391059875488,
          4.582649230957031,
          1.410367488861084,
          2.2854082584381104,
          2.0225305557250977,
          1.9087977409362793,
          1.1771782636642456,
          4.641194820404053,
          3.9861316680908203,
          -2.391887664794922,
          -4.782625675201416,
          -4.558785438537598,
          1.6802287101745605,
          0.36463263630867004,
          -4.704654216766357,
          0.02429834008216858,
          1.1268870830535889,
          -4.082187175750732,
          3.4500482082366943,
          4.222772598266602,
          2.27972149848938,
          -0.558255672454834,
          2.161504030227661,
          1.167574405670166,
          0.691597044467926,
          1.064731478691101,
          1.7974858283996582,
          0.5545914173126221,
          3.657559633255005,
          3.346217632293701,
          2.546877861022949,
          0.6725345253944397,
          0.8119258880615234,
          -0.07008080929517746,
          2.8134377002716064,
          1.5407416820526123,
          0.5614624619483948,
          1.0533140897750854,
          -1.287514567375183,
          2.756406545639038,
          3.9131453037261963,
          3.4825024604797363,
          3.283247709274292,
          1.037993311882019,
          -0.9064788222312927,
          -0.3215469717979431,
          0.892545759677887,
          0.38324978947639465,
          4.68318510055542,
          -3.727268695831299,
          -4.863940715789795,
          -5.0636773109436035,
          2.031125068664551,
          0.5222916007041931,
          -3.1066887378692627,
          -3.0749917030334473,
          2.2367401123046875,
          -2.530395984649658,
          -5.067997932434082,
          -4.302637100219727,
          4.649624824523926,
          -0.7042620778083801,
          1.4933468103408813,
          3.180392026901245,
          -0.7546975016593933,
          3.319563865661621,
          2.5885632038116455,
          0.2877584397792816,
          -0.755070149898529,
          -4.759149074554443,
          -0.45824360847473145,
          2.2539174556732178,
          1.1340316534042358,
          1.483574628829956,
          -0.8208065629005432,
          0.5463743209838867,
          1.7269846200942993,
          -2.8673038482666016,
          2.741628408432007,
          2.8940699100494385,
          -1.0529803037643433,
          2.581427574157715,
          -1.1376690864562988,
          -4.706246852874756,
          -2.798497438430786,
          -0.09619586169719696,
          2.578313112258911,
          -2.93216609954834,
          0.6313642859458923,
          -0.2245689034461975,
          0.4753335416316986,
          -5.109625339508057,
          -3.2512452602386475,
          -4.060918807983398,
          2.9923930168151855,
          2.082482099533081,
          -3.036539077758789,
          -4.899933338165283,
          1.5052053928375244,
          -0.45882824063301086,
          3.6222708225250244,
          -5.021333694458008,
          -4.615514278411865,
          3.108245611190796,
          -4.085516929626465,
          2.0904529094696045,
          -5.003106594085693,
          2.7061548233032227,
          3.4466805458068848,
          0.2271529734134674,
          -0.3325633108615875,
          -4.367817401885986,
          0.9241215586662292,
          0.1330001801252365,
          -0.09183669090270996,
          0.9547633528709412,
          3.3226850032806396,
          -0.7587378025054932,
          1.517580270767212,
          -0.39679160714149475,
          2.094665288925171,
          4.16943883895874,
          0.7379722595214844,
          -0.7221007943153381,
          2.461977243423462,
          -5.07997989654541,
          -2.317777633666992,
          2.2533581256866455,
          0.01570184715092182,
          2.016167402267456,
          2.8429579734802246,
          3.002734899520874,
          3.6370575428009033,
          4.277245044708252,
          -0.6443532705307007,
          -5.130868911743164,
          2.326582193374634,
          1.6897858381271362,
          1.781886100769043,
          4.126659393310547,
          -4.912862300872803,
          -3.8643529415130615,
          1.9298202991485596,
          2.008904218673706,
          -2.390042781829834,
          2.2033886909484863,
          2.3530585765838623,
          -0.564708411693573,
          3.2117364406585693,
          -0.8811624050140381,
          -1.10938560962677,
          4.272701740264893,
          -0.49575090408325195,
          -4.229070663452148,
          -0.5521288514137268,
          3.6457648277282715,
          2.488393783569336,
          2.3107805252075195,
          4.123661041259766,
          2.3697712421417236,
          -4.322697639465332,
          -3.1083121299743652,
          1.1054303646087646,
          4.013553619384766,
          -2.597294569015503,
          -0.5889726281166077,
          -4.177168846130371,
          0.9991755485534668,
          2.4295437335968018,
          0.9277098178863525,
          4.170034408569336,
          -4.874638080596924,
          2.11183500289917,
          -2.485579013824463,
          -4.647793292999268,
          0.39717593789100647,
          -4.210314750671387,
          2.1022799015045166,
          3.6570234298706055,
          2.457582473754883,
          -4.6825971603393555,
          3.3609566688537598,
          -2.5862483978271484,
          3.7855279445648193,
          -0.2870354950428009,
          1.5117969512939453,
          -3.300309896469116,
          3.210143804550171,
          0.6330454349517822,
          -0.09702174365520477,
          0.5538509488105774,
          -2.8156557083129883,
          -0.6528605222702026,
          -2.9015660285949707,
          -4.498801231384277,
          -4.096132755279541,
          3.2925312519073486,
          3.0614571571350098,
          4.720715522766113,
          -3.1982367038726807,
          0.815828263759613,
          -2.9969170093536377,
          2.2385003566741943,
          -0.7014150023460388,
          1.5147897005081177,
          0.21811003983020782,
          -4.093540668487549,
          1.675987958908081,
          -3.6164817810058594,
          -3.3616480827331543,
          1.7470998764038086,
          0.9251791834831238,
          1.599043369293213,
          2.2243778705596924,
          -0.5254483819007874,
          0.16058428585529327,
          2.8725953102111816,
          -4.422560214996338,
          -0.5205318927764893,
          3.440912961959839,
          3.314997434616089,
          0.2199288010597229,
          -5.209057331085205,
          1.7657749652862549,
          0.7437009215354919,
          0.2941088080406189,
          -5.192103862762451,
          2.058560609817505,
          -1.1589432954788208,
          -2.6215078830718994,
          2.612036943435669,
          4.307133197784424,
          4.715035438537598,
          -2.5473170280456543,
          3.7952628135681152,
          1.5028358697891235,
          -4.257960319519043,
          2.452829360961914,
          -2.951788902282715,
          3.3426706790924072,
          -2.7628352642059326,
          0.9955050349235535,
          2.5146431922912598,
          -1.0477370023727417,
          -0.31687238812446594,
          1.2864372730255127,
          1.4554011821746826,
          3.1190221309661865,
          -0.4694788157939911,
          0.31097710132598877,
          -0.5640252828598022,
          3.2792325019836426,
          4.409623146057129,
          -0.35487937927246094,
          -0.10651088505983353,
          -5.080141067504883,
          4.2214274406433105,
          -4.880263805389404,
          2.0607948303222656,
          -4.811685562133789,
          -4.037370681762695,
          2.395144462585449,
          3.2804644107818604,
          -2.753216028213501,
          -0.10997544229030609,
          2.9507226943969727,
          3.5636231899261475,
          0.3757108151912689,
          1.7275030612945557,
          4.654824733734131,
          2.180999517440796,
          2.3619465827941895,
          0.34645771980285645,
          2.5699896812438965,
          0.906812310218811,
          -0.7476978302001953,
          -4.9560346603393555,
          -3.0494863986968994,
          1.1850632429122925,
          2.1763153076171875,
          -4.557580947875977,
          2.067437171936035,
          -0.5306134223937988,
          2.0593161582946777,
          -4.297372817993164,
          -3.27176833152771,
          -1.1329950094223022,
          -4.418353080749512,
          2.2484915256500244,
          2.1875429153442383,
          2.254115581512451,
          -0.347334086894989,
          3.601973056793213,
          2.1262409687042236,
          -2.5259008407592773,
          -4.934629440307617,
          2.751091957092285,
          2.208418607711792,
          0.3993684947490692,
          0.41538751125335693,
          3.4839394092559814,
          4.512913703918457,
          -0.8639025688171387,
          3.668161153793335,
          -5.038856029510498,
          -4.754389762878418,
          -0.5531420111656189,
          2.32859206199646,
          -2.9738996028900146,
          1.524999976158142,
          -5.012679100036621,
          3.3454222679138184,
          -0.9060438275337219
         ],
         "yaxis": "y"
        }
       ],
       "layout": {
        "coloraxis": {
         "colorbar": {
          "title": {
           "text": "Anomaly"
          }
         },
         "colorscale": [
          [
           0,
           "#0d0887"
          ],
          [
           0.1111111111111111,
           "#46039f"
          ],
          [
           0.2222222222222222,
           "#7201a8"
          ],
          [
           0.3333333333333333,
           "#9c179e"
          ],
          [
           0.4444444444444444,
           "#bd3786"
          ],
          [
           0.5555555555555556,
           "#d8576b"
          ],
          [
           0.6666666666666666,
           "#ed7953"
          ],
          [
           0.7777777777777778,
           "#fb9f3a"
          ],
          [
           0.8888888888888888,
           "#fdca26"
          ],
          [
           1,
           "#f0f921"
          ]
         ]
        },
        "height": 800,
        "legend": {
         "tracegroupgap": 0
        },
        "template": {
         "data": {
          "bar": [
           {
            "error_x": {
             "color": "#2a3f5f"
            },
            "error_y": {
             "color": "#2a3f5f"
            },
            "marker": {
             "line": {
              "color": "#E5ECF6",
              "width": 0.5
             }
            },
            "type": "bar"
           }
          ],
          "barpolar": [
           {
            "marker": {
             "line": {
              "color": "#E5ECF6",
              "width": 0.5
             }
            },
            "type": "barpolar"
           }
          ],
          "carpet": [
           {
            "aaxis": {
             "endlinecolor": "#2a3f5f",
             "gridcolor": "white",
             "linecolor": "white",
             "minorgridcolor": "white",
             "startlinecolor": "#2a3f5f"
            },
            "baxis": {
             "endlinecolor": "#2a3f5f",
             "gridcolor": "white",
             "linecolor": "white",
             "minorgridcolor": "white",
             "startlinecolor": "#2a3f5f"
            },
            "type": "carpet"
           }
          ],
          "choropleth": [
           {
            "colorbar": {
             "outlinewidth": 0,
             "ticks": ""
            },
            "type": "choropleth"
           }
          ],
          "contour": [
           {
            "colorbar": {
             "outlinewidth": 0,
             "ticks": ""
            },
            "colorscale": [
             [
              0,
              "#0d0887"
             ],
             [
              0.1111111111111111,
              "#46039f"
             ],
             [
              0.2222222222222222,
              "#7201a8"
             ],
             [
              0.3333333333333333,
              "#9c179e"
             ],
             [
              0.4444444444444444,
              "#bd3786"
             ],
             [
              0.5555555555555556,
              "#d8576b"
             ],
             [
              0.6666666666666666,
              "#ed7953"
             ],
             [
              0.7777777777777778,
              "#fb9f3a"
             ],
             [
              0.8888888888888888,
              "#fdca26"
             ],
             [
              1,
              "#f0f921"
             ]
            ],
            "type": "contour"
           }
          ],
          "contourcarpet": [
           {
            "colorbar": {
             "outlinewidth": 0,
             "ticks": ""
            },
            "type": "contourcarpet"
           }
          ],
          "heatmap": [
           {
            "colorbar": {
             "outlinewidth": 0,
             "ticks": ""
            },
            "colorscale": [
             [
              0,
              "#0d0887"
             ],
             [
              0.1111111111111111,
              "#46039f"
             ],
             [
              0.2222222222222222,
              "#7201a8"
             ],
             [
              0.3333333333333333,
              "#9c179e"
             ],
             [
              0.4444444444444444,
              "#bd3786"
             ],
             [
              0.5555555555555556,
              "#d8576b"
             ],
             [
              0.6666666666666666,
              "#ed7953"
             ],
             [
              0.7777777777777778,
              "#fb9f3a"
             ],
             [
              0.8888888888888888,
              "#fdca26"
             ],
             [
              1,
              "#f0f921"
             ]
            ],
            "type": "heatmap"
           }
          ],
          "heatmapgl": [
           {
            "colorbar": {
             "outlinewidth": 0,
             "ticks": ""
            },
            "colorscale": [
             [
              0,
              "#0d0887"
             ],
             [
              0.1111111111111111,
              "#46039f"
             ],
             [
              0.2222222222222222,
              "#7201a8"
             ],
             [
              0.3333333333333333,
              "#9c179e"
             ],
             [
              0.4444444444444444,
              "#bd3786"
             ],
             [
              0.5555555555555556,
              "#d8576b"
             ],
             [
              0.6666666666666666,
              "#ed7953"
             ],
             [
              0.7777777777777778,
              "#fb9f3a"
             ],
             [
              0.8888888888888888,
              "#fdca26"
             ],
             [
              1,
              "#f0f921"
             ]
            ],
            "type": "heatmapgl"
           }
          ],
          "histogram": [
           {
            "marker": {
             "colorbar": {
              "outlinewidth": 0,
              "ticks": ""
             }
            },
            "type": "histogram"
           }
          ],
          "histogram2d": [
           {
            "colorbar": {
             "outlinewidth": 0,
             "ticks": ""
            },
            "colorscale": [
             [
              0,
              "#0d0887"
             ],
             [
              0.1111111111111111,
              "#46039f"
             ],
             [
              0.2222222222222222,
              "#7201a8"
             ],
             [
              0.3333333333333333,
              "#9c179e"
             ],
             [
              0.4444444444444444,
              "#bd3786"
             ],
             [
              0.5555555555555556,
              "#d8576b"
             ],
             [
              0.6666666666666666,
              "#ed7953"
             ],
             [
              0.7777777777777778,
              "#fb9f3a"
             ],
             [
              0.8888888888888888,
              "#fdca26"
             ],
             [
              1,
              "#f0f921"
             ]
            ],
            "type": "histogram2d"
           }
          ],
          "histogram2dcontour": [
           {
            "colorbar": {
             "outlinewidth": 0,
             "ticks": ""
            },
            "colorscale": [
             [
              0,
              "#0d0887"
             ],
             [
              0.1111111111111111,
              "#46039f"
             ],
             [
              0.2222222222222222,
              "#7201a8"
             ],
             [
              0.3333333333333333,
              "#9c179e"
             ],
             [
              0.4444444444444444,
              "#bd3786"
             ],
             [
              0.5555555555555556,
              "#d8576b"
             ],
             [
              0.6666666666666666,
              "#ed7953"
             ],
             [
              0.7777777777777778,
              "#fb9f3a"
             ],
             [
              0.8888888888888888,
              "#fdca26"
             ],
             [
              1,
              "#f0f921"
             ]
            ],
            "type": "histogram2dcontour"
           }
          ],
          "mesh3d": [
           {
            "colorbar": {
             "outlinewidth": 0,
             "ticks": ""
            },
            "type": "mesh3d"
           }
          ],
          "parcoords": [
           {
            "line": {
             "colorbar": {
              "outlinewidth": 0,
              "ticks": ""
             }
            },
            "type": "parcoords"
           }
          ],
          "pie": [
           {
            "automargin": true,
            "type": "pie"
           }
          ],
          "scatter": [
           {
            "marker": {
             "colorbar": {
              "outlinewidth": 0,
              "ticks": ""
             }
            },
            "type": "scatter"
           }
          ],
          "scatter3d": [
           {
            "line": {
             "colorbar": {
              "outlinewidth": 0,
              "ticks": ""
             }
            },
            "marker": {
             "colorbar": {
              "outlinewidth": 0,
              "ticks": ""
             }
            },
            "type": "scatter3d"
           }
          ],
          "scattercarpet": [
           {
            "marker": {
             "colorbar": {
              "outlinewidth": 0,
              "ticks": ""
             }
            },
            "type": "scattercarpet"
           }
          ],
          "scattergeo": [
           {
            "marker": {
             "colorbar": {
              "outlinewidth": 0,
              "ticks": ""
             }
            },
            "type": "scattergeo"
           }
          ],
          "scattergl": [
           {
            "marker": {
             "colorbar": {
              "outlinewidth": 0,
              "ticks": ""
             }
            },
            "type": "scattergl"
           }
          ],
          "scattermapbox": [
           {
            "marker": {
             "colorbar": {
              "outlinewidth": 0,
              "ticks": ""
             }
            },
            "type": "scattermapbox"
           }
          ],
          "scatterpolar": [
           {
            "marker": {
             "colorbar": {
              "outlinewidth": 0,
              "ticks": ""
             }
            },
            "type": "scatterpolar"
           }
          ],
          "scatterpolargl": [
           {
            "marker": {
             "colorbar": {
              "outlinewidth": 0,
              "ticks": ""
             }
            },
            "type": "scatterpolargl"
           }
          ],
          "scatterternary": [
           {
            "marker": {
             "colorbar": {
              "outlinewidth": 0,
              "ticks": ""
             }
            },
            "type": "scatterternary"
           }
          ],
          "surface": [
           {
            "colorbar": {
             "outlinewidth": 0,
             "ticks": ""
            },
            "colorscale": [
             [
              0,
              "#0d0887"
             ],
             [
              0.1111111111111111,
              "#46039f"
             ],
             [
              0.2222222222222222,
              "#7201a8"
             ],
             [
              0.3333333333333333,
              "#9c179e"
             ],
             [
              0.4444444444444444,
              "#bd3786"
             ],
             [
              0.5555555555555556,
              "#d8576b"
             ],
             [
              0.6666666666666666,
              "#ed7953"
             ],
             [
              0.7777777777777778,
              "#fb9f3a"
             ],
             [
              0.8888888888888888,
              "#fdca26"
             ],
             [
              1,
              "#f0f921"
             ]
            ],
            "type": "surface"
           }
          ],
          "table": [
           {
            "cells": {
             "fill": {
              "color": "#EBF0F8"
             },
             "line": {
              "color": "white"
             }
            },
            "header": {
             "fill": {
              "color": "#C8D4E3"
             },
             "line": {
              "color": "white"
             }
            },
            "type": "table"
           }
          ]
         },
         "layout": {
          "annotationdefaults": {
           "arrowcolor": "#2a3f5f",
           "arrowhead": 0,
           "arrowwidth": 1
          },
          "coloraxis": {
           "colorbar": {
            "outlinewidth": 0,
            "ticks": ""
           }
          },
          "colorscale": {
           "diverging": [
            [
             0,
             "#8e0152"
            ],
            [
             0.1,
             "#c51b7d"
            ],
            [
             0.2,
             "#de77ae"
            ],
            [
             0.3,
             "#f1b6da"
            ],
            [
             0.4,
             "#fde0ef"
            ],
            [
             0.5,
             "#f7f7f7"
            ],
            [
             0.6,
             "#e6f5d0"
            ],
            [
             0.7,
             "#b8e186"
            ],
            [
             0.8,
             "#7fbc41"
            ],
            [
             0.9,
             "#4d9221"
            ],
            [
             1,
             "#276419"
            ]
           ],
           "sequential": [
            [
             0,
             "#0d0887"
            ],
            [
             0.1111111111111111,
             "#46039f"
            ],
            [
             0.2222222222222222,
             "#7201a8"
            ],
            [
             0.3333333333333333,
             "#9c179e"
            ],
            [
             0.4444444444444444,
             "#bd3786"
            ],
            [
             0.5555555555555556,
             "#d8576b"
            ],
            [
             0.6666666666666666,
             "#ed7953"
            ],
            [
             0.7777777777777778,
             "#fb9f3a"
            ],
            [
             0.8888888888888888,
             "#fdca26"
            ],
            [
             1,
             "#f0f921"
            ]
           ],
           "sequentialminus": [
            [
             0,
             "#0d0887"
            ],
            [
             0.1111111111111111,
             "#46039f"
            ],
            [
             0.2222222222222222,
             "#7201a8"
            ],
            [
             0.3333333333333333,
             "#9c179e"
            ],
            [
             0.4444444444444444,
             "#bd3786"
            ],
            [
             0.5555555555555556,
             "#d8576b"
            ],
            [
             0.6666666666666666,
             "#ed7953"
            ],
            [
             0.7777777777777778,
             "#fb9f3a"
            ],
            [
             0.8888888888888888,
             "#fdca26"
            ],
            [
             1,
             "#f0f921"
            ]
           ]
          },
          "colorway": [
           "#636efa",
           "#EF553B",
           "#00cc96",
           "#ab63fa",
           "#FFA15A",
           "#19d3f3",
           "#FF6692",
           "#B6E880",
           "#FF97FF",
           "#FECB52"
          ],
          "font": {
           "color": "#2a3f5f"
          },
          "geo": {
           "bgcolor": "white",
           "lakecolor": "white",
           "landcolor": "#E5ECF6",
           "showlakes": true,
           "showland": true,
           "subunitcolor": "white"
          },
          "hoverlabel": {
           "align": "left"
          },
          "hovermode": "closest",
          "mapbox": {
           "style": "light"
          },
          "paper_bgcolor": "white",
          "plot_bgcolor": "#E5ECF6",
          "polar": {
           "angularaxis": {
            "gridcolor": "white",
            "linecolor": "white",
            "ticks": ""
           },
           "bgcolor": "#E5ECF6",
           "radialaxis": {
            "gridcolor": "white",
            "linecolor": "white",
            "ticks": ""
           }
          },
          "scene": {
           "xaxis": {
            "backgroundcolor": "#E5ECF6",
            "gridcolor": "white",
            "gridwidth": 2,
            "linecolor": "white",
            "showbackground": true,
            "ticks": "",
            "zerolinecolor": "white"
           },
           "yaxis": {
            "backgroundcolor": "#E5ECF6",
            "gridcolor": "white",
            "gridwidth": 2,
            "linecolor": "white",
            "showbackground": true,
            "ticks": "",
            "zerolinecolor": "white"
           },
           "zaxis": {
            "backgroundcolor": "#E5ECF6",
            "gridcolor": "white",
            "gridwidth": 2,
            "linecolor": "white",
            "showbackground": true,
            "ticks": "",
            "zerolinecolor": "white"
           }
          },
          "shapedefaults": {
           "line": {
            "color": "#2a3f5f"
           }
          },
          "ternary": {
           "aaxis": {
            "gridcolor": "white",
            "linecolor": "white",
            "ticks": ""
           },
           "baxis": {
            "gridcolor": "white",
            "linecolor": "white",
            "ticks": ""
           },
           "bgcolor": "#E5ECF6",
           "caxis": {
            "gridcolor": "white",
            "linecolor": "white",
            "ticks": ""
           }
          },
          "title": {
           "x": 0.05
          },
          "xaxis": {
           "automargin": true,
           "gridcolor": "white",
           "linecolor": "white",
           "ticks": "",
           "title": {
            "standoff": 15
           },
           "zerolinecolor": "white",
           "zerolinewidth": 2
          },
          "yaxis": {
           "automargin": true,
           "gridcolor": "white",
           "linecolor": "white",
           "ticks": "",
           "title": {
            "standoff": 15
           },
           "zerolinecolor": "white",
           "zerolinewidth": 2
          }
         }
        },
        "title": {
         "text": "uMAP Plot for Outliers"
        },
        "width": 900,
        "xaxis": {
         "anchor": "y",
         "domain": [
          0,
          1
         ],
         "title": {
          "text": "0"
         }
        },
        "yaxis": {
         "anchor": "x",
         "domain": [
          0,
          1
         ],
         "title": {
          "text": "1"
         }
        }
       }
      },
      "text/html": [
       "<div>\n",
       "        \n",
       "        \n",
       "            <div id=\"9a5fcb35-8793-4bee-b5c5-b9097884ee2b\" class=\"plotly-graph-div\" style=\"height:800px; width:900px;\"></div>\n",
       "            <script type=\"text/javascript\">\n",
       "                require([\"plotly\"], function(Plotly) {\n",
       "                    window.PLOTLYENV=window.PLOTLYENV || {};\n",
       "                    \n",
       "                if (document.getElementById(\"9a5fcb35-8793-4bee-b5c5-b9097884ee2b\")) {\n",
       "                    Plotly.newPlot(\n",
       "                        '9a5fcb35-8793-4bee-b5c5-b9097884ee2b',\n",
       "                        [{\"customdata\": [[0.263995357], [0.546092303], [0.336714104], [0.092107835], [0.325261175], [0.212464853], [0.258565714], [0.869236755], [0.197077957], [0.292984504], [0.82178316], [0.796622959], [0.045577011], [0.613660351], [0.950744566], [0.336346337], [0.034440667], [0.741544275], [0.18443265], [0.664514943], [0.162824858], [0.729838445], [0.62837389], [0.057883661], [0.445534827], [0.80183695], [0.27709612], [0.228634015], [0.834860657], [0.669766511], [0.532527349], [0.170459071], [0.510288468], [0.977561989], [0.249775993], [0.975500682], [0.613701727], [0.167420363], [0.537472516], [0.379899131], [0.633897303], [0.633960424], [0.549974653], [0.178172988], [0.85563814], [0.321796672], [0.817490537], [0.254879417], [0.344140513], [0.806145726], [0.277081671], [0.544328519], [0.07708393], [0.273081458], [0.390877336], [0.349621385], [0.214549744], [0.206075222], [0.86461997], [0.981708854], [0.334829646], [0.648387061], [0.093643561], [0.837802698], [0.760343967], [0.291404174], [0.3413454], [0.761112484], [0.541899775], [0.684176639], [0.983535597], [0.52081245], [0.328227724], [0.097157938], [0.876088593], [0.870214512], [0.656086992], [0.306791514], [0.48126734], [0.259559174], [0.326123655], [0.930568042], [0.6583894], [0.689992335], [0.315781109], [0.566905093], [0.637526619], [0.687540723], [0.324300602], [0.592704906], [0.740253126], [0.594032877], [0.596452977], [0.277680817], [0.258329663], [0.142460864], [0.435533461], [0.702499044], [0.58897535], [0.653304374], [0.336968524], [0.631244736], [0.73530076], [0.050390366], [0.064264924], [0.665359476], [0.917835245], [0.44651012], [0.661938199], [0.439359853], [0.687572404], [0.363462248], [0.654262182], [0.578553536], [0.065927945], [0.550148559], [0.139182814], [0.080004635], [0.278228358], [0.560124266], [0.53639864], [0.426531904], [0.789109796], [0.742900474], [0.901692589], [0.650337401], [0.114057311], [0.260812592], [0.43991232], [0.964409284], [0.184401415], [0.345145446], [0.175894581], [0.312514453], [0.674131879], [0.32825045], [0.598231057], [0.092598817], [0.497916521], [0.419776521], [0.3121767], [0.937857107], [0.049030963], [0.476104526], [0.447397526], [0.295806058], [0.737363977], [0.625896253], [0.408813429], [0.437511156], [0.691351375], [0.935555275], [0.437846654], [0.072217715], [0.67636067], [0.468883999], [0.543820644], [0.655522647], [0.693528924], [0.108878312], [0.285463743], [0.0], [0.706495497], [0.273530633], [0.292320271], [0.673984307], [0.126121828], [0.946707459], [0.936338898], [0.853755364], [0.706071361], [0.693682186], [0.508527882], [0.347170389], [0.704154263], [0.658730088], [0.155841557], [0.311085435], [0.281135347], [0.094587802], [0.683260954], [0.907729251], [0.291512674], [0.752734459], [0.93482964], [0.071413953], [0.594896327], [0.404672015], [0.13837621], [0.747338468], [0.530882486], [0.282649594], [0.699335734], [0.056111251], [0.855234998], [0.077895127], [0.891649583], [0.386742279], [0.27113158], [0.958888961], [0.085120869], [0.526902249], [0.066577785], [0.841506738], [0.255342095], [0.060545771], [0.073385869], [0.187493723], [0.858365688], [0.090640352], [0.709725227], [0.631300647], [0.247504474], [0.822843584], [0.373476759], [0.625538582], [0.292951715], [0.299730324], [0.25121407], [0.344480551], [0.293064767], [0.762803224], [0.738470804], [0.674883265], [0.719151612], [0.130980216], [0.511328036], [0.04492903], [0.560914449], [0.744040641], [0.266961634], [0.644231853], [0.038113352], [0.057155299], [0.341392461], [0.720463632], [0.402878236], [0.635148967], [0.320729467], [0.091209694], [0.23414609], [0.890221131], [0.602170884], [0.633652055], [0.806240837], [0.739731184], [0.465231269], [0.7321109], [0.373874305], [0.501587947], [0.115383158], [0.731946604], [0.418298728], [0.062259591], [0.391496379], [0.35984929], [0.245235627], [0.610028339], [0.435403602], [0.434309675], [0.523763344], [0.171187866], [0.187734303], [0.945014638], [0.027851097], [0.68445706], [0.178014532], [0.643427879], [0.59588355], [0.372361682], [0.586103584], [0.271658852], [0.59951107], [0.468363088], [0.314515565], [0.21893726], [0.254716562], [0.25612815], [0.602259755], [0.134381075], [0.513887424], [0.624241636], [0.160251854], [0.580708108], [0.270540486], [0.832919932], [0.93032134], [0.719157884], [0.886720033], [0.098792281], [0.787174286], [0.365592376], [0.719576193], [0.8058956], [0.755578334], [0.526005909], [0.68880424], [0.221115312], [0.739369477], [0.408440236], [0.348926542], [0.433713763], [0.596496607], [0.6942953], [0.709030966], [0.867652984], [0.89332545], [0.746020922], [0.538284443], [0.892219314], [0.935175765], [0.260527707], [0.956780449], [0.204932484], [0.687733351], [0.329063619], [0.632149831], [0.463744506], [0.698859621], [0.385446564], [0.479975377], [0.732279108], [0.3813543], [0.459326013], [0.257401434], [0.665014804], [0.103399542], [0.425284413], [0.943529051], [0.594750236], [0.543776817], [0.18203988], [0.235842084], [0.585984497], [0.762013168], [0.684982907], [0.676936933], [0.290184964], [0.481068222], [0.492766033], [0.221856234], [0.053875998], [0.082751144], [0.385366225], [0.702513961], [0.91553156], [0.082087436], [0.251280378], [0.416721817], [0.277032672], [0.579539754], [0.569363476], [0.133399703], [0.265045463], [0.936571901], [0.252618554], [0.054033081], [0.802481439], [0.528197693], [0.9515026], [0.572121173], [0.752938227], [0.143857535], [0.513484576], [0.313322389], [0.687797396], [0.37705984], [0.348226142], [0.67763282], [0.241387521], [0.850650179], [0.220348103], [0.476445464], [0.690324025], [0.364695946], [0.649249197], [0.943701921], [0.529645971], [0.299097002], [0.96696247], [0.272005242], [0.314161447], [0.752020991], [0.221882453], [0.720332673], [0.379204782], [0.60168653], [0.582932673], [0.950809853], [0.58830141], [0.880887227], [0.467857701], [0.879902171], [0.619844009], [0.359002573], [0.291511278], [0.694157143], [0.727960353], [0.617703921], [0.39581257], [0.58317282], [0.710332374], [0.253753693], [0.049412228], [0.728378695], [0.432432881], [0.58612345], [0.052342373], [0.053483902], [0.518729378], [0.933040208], [0.703554284], [0.268989899], [0.733006927], [0.444352467], [0.583394621], [0.871172692], [0.428767078], [0.300460841], [0.953329459], [0.606443965], [0.90986815], [0.714896449], [0.497349509], [0.853097486], [0.721804145], [0.303467328], [0.664485096], [0.27978062], [0.569481665], [0.628628926], [0.088368123], [0.733567326], [0.537436778], [0.638593691], [0.954726948], [0.632202332], [0.642134651], [0.744653087], [0.115714007], [0.486250073], [0.440356144], [0.08272289], [0.511591027], [0.394627555], [0.224394], [0.626927584], [0.290254057], [0.779008053], [0.86610579], [0.873326081], [0.49548916], [0.594297695], [0.918201584], [0.577042754], [0.019467671], [0.670298282], [0.546595316], [0.591665146], [0.42155819], [0.685608559], [0.340303024], [0.675626741], [0.319067345], [0.388499664], [0.706949589], [0.559409515], [0.687663508], [0.708804554], [0.681888094], [0.422535109], [0.320004605], [0.658281368], [0.634154867], [0.777332009], [0.812677205], [0.074280797], [0.39600217], [0.054933913], [0.825058925], [0.382642009], [0.868729818], [0.588043346], [0.891551577], [0.10920046], [0.647682781], [0.724342512], [0.070163044], [0.280882054], [0.039113261], [0.579641592], [0.639000922], [0.281745925], [0.647857744], [0.647905797], [0.875226264], [0.567603305], [0.262940591], [0.268026042], [0.40519133], [0.479965451], [0.33552403], [0.777165379], [0.425487963], [0.237986115], [0.142522971], [0.724176488], [0.234698933], [0.078182281], [0.855990155], [0.270251765], [0.435517841], [0.762697513], [0.464487258], [0.396112685], [0.376380921], [0.294594677], [0.694492121], [0.622767949], [0.847559722], [0.301463054], [0.912937812], [0.500017182], [0.902587935], [0.304517943], [0.299165673], [0.092014087], [0.488548917], [0.664664437], [0.265349549], [0.723657021], [0.149262385], [0.04577339], [0.69661064], [0.42181486], [0.733845785], [0.418795386], [0.677443529], [0.261283603], [0.268527767], [0.544322236], [0.431632036], [0.981018141], [0.214980724], [0.394729993], [0.122224944], [0.297496875], [0.374904431], [0.68698771], [0.388549207], [0.039296071], [0.73553424], [0.379294893], [0.732123386], [0.339221439], [0.659450594], [0.054838642], [0.640112102], [0.307141704], [0.396611907], [0.420439161], [0.241714974], [0.065893153], [0.910521937], [0.697163103], [0.072559853], [0.81825094], [0.311888815], [0.961644609], [0.816325524], [0.14647302], [0.548753945], [0.946158087], [0.293992717], [0.331479643], [0.906220031], [0.525540416], [0.83301411], [0.514849806], [0.574609024], [0.468711853], [0.71002775], [0.645973276], [0.229794416], [0.551783393], [0.055822991], [0.331750941], [0.715520198], [0.583924357], [0.306957691], [0.791478237], [0.164236639], [0.065711219], [0.948993132], [0.080423835], [0.052495426], [0.566346135], [0.3630266], [0.605442195], [0.630850584], [0.065791238], [0.286817071], [0.685462839], [0.260853706], [0.659122429], [0.443173922], [0.602063986], [0.060366911], [0.781903153], [0.514579807], [0.483886213], [0.600213807], [0.497364052], [0.411145245], [0.116999171], [0.341890141], [0.746950848], [0.396292746], [0.622143843], [0.335271141], [0.140257137], [0.081620681], [0.069837569], [0.468940008], [0.990857417], [0.896616832], [0.255310561], [0.224645267], [0.01991825], [0.296480415], [0.155458996], [0.577916714], [0.956303031], [0.813464394], [0.529675785], [0.287671353], [0.48039136], [0.281044822], [0.633196521], [0.093325377], [0.284473981], [0.052223775], [0.051129385], [0.967405608], [0.040045728], [0.908582921], [0.662117416], [0.424703209], [0.72207806], [0.666193327], [0.509681253], [0.751353621], [0.279073124], [0.074927], [0.916359535], [0.31040327], [0.716604052], [0.485587085], [0.306075181], [0.477558204], [0.711923941], [0.066348638], [0.274539351], [0.31082252], [0.476073127], [0.186795565], [0.26654207], [0.070231142], [0.26951927], [0.800004713], [0.273633667], [0.146479192], [0.378318951], [0.373849065], [0.242170835], [0.249796488], [0.066591188], [0.372956798], [0.501812291], [0.313097752], [0.880202196], [0.51981893], [0.364138746], [0.492682896], [0.285732652], [0.890114985], [0.316419561], [0.26866354], [0.771975959], [0.968888992], [0.080334377], [0.736828221], [0.300558071], [0.917950393], [0.465815039], [0.054036682], [0.963150123], [0.089653503], [0.707693234], [0.636416037], [0.539521117], [0.114757161], [0.357312419], [0.67639834], [0.43482839], [0.032326387], [0.711365605], [0.187486519], [0.052789653], [0.505863613], [0.927431873], [0.680984256], [0.882822186], [0.495705441], [0.596240398], [0.320610701], [0.3413685], [0.159681797], [0.318133669], [0.839301048], [0.064359251], [0.470216633], [0.776252291], [0.635843383], [0.62510543], [0.52959065], [0.986900166], [0.078585688], [0.233284267], [0.363330957], [0.716716981], [0.375889792], [0.223316889], [0.299343986], [0.538595767], [0.730297124], [0.66033077], [0.435296009], [0.326494313], [0.854402708], [0.573493847], [0.757786135], [0.704743233], [0.281575597], [0.671968208], [0.313726015], [0.364338275], [0.368216396], [0.386295207], [0.655971865], [0.566025273], [0.424999093], [0.090110371], [0.772350538], [0.331047258], [0.273716188], [0.23877568], [0.373079772], [0.331185868], [0.256134531], [0.678373225], [0.434638338], [0.654668307], [0.986681065], [0.371520495], [0.408359618], [0.40932365], [0.283412082], [0.395246531], [0.010984428], [0.306013869], [0.266194806], [0.299318521], [0.318293946], [0.74282591], [0.097664329], [0.079666942], [0.613258767], [0.99443072], [0.568835082], [0.708034516], [0.370592719], [0.669867361], [0.651295625], [0.462531569], [0.719625619], [0.45377248], [0.394863946], [0.323974831], [0.146454724], [0.779067041], [0.401828915], [0.601479585], [0.856423023], [0.565242962], [0.301225108], [0.282108144], [0.594378011], [0.705312368], [0.540869628], [0.319249574], [0.361766138], [0.625000704], [0.316287401], [0.047239021], [0.801182233], [0.508474436], [0.817893411], [0.399235601], [0.974051999], [0.72241535], [0.039564764], [0.908684108], [0.473010134], [0.718049628], [0.763479069], [0.647596537], [0.894997386], [0.222825901], [0.359012234], [0.944910252], [0.297877816], [0.172517997], [0.556586265], [0.876481735], [0.486677843], [0.459496733], [0.474126377], [0.70101144], [0.337597387], [0.537578886], [0.966992448], [0.056849545], [0.233249065], [0.380054711], [0.602929443], [0.303847999], [0.170194553], [0.972168554], [0.332168927], [0.688728689], [0.110773401], [0.273352065], [0.572939678], [0.491457065], [0.281389999], [0.821697261], [0.674977683], [0.585134549], [0.710596116], [0.040488789], [0.568054311], [0.321752928], [0.611850232], [0.926096887], [0.618347428], [0.667629785], [0.397733466], [0.290875487], [0.594375103], [0.508255233], [0.338571357], [0.432302347], [0.302221978], [0.87619819], [0.080204492], [0.092333532], [0.093656447], [0.608452351], [0.732654598], [0.944158855], [0.26742308], [0.731124201], [0.661308553], [0.387766262], [0.962585273], [0.322067067], [0.634081093], [0.475345002], [0.353558973], [0.885936316], [0.876798106], [0.221581064], [0.394362449], [0.805035676], [0.452898486], [0.592520516], [0.761026394], [0.245049023], [0.372139363], [0.681054822], [0.747143148], [0.920739529], [0.097207945], [0.699302998], [0.721647006], [0.535356114], [0.738293805], [0.706467551], [0.67395061], [0.711212291], [0.302558708], [0.080097855], [0.707010837], [0.512248622], [0.659627472], [0.657559694], [0.100645606], [0.92665363], [0.892879338], [0.839157508], [0.890959718], [0.556754471], [0.960361937], [0.631037864], [0.029838065], [0.278843351], [0.926157705], [0.551504258], [0.485942349], [0.437234696], [0.252318018], [0.515466972], [0.437252296], [0.493724207], [0.83324725], [0.317521477], [0.286234562], [0.726833965], [0.495667033], [0.028645255], [0.319671917], [0.674344598], [0.766037189], [0.65456992], [0.756514381], [0.528253719], [0.389719491], [0.355087459], [0.87015202], [0.739083306], [0.305761846], [0.411587673], [0.063633094], [0.735409395], [0.605916669], [0.539395562], [0.566183532], [0.674795186], [0.070993366], [0.1252641], [0.279601492], [0.952174402], [0.233806762], [0.437247429], [0.925423095], [0.433498634], [0.52517902], [0.088435529], [0.447677638], [0.647000631], [0.903603337], [0.265790738], [0.66419695], [0.498120658], [0.490188944], [0.747084187], [0.906783648], [0.678770917], [0.348599859], [0.294839683], [0.705691827], [0.211917931], [0.063201124], [0.276699543], [0.672459395], [0.808205949], [0.296538373], [0.160126862], [0.439385032], [0.555951416], [0.386240112], [0.158689619], [0.214499855], [0.299579429], [0.569161656], [0.488614799], [0.878295021], [0.649380949], [0.465713341], [0.16813774], [0.87529545], [0.841132341], [0.33292081], [0.513047859], [0.305055078], [0.812626991], [0.25096706], [0.502435578], [0.457990741]], \"hoverlabel\": {\"namelength\": 0}, \"hovertemplate\": \"0=%{x}<br>1=%{y}<br>Feature=%{customdata[0]}<br>Anomaly=%{marker.color}\", \"legendgroup\": \"\", \"marker\": {\"color\": [0, 0, 1, 1, 0, 0, 0, 1, 1, 0, 0, 1, 0, 0, 1, 0, 0, 1, 1, 0, 1, 0, 0, 1, 1, 1, 0, 0, 1, 1, 0, 0, 0, 1, 1, 1, 0, 0, 0, 0, 0, 0, 0, 1, 0, 1, 0, 0, 0, 0, 0, 1, 0, 1, 0, 1, 0, 0, 0, 1, 0, 0, 1, 1, 0, 0, 1, 0, 0, 1, 0, 0, 0, 0, 0, 0, 0, 0, 0, 0, 0, 0, 0, 0, 0, 0, 0, 0, 0, 0, 0, 0, 0, 0, 0, 0, 0, 0, 0, 0, 0, 0, 0, 0, 0, 0, 0, 0, 0, 0, 0, 0, 0, 0, 0, 0, 0, 0, 0, 0, 0, 0, 0, 0, 0, 0, 0, 0, 0, 0, 1, 0, 0, 0, 0, 0, 0, 0, 0, 0, 0, 0, 0, 0, 0, 0, 0, 0, 0, 0, 0, 0, 0, 0, 0, 0, 0, 0, 0, 0, 0, 0, 0, 0, 0, 0, 0, 0, 0, 0, 0, 0, 0, 0, 0, 0, 0, 0, 0, 0, 0, 0, 0, 0, 0, 0, 0, 0, 0, 0, 0, 0, 0, 0, 0, 0, 0, 0, 1, 0, 0, 0, 0, 0, 0, 0, 0, 0, 0, 0, 0, 0, 0, 0, 0, 0, 0, 0, 0, 0, 0, 0, 0, 0, 0, 0, 0, 0, 0, 0, 0, 0, 0, 0, 0, 0, 0, 0, 0, 0, 0, 0, 0, 0, 0, 0, 0, 0, 0, 0, 0, 0, 0, 0, 0, 0, 0, 0, 0, 0, 0, 0, 0, 0, 0, 0, 0, 0, 0, 0, 0, 0, 0, 0, 0, 0, 0, 0, 0, 0, 0, 0, 0, 0, 0, 0, 0, 0, 0, 0, 0, 0, 0, 0, 0, 0, 0, 0, 0, 0, 0, 0, 0, 0, 0, 0, 0, 0, 0, 0, 0, 0, 0, 0, 0, 0, 0, 0, 0, 0, 0, 0, 0, 0, 0, 0, 0, 0, 0, 0, 0, 0, 0, 0, 0, 0, 0, 0, 0, 0, 0, 0, 0, 0, 0, 0, 0, 0, 0, 0, 0, 0, 0, 0, 0, 0, 0, 0, 0, 0, 0, 0, 0, 0, 0, 0, 0, 0, 0, 0, 0, 0, 0, 0, 0, 0, 0, 0, 0, 0, 0, 0, 0, 0, 0, 0, 0, 0, 0, 0, 0, 0, 0, 0, 0, 0, 0, 0, 0, 0, 0, 0, 0, 0, 0, 0, 0, 0, 0, 0, 0, 0, 0, 0, 0, 0, 0, 0, 0, 0, 0, 0, 0, 0, 0, 0, 0, 0, 0, 0, 0, 0, 0, 0, 0, 0, 0, 0, 0, 0, 0, 0, 0, 0, 0, 0, 0, 0, 0, 0, 0, 0, 0, 0, 0, 0, 0, 0, 0, 0, 0, 0, 0, 0, 0, 0, 0, 0, 0, 0, 0, 0, 0, 0, 0, 0, 0, 0, 0, 0, 0, 0, 0, 0, 0, 0, 0, 0, 0, 0, 0, 0, 0, 0, 0, 0, 0, 0, 0, 0, 0, 0, 0, 0, 0, 0, 0, 0, 0, 0, 0, 0, 0, 0, 0, 0, 0, 0, 0, 0, 0, 0, 0, 1, 0, 0, 0, 0, 0, 0, 0, 0, 0, 0, 0, 0, 0, 0, 0, 0, 0, 0, 0, 0, 0, 1, 0, 0, 0, 0, 0, 0, 0, 0, 0, 0, 0, 0, 0, 0, 0, 0, 0, 0, 0, 0, 0, 0, 0, 0, 0, 0, 0, 0, 0, 0, 0, 0, 0, 0, 0, 0, 0, 0, 0, 0, 0, 0, 0, 0, 0, 0, 0, 0, 0, 0, 0, 0, 0, 0, 0, 0, 1, 0, 0, 0, 0, 0, 0, 0, 0, 0, 0, 0, 0, 0, 0, 0, 0, 0, 0, 0, 0, 0, 0, 0, 0, 0, 0, 0, 0, 0, 0, 0, 0, 0, 0, 0, 0, 0, 0, 0, 0, 0, 0, 0, 0, 0, 0, 0, 0, 0, 0, 0, 0, 0, 0, 0, 0, 0, 0, 0, 0, 0, 0, 0, 0, 0, 0, 0, 0, 0, 0, 0, 0, 0, 0, 0, 0, 0, 1, 0, 0, 0, 0, 0, 0, 0, 0, 0, 0, 0, 0, 0, 0, 0, 0, 0, 0, 0, 1, 1, 0, 1, 0, 0, 0, 1, 1, 0, 1, 0, 0, 1, 0, 0, 1, 1, 1, 0, 1, 0, 1, 1, 1, 0, 0, 0, 1, 0, 0, 0, 0, 0, 0, 0, 0, 0, 0, 0, 0, 0, 0, 0, 0, 0, 0, 0, 0, 0, 0, 0, 0, 0, 0, 0, 0, 0, 0, 0, 0, 0, 0, 0, 0, 0, 0, 0, 0, 0, 0, 0, 0, 0, 0, 0, 0, 0, 0, 0, 0, 0, 0, 0, 0, 0, 0, 0, 0, 0, 0, 0, 0, 0, 0, 0, 0, 0, 0, 0, 0, 0, 0, 0, 0, 0, 0, 0, 0, 0, 0, 0, 0, 0, 0, 0, 0, 0, 0, 0, 0, 0, 0, 0, 0, 0, 0, 0, 0, 0, 0, 0, 0, 0, 0, 0, 0, 0, 0, 0, 0, 0, 0, 0, 0, 0, 0, 0, 0, 0, 0, 0, 0, 0, 0, 0, 0, 0, 0, 0, 0, 0, 0, 1, 0, 0, 0, 0, 0, 0, 0, 0, 0, 0, 0, 0, 0, 0, 0, 0, 0, 0, 0, 0, 0, 0, 0, 0, 0, 0, 0, 0, 0, 0, 0, 0, 0, 0, 0, 0, 0, 0, 0, 0, 0, 0, 0, 0, 0, 0, 0, 0, 0, 0, 0, 0, 0, 0, 0, 0, 0, 1, 0, 0, 0, 0, 0, 0, 0, 0, 0, 0, 0, 0, 0, 0, 0, 0, 0, 0, 0, 0, 0, 0, 0, 0, 0, 0, 0, 0, 0, 0, 0, 0, 0, 0, 0, 0, 0, 0, 0, 0, 0, 0, 0, 0, 0, 0, 0, 0, 0, 0, 0, 0, 0, 0, 0, 0, 0, 0, 0, 0, 0, 0, 0, 0, 0, 0, 0, 0, 0, 0, 0, 0, 0, 0, 0, 0, 0, 0], \"coloraxis\": \"coloraxis\", \"opacity\": 0.7, \"symbol\": \"circle\"}, \"mode\": \"markers\", \"name\": \"\", \"showlegend\": false, \"type\": \"scatter\", \"x\": [-1.5003066062927246, -2.031663179397583, 5.942893981933594, 7.04987096786499, 6.905373573303223, 5.781783103942871, -3.6161420345306396, 7.5472259521484375, -1.4387922286987305, -2.1004066467285156, 7.373727321624756, 7.237735748291016, 6.65805196762085, -2.593623161315918, 6.837873458862305, 8.054069519042969, 6.775933742523193, -3.5748863220214844, 5.649303436279297, 7.219505786895752, 5.564209461212158, -0.9886066317558289, 6.4236602783203125, -1.4985352754592896, 6.153147220611572, -0.951722264289856, 7.339334487915039, -2.8287267684936523, 7.789003372192383, 7.448622226715088, -1.6402901411056519, -2.477086067199707, -2.0993149280548096, 7.086215972900391, -2.625645160675049, -0.9301997423171997, -4.001194000244141, -2.8154895305633545, -1.412502646446228, 5.977121353149414, -4.977651119232178, 7.257180690765381, -4.226698875427246, 5.757411003112793, 6.796773433685303, 8.122641563415527, 6.827678203582764, -1.384971022605896, 7.4034647941589355, -4.6324896812438965, 7.573050498962402, 5.583392143249512, -3.0816566944122314, 8.08968734741211, 5.929443836212158, 5.380594730377197, 5.621024131774902, -2.549877643585205, 6.997322082519531, 6.441596508026123, -2.3147778511047363, -3.0764482021331787, 8.31933879852295, 7.229096412658691, -4.308386325836182, 6.696676731109619, -3.6703240871429443, -3.4708497524261475, 7.329017639160156, 6.353661060333252, 7.708653926849365, 7.486719131469727, -1.795792579650879, 7.019697666168213, -0.989403486251831, -0.5241296887397766, 7.5225067138671875, 7.8426032066345215, -1.6064159870147705, -2.202561855316162, -1.9211208820343018, -0.26284322142601013, 7.099180698394775, -2.917619466781616, -3.2036235332489014, -1.7832872867584229, -4.094576835632324, -4.416532516479492, -2.0306458473205566, -0.18129964172840118, -1.0260955095291138, 7.322852611541748, -3.7723753452301025, -3.7437374591827393, -3.0327467918395996, 8.352401733398438, -3.5207784175872803, -1.783577799797058, -3.014160394668579, 7.450278282165527, -1.608451247215271, -4.695343017578125, -1.9823795557022095, -3.411672592163086, 8.280040740966797, -2.4336535930633545, -3.14591646194458, -2.057352066040039, -1.0702803134918213, 7.6978936195373535, -0.10717994719743729, -1.6519818305969238, 7.153176307678223, -0.8928161859512329, 6.533046722412109, -0.03205924481153488, -3.872767925262451, -3.6981067657470703, 6.883592128753662, -3.2995057106018066, -0.15155144035816193, -2.1182303428649902, -1.5533232688903809, -4.6210150718688965, -2.418794631958008, -2.005420207977295, -2.69035267829895, 7.05947732925415, -2.741535186767578, -1.969724416732788, -2.22359037399292, -3.2299351692199707, 7.661039352416992, -3.1184542179107666, -4.760437488555908, -0.8531392216682434, 6.654361248016357, 7.864553928375244, -2.2267725467681885, -2.1057608127593994, 7.335316181182861, -0.25852951407432556, -3.3732781410217285, 7.091830253601074, -3.516446590423584, -2.069117784500122, 6.857962131500244, -4.626906394958496, -2.0466222763061523, -2.6696548461914062, -0.07745006680488586, -0.36417752504348755, -1.484232783317566, -3.461111068725586, -1.1457775831222534, -3.6355481147766113, -4.5600080490112305, -4.972724914550781, -1.0307416915893555, 6.172866344451904, -3.8565659523010254, -2.707179069519043, -0.7915610074996948, -1.8271292448043823, 6.443251132965088, -4.890615940093994, 7.476742744445801, 7.456933498382568, 6.612476348876953, -2.6804230213165283, -3.3251078128814697, -1.7710343599319458, 6.175573348999023, 6.236983299255371, -1.5566176176071167, -4.703205585479736, 6.014583110809326, 5.951359748840332, -2.15674090385437, 7.72445011138916, -1.647441029548645, 6.405114650726318, -2.65578293800354, 7.48723030090332, 7.396679401397705, -3.7916107177734375, 6.911118507385254, -2.4021174907684326, -1.9165711402893066, -0.3713991940021515, -4.697676658630371, 7.060420513153076, 7.308938026428223, 6.288623332977295, -4.352417945861816, -3.56300950050354, -1.9138846397399902, -1.517492651939392, -1.4983686208724976, -1.8081328868865967, -1.7908053398132324, -2.4340031147003174, -2.9339089393615723, 7.094385623931885, 6.074248313903809, -2.513076066970825, -2.2792017459869385, -1.8612971305847168, 6.452107906341553, -2.4834654331207275, -1.5866014957427979, 6.8301286697387695, 7.882904052734375, 0.022848226130008698, -1.9660468101501465, -1.9293843507766724, -2.396230936050415, 7.967990875244141, 8.339487075805664, -1.923901081085205, 6.079915523529053, -2.2377431392669678, 7.31809139251709, -1.1315374374389648, -4.298689842224121, -2.369929075241089, -4.455838680267334, -1.9398871660232544, -4.972776412963867, 6.328474998474121, -3.548121929168701, -4.055755138397217, 7.666388034820557, 7.817630767822266, -3.6454250812530518, -2.1864633560180664, -2.5097782611846924, -0.45051687955856323, 7.117446422576904, 5.67662239074707, -1.9166172742843628, -1.5449057817459106, 5.768477439880371, -3.4127864837646484, 7.197995185852051, -4.450100898742676, -1.663892149925232, -1.126649022102356, -4.415360450744629, 6.533856391906738, -2.9000885486602783, -1.8230171203613281, 7.330505847930908, -2.657973527908325, -2.3232760429382324, -1.3244380950927734, -1.3105013370513916, -3.8955490589141846, 6.327115058898926, -3.3590469360351562, 5.858975887298584, -2.64279842376709, 6.824361324310303, -1.6984156370162964, -3.0739123821258545, -2.946847915649414, 8.047968864440918, -4.273849964141846, -0.9396560192108154, -1.3634135723114014, -1.5873793363571167, -3.0796256065368652, -0.6790932416915894, 5.751562118530273, 6.226332187652588, -3.92598819732666, 8.260746955871582, 7.07469367980957, -2.0679237842559814, -1.908684492111206, -4.4808502197265625, 5.867295742034912, -2.056339979171753, -0.6219498515129089, 6.576043128967285, -1.8865535259246826, -3.785672664642334, -2.1921424865722656, -4.237475872039795, -1.4067708253860474, -0.10087329894304276, -2.470919609069824, -3.202558994293213, -2.4350736141204834, -2.8786706924438477, 7.046597003936768, 6.616541385650635, -1.9703388214111328, -2.737484931945801, -1.2872159481048584, -1.9565296173095703, -3.7715587615966797, 7.853721618652344, 7.373702526092529, 6.475790500640869, -0.6563863158226013, -1.5977972745895386, -0.6375916004180908, -4.889279842376709, 7.408958435058594, 7.36063289642334, -4.669243335723877, 6.463047981262207, 5.677390098571777, -2.1917386054992676, -1.4054780006408691, -2.768113851547241, -3.3761463165283203, -0.6838069558143616, -2.957791566848755, -1.8590692281723022, -1.0738656520843506, 7.587425231933594, -2.1171417236328125, -0.8006695508956909, -1.0427024364471436, 8.123408317565918, 7.979152202606201, 6.746975421905518, 6.496413230895996, -4.153783321380615, 7.993340015411377, -3.014829397201538, -3.4994311332702637, -4.425501346588135, 7.2846856117248535, -2.0249133110046387, -0.8662631511688232, 7.074610233306885, 7.514377593994141, -0.9237377643585205, -2.1293530464172363, 6.7321085929870605, -3.5153563022613525, 7.564166069030762, 7.036040306091309, -3.0892021656036377, -5.013488292694092, 7.078989505767822, 7.989189147949219, -1.8183047771453857, -0.7755223512649536, -3.3408708572387695, -3.0708353519439697, -3.8011064529418945, -2.086101770401001, -2.5725464820861816, -2.1467394828796387, 8.267926216125488, -0.9490134716033936, -1.902508020401001, -1.8779077529907227, -1.772146224975586, -4.683375358581543, 7.454111576080322, -0.845274031162262, 7.954102993011475, -3.813793659210205, -4.147705078125, -2.1107161045074463, -4.075047492980957, -1.949896216392517, 7.454107284545898, 6.675223350524902, 7.640377521514893, -4.216716289520264, -0.577982485294342, 6.5205302238464355, -3.041396379470825, -0.3958388566970825, 6.513076305389404, -2.1887316703796387, -0.88992840051651, -1.8871649503707886, -1.9471663236618042, -3.4483745098114014, -3.065783739089966, -2.9718801975250244, -1.606802225112915, -1.5413161516189575, -4.092726230621338, -3.3906161785125732, -0.8765143156051636, -0.41894105076789856, -3.379746675491333, -3.0521175861358643, -2.338313102722168, 7.294273376464844, -1.0771071910858154, -1.8837394714355469, -3.071220874786377, -3.38499116897583, -4.506560325622559, -2.612910032272339, 7.716891765594482, -3.8882131576538086, 6.377702713012695, -2.1444203853607178, 6.230673313140869, -1.4895873069763184, -2.5710549354553223, -0.44853028655052185, 8.395341873168945, -0.6528472304344177, -2.4500339031219482, -4.140600681304932, -4.5978102684021, -2.6480257511138916, 7.886841297149658, 7.095310688018799, -1.529565453529358, -2.6525888442993164, -2.2618844509124756, -2.1353516578674316, 6.720239639282227, -4.54817008972168, -3.4927122592926025, 6.518548965454102, -1.6612242460250854, 7.502498149871826, -0.0600072406232357, -3.797372817993164, -3.0035593509674072, 6.669088363647461, 7.576184272766113, -2.2664458751678467, -3.8126766681671143, 7.249170303344727, -0.9816351532936096, 6.075015544891357, -2.327751874923706, -1.548738718032837, 6.245579719543457, 7.683643817901611, -2.210728168487549, 6.0352983474731445, 7.833521366119385, -3.6932497024536133, 6.436474323272705, 6.775286674499512, -3.6867573261260986, 6.832211494445801, -4.4566264152526855, -0.6015926003456116, 7.153858661651611, -2.920975923538208, -1.340868592262268, 6.50637149810791, -1.417511224746704, -1.4085259437561035, -1.9233042001724243, 6.455600738525391, -4.08513879776001, -1.8070119619369507, -1.5326050519943237, -0.9850103855133057, -1.0948179960250854, 7.909023284912109, -4.956146717071533, 6.6080169677734375, -0.4738259017467499, -3.6475718021392822, -4.177042484283447, -0.9228050112724304, -3.975745439529419, -4.301474571228027, -3.43202805519104, 6.254997730255127, -0.9023318886756897, -2.825648546218872, -4.8365278244018555, -3.2705910205841064, 6.474480152130127, 7.501250743865967, -3.8402531147003174, 7.591280460357666, -1.629264235496521, -1.7944334745407104, -0.9665093421936035, 5.6724958419799805, -0.9288034439086914, 7.03874397277832, 6.040346622467041, 7.897568702697754, 6.101505756378174, 6.80929708480835, -1.4843034744262695, 6.371933937072754, -3.3553929328918457, -0.4542143642902374, -2.204590320587158, -2.498800039291382, -0.9647366404533386, -1.9911613464355469, -1.627874732017517, 5.64764928817749, -1.220041036605835, -4.859381675720215, -1.881151556968689, 6.476425647735596, 7.0540618896484375, -4.9828667640686035, -1.4783408641815186, 7.436986446380615, -1.8230444192886353, -3.8999476432800293, -3.0726685523986816, -1.3469372987747192, -1.7293989658355713, -1.5227882862091064, -1.7362807989120483, 7.338582515716553, 6.339424133300781, 6.751288890838623, 8.323250770568848, -3.994317054748535, -1.8773657083511353, -3.8060216903686523, -1.5223472118377686, -1.450045108795166, -1.904052972793579, 7.9022908210754395, 6.342066287994385, -4.039658069610596, 6.762467384338379, 7.321196556091309, -1.7345235347747803, 7.142403602600098, -1.1960175037384033, -1.452769160270691, -1.9685672521591187, 6.341611385345459, -2.4872822761535645, -2.203465223312378, -5.008754730224609, 7.411556720733643, -2.2741150856018066, 6.649817943572998, 6.645596504211426, -2.0044260025024414, -3.468336343765259, -0.7269766926765442, 7.1578779220581055, -1.1117678880691528, -3.7350854873657227, -2.6719472408294678, 6.2631754875183105, -0.6965482234954834, 8.055609703063965, -1.2504702806472778, 7.665008068084717, 8.3704833984375, -3.8342316150665283, 6.880486965179443, -3.590247392654419, -2.155303955078125, -4.589599609375, -2.2754757404327393, 7.062302589416504, 6.989201545715332, -1.517930269241333, 6.993386745452881, 7.5297417640686035, 8.096386909484863, -2.0979621410369873, 7.544738292694092, -3.027817726135254, -4.286855220794678, -0.798281729221344, -0.12768568098545074, -1.5342779159545898, -0.48834460973739624, 6.651543140411377, -3.001084089279175, -4.902629852294922, -2.2870965003967285, -1.3567330837249756, -3.734174966812134, -4.240966796875, 8.023294448852539, -3.250608205795288, -4.586507320404053, -1.3885380029678345, 7.531222343444824, -1.5197162628173828, -3.2034008502960205, 7.44849157333374, 7.944406986236572, 6.329924583435059, 7.650579929351807, 7.4081525802612305, -2.144897937774658, 6.400818347930908, -3.7086703777313232, 6.351310729980469, -2.2136547565460205, 7.813138484954834, 8.186920166015625, -3.2460904121398926, -1.9914411306381226, 6.257874011993408, -0.0983915627002716, -1.7892889976501465, -1.0271637439727783, -2.015017032623291, -4.044888019561768, -1.8348078727722168, -1.936615228652954, -2.681438446044922, -1.334692358970642, -1.567488193511963, -3.087486505508423, -3.02527117729187, -1.825515627861023, 6.778563022613525, 7.724293231964111, -3.9046719074249268, 6.725337028503418, -2.296055555343628, -1.8302761316299438, -2.3889966011047363, -1.52278470993042, -1.0712255239486694, 7.1616668701171875, -0.4231770932674408, -1.1170812845230103, -0.2096289098262787, -1.686034917831421, 7.104647159576416, -1.8780049085617065, 6.030679702758789, -2.5366485118865967, -3.5703201293945312, -0.3037790358066559, 7.822160243988037, -0.8926053643226624, 6.2688751220703125, -0.8730030655860901, 6.538641452789307, -0.8591691255569458, -4.404538154602051, -4.539567947387695, -2.1127490997314453, 7.512573719024658, -4.61605978012085, -2.419384479522705, 7.266598224639893, -0.7173275351524353, -2.64632511138916, 7.688884258270264, 7.826031684875488, -3.1165108680725098, -1.4952949285507202, -1.4266316890716553, 6.49285364151001, -2.514962911605835, 7.6672258377075195, -3.1045167446136475, -1.589131474494934, -4.664982318878174, -2.042445182800293, -2.078852415084839, -3.105936288833618, -1.8964687585830688, 6.108230113983154, -3.7761268615722656, -2.2896478176116943, 6.986129283905029, 6.715897560119629, -3.155252456665039, 6.606410026550293, -4.291829586029053, -0.8679131865501404, 6.091742038726807, -4.092586040496826, -4.639233589172363, -2.2939705848693848, -5.033746242523193, 7.248210906982422, 7.51971960067749, 7.25250244140625, 6.914328575134277, 8.292495727539062, -1.75779390335083, 7.306938171386719, 6.265288829803467, -0.8439109921455383, -2.3115155696868896, -1.2071442604064941, 6.709107398986816, -1.895080327987671, -2.4626314640045166, -2.6936633586883545, 7.8118791580200195, -1.8359590768814087, -3.2137081623077393, 7.43489933013916, 7.505089282989502, -1.5710937976837158, 6.025112628936768, 6.868066787719727, -4.820737838745117, -2.839277505874634, -1.2844338417053223, -2.922527313232422, 5.863659858703613, 5.732790946960449, 8.063143730163574, -2.766916513442993, -3.3535351753234863, 5.796791076660156, -4.101708889007568, -1.5809085369110107, 5.617297649383545, -1.7426588535308838, -2.208314895629883, 6.591643333435059, 6.350997447967529, 7.625015735626221, 5.922698974609375, -1.7230069637298584, 7.616703987121582, -1.8388328552246094, -2.628509283065796, -1.5627268552780151, 7.150359153747559, -0.05766230449080467, -1.6732659339904785, -1.7472612857818604, 6.277862071990967, -2.5841081142425537, -0.5882343649864197, -0.6933565139770508, 6.18699312210083, -1.1410908699035645, -1.910056471824646, -0.526204526424408, 7.0604071617126465, 6.348044395446777, 7.833566188812256, -1.9963091611862183, 7.286240577697754, -3.3500049114227295, -4.323520660400391, -4.5287184715271, 5.970407485961914, -2.2465927600860596, -2.535935163497925, 7.511160850524902, -4.990006923675537, 7.649905204772949, -3.037139892578125, -3.8191161155700684, -4.40942907333374, -1.3649938106536865, -3.833461284637451, -4.068556785583496, 7.177682876586914, -3.3434884548187256, 7.0947346687316895, -2.113271713256836, -0.7938068509101868, -1.488492727279663, -3.4788167476654053, -0.9263876676559448, -4.646734237670898, -2.378693103790283, -1.9370037317276, -1.0319573879241943, -1.1274142265319824, -0.20903408527374268, -3.847710132598877, -1.7648295164108276, -0.025909854099154472, -1.264927625656128, 7.763558387756348, -2.8708343505859375, 6.182529449462891, -2.028663396835327, -2.4483680725097656, 7.809608459472656, -1.337828516960144, 6.393622875213623, -0.5803966522216797, -4.2025933265686035, -2.5543999671936035, -4.298404693603516, 6.4588518142700195, -0.27644646167755127, -4.605368137359619, -2.3768725395202637, -2.334935426712036, -1.5645167827606201, -2.062713146209717, 5.742279529571533, -4.825641632080078, -3.757537364959717, -2.2840304374694824, 7.389669895172119, -3.975933790206909, 7.2243146896362305, 6.007232666015625, -0.6865123510360718, -1.3657186031341553, -1.7333863973617554, 6.449378490447998, -2.015777349472046, 7.744199275970459, 5.94057559967041, 7.162151336669922, 6.899364948272705, 5.798228740692139, -1.8828108310699463, -1.9612962007522583, -1.7934224605560303, -3.7537102699279785, 7.331020355224609, -2.117621660232544, -1.0117218494415283, 7.965234756469727, -2.5082569122314453, -0.8634810447692871, 8.33718490600586, 6.087998390197754, 6.3812994956970215, 6.274783134460449, 7.597875595092773, 7.025457859039307, 6.875093460083008, -3.545177936553955, -0.28464818000793457, -3.3126556873321533, 7.302915096282959, -2.235085964202881, -3.503399610519409, 6.359560012817383, -1.5359917879104614, -0.2740601897239685, -0.046769920736551285, -2.4456069469451904, 6.3202009201049805, -1.694466233253479, -3.5394279956817627, -0.2462320178747177, -1.5346959829330444, -1.383198618888855, -1.8180196285247803, 7.328128337860107, -2.2418065071105957, 6.283702850341797, -1.5001530647277832, -2.1920719146728516, -1.3059272766113281, -0.5384860038757324, -1.5596020221710205, 7.8264384269714355, -3.667792320251465, -2.3868136405944824, 6.39780330657959, -0.27554160356521606, 7.025186538696289, -3.493912935256958, -4.056586742401123, -0.0016015912406146526, -3.4279093742370605, -3.6534197330474854, -3.005938768386841, -2.1513988971710205, -0.747374415397644, 5.954782485961914, -0.08120455592870712, -0.7611374258995056, -2.1092185974121094, 7.590664863586426, 7.398078918457031, 7.213383674621582, -1.0764352083206177, -3.094356060028076, -1.3426092863082886, 6.061248779296875, 7.1382670402526855, 7.447934150695801, 6.696535110473633, -2.120513916015625, 7.4512248039245605, -0.33225002884864807, -0.8039969801902771, -4.621254920959473, -1.4678999185562134, -2.169072151184082, -2.209510564804077, -2.7299857139587402, -4.394134044647217, 7.800724506378174, -0.7560134530067444, 7.058753967285156, 6.731545448303223, -2.4438977241516113, 6.694332599639893, -1.0387815237045288, -2.872504472732544, -3.577657461166382, -3.9846041202545166, -0.9430001974105835, 6.350872993469238, 6.910665988922119, -0.7015887498855591, -1.6611475944519043, 7.189386367797852, 7.172873497009277, -1.6811444759368896, 7.583127975463867, -3.0691661834716797, -1.7645081281661987, -1.399937629699707, -0.07032142579555511, -3.125591278076172, -0.8565325736999512, -2.4859893321990967, -1.4683114290237427, 7.153439044952393, -3.205798864364624, -4.091128349304199, 7.755804061889648, 7.361296653747559, 7.420576572418213, -3.495192766189575, 6.128150463104248, -2.0796306133270264, 6.946869373321533, 6.447115421295166, -2.1573925018310547, -1.7193024158477783, 6.364490509033203, -0.7380920648574829, 6.5593037605285645, -1.1375709772109985, -1.191811442375183, -2.078300952911377, -3.2043886184692383, -0.8940647840499878, -2.1814558506011963, 7.706777572631836, 7.794670104980469, -2.7212443351745605, -4.495501518249512, 7.261446952819824, 7.1737260818481445, 6.0321502685546875, -1.982869267463684, -4.098354816436768, -3.1374547481536865, 5.865068435668945, -1.2638192176818848, -0.8062734603881836, -5.066522598266602, -2.465287923812866, -1.0652707815170288, 6.296106815338135, -3.1368932723999023, 8.164644241333008, -0.19617502391338348, -0.885711669921875, 6.912215709686279, -1.9484864473342896, -3.6836507320404053, -2.960627317428589, 8.097875595092773, -1.8236737251281738, 6.086039066314697, 6.3173441886901855, -1.6323649883270264, -2.096144199371338, -3.8188185691833496, 7.96488618850708, -3.3221349716186523, -2.0663397312164307, 6.589369773864746, 6.958456516265869, 7.575918674468994, 6.265951156616211, -0.7008559107780457, -0.8656848669052124, 6.032197952270508, 6.725644111633301, -0.839726448059082, -3.533724784851074, -2.103607654571533, 6.597597599029541, 7.650740623474121], \"xaxis\": \"x\", \"y\": [-2.8173437118530273, 3.1757261753082275, -0.6611327528953552, 3.376941442489624, -0.9818693399429321, 3.305856943130493, 2.5336334705352783, 3.2531063556671143, -0.012754746712744236, -4.012590408325195, 4.459120273590088, -0.6139522790908813, 3.9227757453918457, 0.05601061135530472, 0.2742438316345215, 2.428286075592041, 4.088432788848877, 1.3593387603759766, 0.16442322731018066, 2.8271703720092773, 3.3365931510925293, -2.3057942390441895, -0.24094468355178833, -0.00767709594219923, 2.259950876235962, -2.02878999710083, -0.4777648448944092, 0.2280856817960739, 1.1345494985580444, 1.5702019929885864, -0.10762681812047958, 3.454545497894287, -1.282586932182312, 1.2766501903533936, -0.4272621273994446, -2.278557538986206, 0.9176415205001831, 0.22194722294807434, -2.464887857437134, 3.44661545753479, 0.8725793957710266, 1.7214419841766357, 0.40951478481292725, 2.2516632080078125, 1.0493404865264893, 2.6016764640808105, 1.1233134269714355, 0.03800934553146362, -0.4526078701019287, 1.4827176332473755, 3.955338478088379, 0.3912293314933777, -0.40621820092201233, 2.550618886947632, 3.094022512435913, 0.5687222480773926, 3.534214496612549, 2.9008865356445312, 1.3611526489257812, -0.31794625520706177, -0.4776633679866791, 1.1217982769012451, 2.3201286792755127, 1.8796966075897217, 0.5175866484642029, 0.960736095905304, 0.22935648262500763, 1.0916693210601807, -0.5487342476844788, 3.0384693145751953, 1.3295079469680786, 3.2314136028289795, -2.814540147781372, 4.043645858764648, -5.220469951629639, -3.3677735328674316, -0.7069362998008728, 2.07977557182312, -5.1363091468811035, -4.80744743347168, -4.7202067375183105, -3.6298716068267822, -0.40515410900115967, 1.2332003116607666, 2.5359444618225098, 2.4402146339416504, 1.379621982574463, 1.9176992177963257, 0.27081629633903503, -2.748495578765869, -3.817302942276001, 4.449326992034912, 0.2636474072933197, 2.313157796859741, 3.393122434616089, 2.150131940841675, 0.1769047975540161, 2.0883536338806152, 1.343546986579895, -0.670099675655365, -2.5639944076538086, 1.4033373594284058, 2.103848695755005, -0.5549156069755554, 2.57841157913208, -3.685040235519409, 0.8115110993385315, 2.819732189178467, -5.21966028213501, 1.9471627473831177, -3.211111068725586, -2.5305612087249756, 4.720515727996826, -3.719027280807495, -1.0424680709838867, -3.9255144596099854, 3.0183465480804443, 2.330321788787842, 3.7008872032165527, 1.4610458612442017, -4.12239408493042, 0.10817709565162659, 2.7343170642852783, 0.5027226805686951, 1.1242775917053223, 2.9709091186523438, 3.239794969558716, 3.423245668411255, 2.651224374771118, 2.791020631790161, -0.01116051897406578, -0.08449887484312057, 3.911977767944336, 2.8450756072998047, 1.6813457012176514, -3.297966480255127, -0.5624539256095886, 3.6903257369995117, 3.100085973739624, 0.9948893189430237, 4.0952911376953125, -2.6258413791656494, -0.6263777613639832, -0.8660608530044556, 1.48392915725708, -4.284723281860352, 3.7664148807525635, 1.0798296928405762, 3.281686305999756, 0.4436380863189697, -2.999162435531616, -4.060274600982666, 1.4296629428863525, -0.7319055199623108, -2.448857545852661, 0.49771589040756226, 0.6891516447067261, 0.8750972151756287, -4.620708465576172, 3.816317081451416, 2.9188270568847656, -0.5442520380020142, -4.660568714141846, -5.0655131340026855, 3.5208685398101807, 1.3970932960510254, 4.0297698974609375, 1.3716416358947754, -0.017114093527197838, 1.0614503622055054, 0.6435710787773132, 2.067140817642212, 2.7338857650756836, -0.7535960078239441, 0.9346246719360352, 1.635573148727417, 3.0232362747192383, -0.6882507801055908, 3.282139539718628, 3.5450899600982666, 1.2414802312850952, 2.704341173171997, 3.513467311859131, 1.6810948848724365, 1.456069827079773, 2.9453952312469482, 1.9436092376708984, -0.20744624733924866, -4.307389736175537, -4.041505813598633, 1.0447633266448975, -1.1038058996200562, 4.500687599182129, -0.924757719039917, 2.550874948501587, 2.636517286300659, 1.2385843992233276, 2.7858572006225586, -2.555443525314331, 1.0234084129333496, 0.04532653093338013, 0.6860265731811523, 3.299694061279297, -0.523537814617157, -0.8268979787826538, 3.4655978679656982, -4.783280372619629, 0.07390355318784714, 2.9124488830566406, 3.1654250621795654, 0.8657680153846741, 2.0940396785736084, 1.901329517364502, -3.596196413040161, 0.15212607383728027, 0.6220179796218872, 3.085533857345581, 2.3414456844329834, 2.0164918899536133, 0.9598210453987122, -0.7934718132019043, 2.194253921508789, -0.5518330335617065, -5.1901326179504395, 2.3927576541900635, -4.731566905975342, 0.2910105884075165, -4.2321600914001465, 1.5533784627914429, 2.0720856189727783, 2.5667731761932373, 0.40088486671447754, 3.4958765506744385, 3.637655735015869, 1.8568544387817383, 2.1754348278045654, 2.5075864791870117, -3.9260478019714355, 3.400607109069824, -0.7586308121681213, 0.13730520009994507, 2.1317341327667236, -0.5942220091819763, 2.2750511169433594, 3.033395767211914, 1.8827955722808838, -4.0459418296813965, -4.916572570800781, 0.21913711726665497, -0.3523935377597809, -0.8060551881790161, 1.2143994569778442, 3.384437084197998, -0.4868292808532715, -3.799437999725342, 0.2002265453338623, -3.0175437927246094, 2.060694694519043, 2.0764524936676025, 1.7122362852096558, -0.5816081166267395, -0.5548118352890015, -1.0533114671707153, 1.1686464548110962, -0.6610841751098633, 2.234405755996704, 3.54769229888916, 2.6117405891418457, -5.210760593414307, 2.473198890686035, 2.4541518688201904, 3.396437644958496, -3.485415458679199, -0.606329083442688, 3.6347720623016357, -0.3627535402774811, 2.137136697769165, -1.0728570222854614, 2.415971040725708, -4.231280326843262, 0.33561965823173523, -0.5430953502655029, -4.064236640930176, -2.9871811866760254, -0.9497277736663818, 2.5678398609161377, 1.231691837310791, 2.3221192359924316, 2.1232662200927734, -2.789428949356079, -2.877415418624878, 2.7167446613311768, 0.656402587890625, 2.2392828464508057, 1.219112753868103, 4.407623291015625, 3.5115277767181396, -5.112005710601807, 0.7513688802719116, -2.9728453159332275, 2.6185970306396484, 2.143077850341797, 1.5747936964035034, 3.0271873474121094, 3.0354738235473633, -4.8780317306518555, 2.096320867538452, -4.726127624511719, 0.8440747857093811, 1.4570003747940063, 1.5014821290969849, 0.9950883388519287, 2.424143075942993, -0.6786112785339355, 0.7218672633171082, -2.8961527347564697, 1.1032073497772217, 2.3961563110351562, -4.9752020835876465, 3.315765380859375, 2.608389377593994, -3.9266858100891113, 3.5366578102111816, 2.1423187255859375, -4.378607749938965, -2.8097074031829834, 3.1419825553894043, 3.4413723945617676, 0.31396302580833435, 3.3580119609832764, 2.784794807434082, 2.3419344425201416, -0.5974494218826294, 0.16501444578170776, 1.8023428916931152, -0.40696337819099426, 2.7664003372192383, -3.2655510902404785, 1.9817525148391724, 2.1401078701019287, -3.28458571434021, -4.190830707550049, 3.790485143661499, -0.759447455406189, 3.1964352130889893, -0.08987375348806381, 2.8983378410339355, 1.1621315479278564, 3.289919137954712, 2.289618968963623, 1.3071357011795044, -3.444200038909912, 1.631293535232544, 3.3708791732788086, 1.2509429454803467, -4.173759460449219, -0.20512907207012177, 2.119882822036743, 1.9708788394927979, -2.1223771572113037, 3.0344173908233643, 2.0984411239624023, -0.5087400674819946, 0.7607055902481079, 3.49619460105896, -4.738004207611084, 1.9218116998672485, 2.6173646450042725, 2.0400075912475586, 2.7965426445007324, 0.7143104672431946, 0.18865828216075897, -0.8815528750419617, 0.4981657564640045, 3.420973777770996, 0.40354233980178833, -4.9629974365234375, 3.2435638904571533, 3.3684072494506836, -2.5755550861358643, 3.7814199924468994, 0.04641922190785408, -5.0055952072143555, -3.6688616275787354, 2.8192169666290283, 0.17332878708839417, 0.6756042838096619, 0.6755813360214233, 1.1119203567504883, -2.370196580886841, 1.0809482336044312, 0.17706026136875153, -3.560727119445801, -4.072423934936523, 1.7501447200775146, 3.4166927337646484, -3.7374513149261475, 3.0558066368103027, -2.7728586196899414, -4.1984782218933105, 1.427121639251709, 0.6240414381027222, 1.1115103960037231, 3.5438687801361084, 2.9489896297454834, 2.9950778484344482, -0.4876677095890045, -0.22159692645072937, 4.022281169891357, 2.740896463394165, 2.3370680809020996, -2.9683403968811035, 2.0283424854278564, -4.825459957122803, 2.5380330085754395, 0.39848873019218445, 1.7058522701263428, 2.790329933166504, 3.5713601112365723, 0.023702017962932587, -2.387807846069336, 1.2258167266845703, 2.242141008377075, 2.7654836177825928, 0.0017145999008789659, 1.8704073429107666, 2.556884765625, 3.213043689727783, -2.772716999053955, -0.654442310333252, -3.89607310295105, 2.860520601272583, 1.1807070970535278, 3.3405511379241943, 1.176999568939209, 1.1799482107162476, 1.7394468784332275, -0.572574257850647, -5.197204113006592, -0.7964167594909668, -3.8233134746551514, -5.126681804656982, -0.8904669284820557, -0.8511209487915039, 0.2845765948295593, 2.972703456878662, 1.490270733833313, -0.46322813630104065, -0.19837607443332672, 3.0104289054870605, 0.8040469884872437, -0.7190773487091064, 0.3724273443222046, -4.911677360534668, 4.731832504272461, 3.3638205528259277, 0.5891256928443909, -0.5487769246101379, -5.015539646148682, -4.275298595428467, 2.922215461730957, -0.7843332290649414, 1.0769331455230713, -4.575412750244141, 0.3865782618522644, -3.8015458583831787, -5.055091857910156, 1.7162511348724365, 1.5021007061004639, -0.15414248406887054, -4.266695976257324, 0.9089053273200989, 1.3618518114089966, -3.625490188598633, 0.5905179381370544, 2.5407814979553223, 2.69644832611084, 2.9777753353118896, -2.8391449451446533, 2.31956148147583, 0.7051591873168945, 0.9782655239105225, 3.062723159790039, -0.7455084919929504, 2.9910058975219727, -0.8098825216293335, 1.6235202550888062, -2.9232895374298096, -3.214944362640381, -0.7157773375511169, -4.772095680236816, 4.5874481201171875, 2.3846144676208496, 1.5535424947738647, -0.39229097962379456, 3.473585844039917, 2.7993273735046387, 4.1329498291015625, -0.5344229936599731, -2.5494136810302734, 2.972891330718994, 0.23265138268470764, -2.457489252090454, 0.33704352378845215, -2.748690366744995, -0.7236939072608948, -5.104905605316162, 1.0883687734603882, -2.936500310897827, 2.4675490856170654, -1.0636043548583984, 1.0211584568023682, 2.021500825881958, 2.2066521644592285, -5.119268894195557, -0.237853541970253, -0.7909759283065796, -5.054195404052734, 0.9738911986351013, 2.2165520191192627, -2.6415212154388428, 0.19513501226902008, 2.102750778198242, 0.2858982980251312, 2.1289350986480713, 2.8278324604034424, -3.4609897136688232, 2.2553093433380127, 0.9914522767066956, -2.8787951469421387, 2.010056257247925, 1.956011176109314, 4.064932823181152, 0.6532012820243835, 4.659614562988281, 1.6165412664413452, 2.9818437099456787, -0.7354796528816223, -1.6481683254241943, 2.6298534870147705, 1.509223222732544, 3.320577383041382, 2.3482024669647217, 3.291102886199951, 1.3517396450042725, 4.122962474822998, -4.080211162567139, 3.534119129180908, 3.2810115814208984, -4.044572353363037, -0.3950338661670685, -3.221079111099243, -0.7043108344078064, -4.607888221740723, -0.3957976996898651, 2.0107083320617676, 3.98496675491333, -5.063640594482422, 3.303769111633301, 0.32915419340133667, -0.8235614895820618, 2.0278282165527344, -0.38668277859687805, 4.282797813415527, 1.3096669912338257, -4.921497344970703, 1.27979576587677, 0.2506520748138428, 3.4444234371185303, 4.488314628601074, -2.818148612976074, 4.654269218444824, 3.038372755050659, 2.314592123031616, 3.217398166656494, 1.4521628618240356, 2.4820010662078857, 2.0309338569641113, -3.001116991043091, -4.1395792961120605, -2.4649434089660645, -4.620749473571777, 0.24415789544582367, 2.6938228607177734, 0.8290616869926453, -4.667314529418945, -2.98811674118042, 0.5613105893135071, 2.581974744796753, 1.9384559392929077, 0.8954469561576843, 0.2179715782403946, -0.017317896708846092, 2.9987640380859375, 0.010845650918781757, -0.4962746798992157, 3.163499355316162, 1.869568943977356, 3.0325191020965576, -0.8374283313751221, 3.7778677940368652, 0.0008402417879551649, 2.3896806240081787, 2.657825231552124, 3.2601938247680664, 3.141427993774414, 3.2854042053222656, 2.2831006050109863, 1.4862645864486694, 2.4497838020324707, 2.088075876235962, -2.9054269790649414, -2.657677412033081, -3.189208745956421, -4.019448757171631, -0.11705835163593292, 0.8319825530052185, 0.3318975865840912, 1.123083233833313, -2.978444814682007, -0.452096551656723, -0.46806174516677856, -0.7759557962417603, 0.6032927632331848, 0.31270429491996765, 2.9837517738342285, 3.0040879249572754, -1.071813941001892, -0.11970221251249313, -4.595961093902588, -0.8222101330757141, 2.752399444580078, -5.1797051429748535, -0.1943189650774002, -2.5877695083618164, -1.8007291555404663, -2.7712767124176025, -0.35703572630882263, 4.72935676574707, -0.30498605966567993, -0.7576678991317749, 3.1873044967651367, 2.6855576038360596, -2.6844289302825928, 2.3031387329101562, -4.71621561050415, -0.4025108218193054, -3.6938469409942627, 1.816650390625, -3.5897927284240723, 0.2953964173793793, 1.2747929096221924, 0.20130270719528198, 3.8569273948669434, 1.7013118267059326, 3.102628707885742, -0.6148526668548584, -3.1320807933807373, 0.10651367902755737, 1.9234760999679565, 1.4678583145141602, -0.37947773933410645, 0.09927260875701904, -2.8635330200195312, 3.5132179260253906, 2.8297626972198486, 3.5358469486236572, 2.876250743865967, 2.862166404724121, 1.511846899986267, 1.034156322479248, -4.160262584686279, -0.7585235834121704, -0.2657305598258972, 3.5782253742218018, -0.1316474974155426, 3.23142147064209, 4.6658806800842285, 3.4236536026000977, 2.8168141841888428, 0.11445879191160202, 0.46895116567611694, -3.4439010620117188, 2.8687071800231934, -0.3187848925590515, 1.5301401615142822, -4.306983947753906, 1.0144391059875488, 4.582649230957031, 1.410367488861084, 2.2854082584381104, 2.0225305557250977, 1.9087977409362793, 1.1771782636642456, 4.641194820404053, 3.9861316680908203, -2.391887664794922, -4.782625675201416, -4.558785438537598, 1.6802287101745605, 0.36463263630867004, -4.704654216766357, 0.02429834008216858, 1.1268870830535889, -4.082187175750732, 3.4500482082366943, 4.222772598266602, 2.27972149848938, -0.558255672454834, 2.161504030227661, 1.167574405670166, 0.691597044467926, 1.064731478691101, 1.7974858283996582, 0.5545914173126221, 3.657559633255005, 3.346217632293701, 2.546877861022949, 0.6725345253944397, 0.8119258880615234, -0.07008080929517746, 2.8134377002716064, 1.5407416820526123, 0.5614624619483948, 1.0533140897750854, -1.287514567375183, 2.756406545639038, 3.9131453037261963, 3.4825024604797363, 3.283247709274292, 1.037993311882019, -0.9064788222312927, -0.3215469717979431, 0.892545759677887, 0.38324978947639465, 4.68318510055542, -3.727268695831299, -4.863940715789795, -5.0636773109436035, 2.031125068664551, 0.5222916007041931, -3.1066887378692627, -3.0749917030334473, 2.2367401123046875, -2.530395984649658, -5.067997932434082, -4.302637100219727, 4.649624824523926, -0.7042620778083801, 1.4933468103408813, 3.180392026901245, -0.7546975016593933, 3.319563865661621, 2.5885632038116455, 0.2877584397792816, -0.755070149898529, -4.759149074554443, -0.45824360847473145, 2.2539174556732178, 1.1340316534042358, 1.483574628829956, -0.8208065629005432, 0.5463743209838867, 1.7269846200942993, -2.8673038482666016, 2.741628408432007, 2.8940699100494385, -1.0529803037643433, 2.581427574157715, -1.1376690864562988, -4.706246852874756, -2.798497438430786, -0.09619586169719696, 2.578313112258911, -2.93216609954834, 0.6313642859458923, -0.2245689034461975, 0.4753335416316986, -5.109625339508057, -3.2512452602386475, -4.060918807983398, 2.9923930168151855, 2.082482099533081, -3.036539077758789, -4.899933338165283, 1.5052053928375244, -0.45882824063301086, 3.6222708225250244, -5.021333694458008, -4.615514278411865, 3.108245611190796, -4.085516929626465, 2.0904529094696045, -5.003106594085693, 2.7061548233032227, 3.4466805458068848, 0.2271529734134674, -0.3325633108615875, -4.367817401885986, 0.9241215586662292, 0.1330001801252365, -0.09183669090270996, 0.9547633528709412, 3.3226850032806396, -0.7587378025054932, 1.517580270767212, -0.39679160714149475, 2.094665288925171, 4.16943883895874, 0.7379722595214844, -0.7221007943153381, 2.461977243423462, -5.07997989654541, -2.317777633666992, 2.2533581256866455, 0.01570184715092182, 2.016167402267456, 2.8429579734802246, 3.002734899520874, 3.6370575428009033, 4.277245044708252, -0.6443532705307007, -5.130868911743164, 2.326582193374634, 1.6897858381271362, 1.781886100769043, 4.126659393310547, -4.912862300872803, -3.8643529415130615, 1.9298202991485596, 2.008904218673706, -2.390042781829834, 2.2033886909484863, 2.3530585765838623, -0.564708411693573, 3.2117364406585693, -0.8811624050140381, -1.10938560962677, 4.272701740264893, -0.49575090408325195, -4.229070663452148, -0.5521288514137268, 3.6457648277282715, 2.488393783569336, 2.3107805252075195, 4.123661041259766, 2.3697712421417236, -4.322697639465332, -3.1083121299743652, 1.1054303646087646, 4.013553619384766, -2.597294569015503, -0.5889726281166077, -4.177168846130371, 0.9991755485534668, 2.4295437335968018, 0.9277098178863525, 4.170034408569336, -4.874638080596924, 2.11183500289917, -2.485579013824463, -4.647793292999268, 0.39717593789100647, -4.210314750671387, 2.1022799015045166, 3.6570234298706055, 2.457582473754883, -4.6825971603393555, 3.3609566688537598, -2.5862483978271484, 3.7855279445648193, -0.2870354950428009, 1.5117969512939453, -3.300309896469116, 3.210143804550171, 0.6330454349517822, -0.09702174365520477, 0.5538509488105774, -2.8156557083129883, -0.6528605222702026, -2.9015660285949707, -4.498801231384277, -4.096132755279541, 3.2925312519073486, 3.0614571571350098, 4.720715522766113, -3.1982367038726807, 0.815828263759613, -2.9969170093536377, 2.2385003566741943, -0.7014150023460388, 1.5147897005081177, 0.21811003983020782, -4.093540668487549, 1.675987958908081, -3.6164817810058594, -3.3616480827331543, 1.7470998764038086, 0.9251791834831238, 1.599043369293213, 2.2243778705596924, -0.5254483819007874, 0.16058428585529327, 2.8725953102111816, -4.422560214996338, -0.5205318927764893, 3.440912961959839, 3.314997434616089, 0.2199288010597229, -5.209057331085205, 1.7657749652862549, 0.7437009215354919, 0.2941088080406189, -5.192103862762451, 2.058560609817505, -1.1589432954788208, -2.6215078830718994, 2.612036943435669, 4.307133197784424, 4.715035438537598, -2.5473170280456543, 3.7952628135681152, 1.5028358697891235, -4.257960319519043, 2.452829360961914, -2.951788902282715, 3.3426706790924072, -2.7628352642059326, 0.9955050349235535, 2.5146431922912598, -1.0477370023727417, -0.31687238812446594, 1.2864372730255127, 1.4554011821746826, 3.1190221309661865, -0.4694788157939911, 0.31097710132598877, -0.5640252828598022, 3.2792325019836426, 4.409623146057129, -0.35487937927246094, -0.10651088505983353, -5.080141067504883, 4.2214274406433105, -4.880263805389404, 2.0607948303222656, -4.811685562133789, -4.037370681762695, 2.395144462585449, 3.2804644107818604, -2.753216028213501, -0.10997544229030609, 2.9507226943969727, 3.5636231899261475, 0.3757108151912689, 1.7275030612945557, 4.654824733734131, 2.180999517440796, 2.3619465827941895, 0.34645771980285645, 2.5699896812438965, 0.906812310218811, -0.7476978302001953, -4.9560346603393555, -3.0494863986968994, 1.1850632429122925, 2.1763153076171875, -4.557580947875977, 2.067437171936035, -0.5306134223937988, 2.0593161582946777, -4.297372817993164, -3.27176833152771, -1.1329950094223022, -4.418353080749512, 2.2484915256500244, 2.1875429153442383, 2.254115581512451, -0.347334086894989, 3.601973056793213, 2.1262409687042236, -2.5259008407592773, -4.934629440307617, 2.751091957092285, 2.208418607711792, 0.3993684947490692, 0.41538751125335693, 3.4839394092559814, 4.512913703918457, -0.8639025688171387, 3.668161153793335, -5.038856029510498, -4.754389762878418, -0.5531420111656189, 2.32859206199646, -2.9738996028900146, 1.524999976158142, -5.012679100036621, 3.3454222679138184, -0.9060438275337219], \"yaxis\": \"y\"}],\n",
       "                        {\"coloraxis\": {\"colorbar\": {\"title\": {\"text\": \"Anomaly\"}}, \"colorscale\": [[0.0, \"#0d0887\"], [0.1111111111111111, \"#46039f\"], [0.2222222222222222, \"#7201a8\"], [0.3333333333333333, \"#9c179e\"], [0.4444444444444444, \"#bd3786\"], [0.5555555555555556, \"#d8576b\"], [0.6666666666666666, \"#ed7953\"], [0.7777777777777778, \"#fb9f3a\"], [0.8888888888888888, \"#fdca26\"], [1.0, \"#f0f921\"]]}, \"height\": 800, \"legend\": {\"tracegroupgap\": 0}, \"template\": {\"data\": {\"bar\": [{\"error_x\": {\"color\": \"#2a3f5f\"}, \"error_y\": {\"color\": \"#2a3f5f\"}, \"marker\": {\"line\": {\"color\": \"#E5ECF6\", \"width\": 0.5}}, \"type\": \"bar\"}], \"barpolar\": [{\"marker\": {\"line\": {\"color\": \"#E5ECF6\", \"width\": 0.5}}, \"type\": \"barpolar\"}], \"carpet\": [{\"aaxis\": {\"endlinecolor\": \"#2a3f5f\", \"gridcolor\": \"white\", \"linecolor\": \"white\", \"minorgridcolor\": \"white\", \"startlinecolor\": \"#2a3f5f\"}, \"baxis\": {\"endlinecolor\": \"#2a3f5f\", \"gridcolor\": \"white\", \"linecolor\": \"white\", \"minorgridcolor\": \"white\", \"startlinecolor\": \"#2a3f5f\"}, \"type\": \"carpet\"}], \"choropleth\": [{\"colorbar\": {\"outlinewidth\": 0, \"ticks\": \"\"}, \"type\": \"choropleth\"}], \"contour\": [{\"colorbar\": {\"outlinewidth\": 0, \"ticks\": \"\"}, \"colorscale\": [[0.0, \"#0d0887\"], [0.1111111111111111, \"#46039f\"], [0.2222222222222222, \"#7201a8\"], [0.3333333333333333, \"#9c179e\"], [0.4444444444444444, \"#bd3786\"], [0.5555555555555556, \"#d8576b\"], [0.6666666666666666, \"#ed7953\"], [0.7777777777777778, \"#fb9f3a\"], [0.8888888888888888, \"#fdca26\"], [1.0, \"#f0f921\"]], \"type\": \"contour\"}], \"contourcarpet\": [{\"colorbar\": {\"outlinewidth\": 0, \"ticks\": \"\"}, \"type\": \"contourcarpet\"}], \"heatmap\": [{\"colorbar\": {\"outlinewidth\": 0, \"ticks\": \"\"}, \"colorscale\": [[0.0, \"#0d0887\"], [0.1111111111111111, \"#46039f\"], [0.2222222222222222, \"#7201a8\"], [0.3333333333333333, \"#9c179e\"], [0.4444444444444444, \"#bd3786\"], [0.5555555555555556, \"#d8576b\"], [0.6666666666666666, \"#ed7953\"], [0.7777777777777778, \"#fb9f3a\"], [0.8888888888888888, \"#fdca26\"], [1.0, \"#f0f921\"]], \"type\": \"heatmap\"}], \"heatmapgl\": [{\"colorbar\": {\"outlinewidth\": 0, \"ticks\": \"\"}, \"colorscale\": [[0.0, \"#0d0887\"], [0.1111111111111111, \"#46039f\"], [0.2222222222222222, \"#7201a8\"], [0.3333333333333333, \"#9c179e\"], [0.4444444444444444, \"#bd3786\"], [0.5555555555555556, \"#d8576b\"], [0.6666666666666666, \"#ed7953\"], [0.7777777777777778, \"#fb9f3a\"], [0.8888888888888888, \"#fdca26\"], [1.0, \"#f0f921\"]], \"type\": \"heatmapgl\"}], \"histogram\": [{\"marker\": {\"colorbar\": {\"outlinewidth\": 0, \"ticks\": \"\"}}, \"type\": \"histogram\"}], \"histogram2d\": [{\"colorbar\": {\"outlinewidth\": 0, \"ticks\": \"\"}, \"colorscale\": [[0.0, \"#0d0887\"], [0.1111111111111111, \"#46039f\"], [0.2222222222222222, \"#7201a8\"], [0.3333333333333333, \"#9c179e\"], [0.4444444444444444, \"#bd3786\"], [0.5555555555555556, \"#d8576b\"], [0.6666666666666666, \"#ed7953\"], [0.7777777777777778, \"#fb9f3a\"], [0.8888888888888888, \"#fdca26\"], [1.0, \"#f0f921\"]], \"type\": \"histogram2d\"}], \"histogram2dcontour\": [{\"colorbar\": {\"outlinewidth\": 0, \"ticks\": \"\"}, \"colorscale\": [[0.0, \"#0d0887\"], [0.1111111111111111, \"#46039f\"], [0.2222222222222222, \"#7201a8\"], [0.3333333333333333, \"#9c179e\"], [0.4444444444444444, \"#bd3786\"], [0.5555555555555556, \"#d8576b\"], [0.6666666666666666, \"#ed7953\"], [0.7777777777777778, \"#fb9f3a\"], [0.8888888888888888, \"#fdca26\"], [1.0, \"#f0f921\"]], \"type\": \"histogram2dcontour\"}], \"mesh3d\": [{\"colorbar\": {\"outlinewidth\": 0, \"ticks\": \"\"}, \"type\": \"mesh3d\"}], \"parcoords\": [{\"line\": {\"colorbar\": {\"outlinewidth\": 0, \"ticks\": \"\"}}, \"type\": \"parcoords\"}], \"pie\": [{\"automargin\": true, \"type\": \"pie\"}], \"scatter\": [{\"marker\": {\"colorbar\": {\"outlinewidth\": 0, \"ticks\": \"\"}}, \"type\": \"scatter\"}], \"scatter3d\": [{\"line\": {\"colorbar\": {\"outlinewidth\": 0, \"ticks\": \"\"}}, \"marker\": {\"colorbar\": {\"outlinewidth\": 0, \"ticks\": \"\"}}, \"type\": \"scatter3d\"}], \"scattercarpet\": [{\"marker\": {\"colorbar\": {\"outlinewidth\": 0, \"ticks\": \"\"}}, \"type\": \"scattercarpet\"}], \"scattergeo\": [{\"marker\": {\"colorbar\": {\"outlinewidth\": 0, \"ticks\": \"\"}}, \"type\": \"scattergeo\"}], \"scattergl\": [{\"marker\": {\"colorbar\": {\"outlinewidth\": 0, \"ticks\": \"\"}}, \"type\": \"scattergl\"}], \"scattermapbox\": [{\"marker\": {\"colorbar\": {\"outlinewidth\": 0, \"ticks\": \"\"}}, \"type\": \"scattermapbox\"}], \"scatterpolar\": [{\"marker\": {\"colorbar\": {\"outlinewidth\": 0, \"ticks\": \"\"}}, \"type\": \"scatterpolar\"}], \"scatterpolargl\": [{\"marker\": {\"colorbar\": {\"outlinewidth\": 0, \"ticks\": \"\"}}, \"type\": \"scatterpolargl\"}], \"scatterternary\": [{\"marker\": {\"colorbar\": {\"outlinewidth\": 0, \"ticks\": \"\"}}, \"type\": \"scatterternary\"}], \"surface\": [{\"colorbar\": {\"outlinewidth\": 0, \"ticks\": \"\"}, \"colorscale\": [[0.0, \"#0d0887\"], [0.1111111111111111, \"#46039f\"], [0.2222222222222222, \"#7201a8\"], [0.3333333333333333, \"#9c179e\"], [0.4444444444444444, \"#bd3786\"], [0.5555555555555556, \"#d8576b\"], [0.6666666666666666, \"#ed7953\"], [0.7777777777777778, \"#fb9f3a\"], [0.8888888888888888, \"#fdca26\"], [1.0, \"#f0f921\"]], \"type\": \"surface\"}], \"table\": [{\"cells\": {\"fill\": {\"color\": \"#EBF0F8\"}, \"line\": {\"color\": \"white\"}}, \"header\": {\"fill\": {\"color\": \"#C8D4E3\"}, \"line\": {\"color\": \"white\"}}, \"type\": \"table\"}]}, \"layout\": {\"annotationdefaults\": {\"arrowcolor\": \"#2a3f5f\", \"arrowhead\": 0, \"arrowwidth\": 1}, \"coloraxis\": {\"colorbar\": {\"outlinewidth\": 0, \"ticks\": \"\"}}, \"colorscale\": {\"diverging\": [[0, \"#8e0152\"], [0.1, \"#c51b7d\"], [0.2, \"#de77ae\"], [0.3, \"#f1b6da\"], [0.4, \"#fde0ef\"], [0.5, \"#f7f7f7\"], [0.6, \"#e6f5d0\"], [0.7, \"#b8e186\"], [0.8, \"#7fbc41\"], [0.9, \"#4d9221\"], [1, \"#276419\"]], \"sequential\": [[0.0, \"#0d0887\"], [0.1111111111111111, \"#46039f\"], [0.2222222222222222, \"#7201a8\"], [0.3333333333333333, \"#9c179e\"], [0.4444444444444444, \"#bd3786\"], [0.5555555555555556, \"#d8576b\"], [0.6666666666666666, \"#ed7953\"], [0.7777777777777778, \"#fb9f3a\"], [0.8888888888888888, \"#fdca26\"], [1.0, \"#f0f921\"]], \"sequentialminus\": [[0.0, \"#0d0887\"], [0.1111111111111111, \"#46039f\"], [0.2222222222222222, \"#7201a8\"], [0.3333333333333333, \"#9c179e\"], [0.4444444444444444, \"#bd3786\"], [0.5555555555555556, \"#d8576b\"], [0.6666666666666666, \"#ed7953\"], [0.7777777777777778, \"#fb9f3a\"], [0.8888888888888888, \"#fdca26\"], [1.0, \"#f0f921\"]]}, \"colorway\": [\"#636efa\", \"#EF553B\", \"#00cc96\", \"#ab63fa\", \"#FFA15A\", \"#19d3f3\", \"#FF6692\", \"#B6E880\", \"#FF97FF\", \"#FECB52\"], \"font\": {\"color\": \"#2a3f5f\"}, \"geo\": {\"bgcolor\": \"white\", \"lakecolor\": \"white\", \"landcolor\": \"#E5ECF6\", \"showlakes\": true, \"showland\": true, \"subunitcolor\": \"white\"}, \"hoverlabel\": {\"align\": \"left\"}, \"hovermode\": \"closest\", \"mapbox\": {\"style\": \"light\"}, \"paper_bgcolor\": \"white\", \"plot_bgcolor\": \"#E5ECF6\", \"polar\": {\"angularaxis\": {\"gridcolor\": \"white\", \"linecolor\": \"white\", \"ticks\": \"\"}, \"bgcolor\": \"#E5ECF6\", \"radialaxis\": {\"gridcolor\": \"white\", \"linecolor\": \"white\", \"ticks\": \"\"}}, \"scene\": {\"xaxis\": {\"backgroundcolor\": \"#E5ECF6\", \"gridcolor\": \"white\", \"gridwidth\": 2, \"linecolor\": \"white\", \"showbackground\": true, \"ticks\": \"\", \"zerolinecolor\": \"white\"}, \"yaxis\": {\"backgroundcolor\": \"#E5ECF6\", \"gridcolor\": \"white\", \"gridwidth\": 2, \"linecolor\": \"white\", \"showbackground\": true, \"ticks\": \"\", \"zerolinecolor\": \"white\"}, \"zaxis\": {\"backgroundcolor\": \"#E5ECF6\", \"gridcolor\": \"white\", \"gridwidth\": 2, \"linecolor\": \"white\", \"showbackground\": true, \"ticks\": \"\", \"zerolinecolor\": \"white\"}}, \"shapedefaults\": {\"line\": {\"color\": \"#2a3f5f\"}}, \"ternary\": {\"aaxis\": {\"gridcolor\": \"white\", \"linecolor\": \"white\", \"ticks\": \"\"}, \"baxis\": {\"gridcolor\": \"white\", \"linecolor\": \"white\", \"ticks\": \"\"}, \"bgcolor\": \"#E5ECF6\", \"caxis\": {\"gridcolor\": \"white\", \"linecolor\": \"white\", \"ticks\": \"\"}}, \"title\": {\"x\": 0.05}, \"xaxis\": {\"automargin\": true, \"gridcolor\": \"white\", \"linecolor\": \"white\", \"ticks\": \"\", \"title\": {\"standoff\": 15}, \"zerolinecolor\": \"white\", \"zerolinewidth\": 2}, \"yaxis\": {\"automargin\": true, \"gridcolor\": \"white\", \"linecolor\": \"white\", \"ticks\": \"\", \"title\": {\"standoff\": 15}, \"zerolinecolor\": \"white\", \"zerolinewidth\": 2}}}, \"title\": {\"text\": \"uMAP Plot for Outliers\"}, \"width\": 900, \"xaxis\": {\"anchor\": \"y\", \"domain\": [0.0, 1.0], \"title\": {\"text\": \"0\"}}, \"yaxis\": {\"anchor\": \"x\", \"domain\": [0.0, 1.0], \"title\": {\"text\": \"1\"}}},\n",
       "                        {\"responsive\": true}\n",
       "                    ).then(function(){\n",
       "                            \n",
       "var gd = document.getElementById('9a5fcb35-8793-4bee-b5c5-b9097884ee2b');\n",
       "var x = new MutationObserver(function (mutations, observer) {{\n",
       "        var display = window.getComputedStyle(gd).display;\n",
       "        if (!display || display === 'none') {{\n",
       "            console.log([gd, 'removed!']);\n",
       "            Plotly.purge(gd);\n",
       "            observer.disconnect();\n",
       "        }}\n",
       "}});\n",
       "\n",
       "// Listen for the removal of the full notebook cells\n",
       "var notebookContainer = gd.closest('#notebook-container');\n",
       "if (notebookContainer) {{\n",
       "    x.observe(notebookContainer, {childList: true});\n",
       "}}\n",
       "\n",
       "// Listen for the clearing of the current output cell\n",
       "var outputEl = gd.closest('.output');\n",
       "if (outputEl) {{\n",
       "    x.observe(outputEl, {childList: true});\n",
       "}}\n",
       "\n",
       "                        })\n",
       "                };\n",
       "                });\n",
       "            </script>\n",
       "        </div>"
      ]
     },
     "metadata": {},
     "output_type": "display_data"
    }
   ],
   "source": [
    "plot_model(iforest, plot = 'umap')"
   ]
  },
  {
   "cell_type": "code",
   "execution_count": 64,
   "metadata": {},
   "outputs": [
    {
     "name": "stdout",
     "output_type": "stream",
     "text": [
      "Transformation Pipeline and Model Succesfully Saved\n"
     ]
    },
    {
     "data": {
      "text/plain": [
       "(Pipeline(memory=None,\n",
       "          steps=[('dtypes',\n",
       "                  DataTypes_Auto_infer(categorical_features=[],\n",
       "                                       display_types=True, features_todrop=[],\n",
       "                                       id_columns=[], ml_usecase='regression',\n",
       "                                       numerical_features=[],\n",
       "                                       target='UNSUPERVISED_DUMMY_TARGET',\n",
       "                                       time_features=[])),\n",
       "                 ('imputer',\n",
       "                  Simple_Imputer(categorical_strategy='most frequent',\n",
       "                                 fill_value_categorical=None,\n",
       "                                 fill_value_numerical=None...\n",
       "                 ('fix_perfect', 'passthrough'),\n",
       "                 ('clean_names', Clean_Colum_Names()),\n",
       "                 ('feature_select', 'passthrough'), ('fix_multi', 'passthrough'),\n",
       "                 ('dfs', 'passthrough'), ('pca', 'passthrough'),\n",
       "                 ['trained_model',\n",
       "                  IForest(behaviour='new', bootstrap=False, contamination=0.05,\n",
       "     max_features=1.0, max_samples='auto', n_estimators=200, n_jobs=-1,\n",
       "     random_state=123, verbose=0)]],\n",
       "          verbose=False), 'abc.pkl')"
      ]
     },
     "execution_count": 64,
     "metadata": {},
     "output_type": "execute_result"
    }
   ],
   "source": [
    "save_model(iforest, model_name = 'abc')"
   ]
  },
  {
   "cell_type": "code",
   "execution_count": 65,
   "metadata": {},
   "outputs": [
    {
     "name": "stdout",
     "output_type": "stream",
     "text": [
      "Transformation Pipeline and Model Successfully Loaded\n"
     ]
    }
   ],
   "source": [
    "l = load_model('abc')"
   ]
  },
  {
   "cell_type": "code",
   "execution_count": 68,
   "metadata": {},
   "outputs": [
    {
     "name": "stdout",
     "output_type": "stream",
     "text": [
      "Transformation Pipeline and Model Successfully Loaded\n"
     ]
    },
    {
     "data": {
      "text/html": [
       "<div>\n",
       "<style scoped>\n",
       "    .dataframe tbody tr th:only-of-type {\n",
       "        vertical-align: middle;\n",
       "    }\n",
       "\n",
       "    .dataframe tbody tr th {\n",
       "        vertical-align: top;\n",
       "    }\n",
       "\n",
       "    .dataframe thead th {\n",
       "        text-align: right;\n",
       "    }\n",
       "</style>\n",
       "<table border=\"1\" class=\"dataframe\">\n",
       "  <thead>\n",
       "    <tr style=\"text-align: right;\">\n",
       "      <th></th>\n",
       "      <th>Col1</th>\n",
       "      <th>Col2</th>\n",
       "      <th>Col3</th>\n",
       "      <th>Col4</th>\n",
       "      <th>Col5</th>\n",
       "      <th>Col6</th>\n",
       "      <th>Col7</th>\n",
       "      <th>Col8</th>\n",
       "      <th>Col9</th>\n",
       "      <th>Col10</th>\n",
       "      <th>Anomaly</th>\n",
       "      <th>Anomaly_Score</th>\n",
       "    </tr>\n",
       "  </thead>\n",
       "  <tbody>\n",
       "    <tr>\n",
       "      <th>0</th>\n",
       "      <td>0.263995</td>\n",
       "      <td>0.764929</td>\n",
       "      <td>0.138424</td>\n",
       "      <td>0.935242</td>\n",
       "      <td>0.605867</td>\n",
       "      <td>0.518790</td>\n",
       "      <td>0.912225</td>\n",
       "      <td>0.608234</td>\n",
       "      <td>0.723782</td>\n",
       "      <td>0.733591</td>\n",
       "      <td>0</td>\n",
       "      <td>-0.030361</td>\n",
       "    </tr>\n",
       "    <tr>\n",
       "      <th>1</th>\n",
       "      <td>0.546092</td>\n",
       "      <td>0.653975</td>\n",
       "      <td>0.065575</td>\n",
       "      <td>0.227772</td>\n",
       "      <td>0.845269</td>\n",
       "      <td>0.837066</td>\n",
       "      <td>0.272379</td>\n",
       "      <td>0.331679</td>\n",
       "      <td>0.429297</td>\n",
       "      <td>0.367422</td>\n",
       "      <td>0</td>\n",
       "      <td>-0.078290</td>\n",
       "    </tr>\n",
       "    <tr>\n",
       "      <th>2</th>\n",
       "      <td>0.336714</td>\n",
       "      <td>0.538842</td>\n",
       "      <td>0.192801</td>\n",
       "      <td>0.553563</td>\n",
       "      <td>0.074515</td>\n",
       "      <td>0.332993</td>\n",
       "      <td>0.365792</td>\n",
       "      <td>0.861309</td>\n",
       "      <td>0.899017</td>\n",
       "      <td>0.088600</td>\n",
       "      <td>1</td>\n",
       "      <td>0.026938</td>\n",
       "    </tr>\n",
       "    <tr>\n",
       "      <th>3</th>\n",
       "      <td>0.092108</td>\n",
       "      <td>0.995017</td>\n",
       "      <td>0.014465</td>\n",
       "      <td>0.176371</td>\n",
       "      <td>0.241530</td>\n",
       "      <td>0.514724</td>\n",
       "      <td>0.562208</td>\n",
       "      <td>0.158963</td>\n",
       "      <td>0.073715</td>\n",
       "      <td>0.208463</td>\n",
       "      <td>1</td>\n",
       "      <td>0.053551</td>\n",
       "    </tr>\n",
       "    <tr>\n",
       "      <th>4</th>\n",
       "      <td>0.325261</td>\n",
       "      <td>0.805968</td>\n",
       "      <td>0.957033</td>\n",
       "      <td>0.331665</td>\n",
       "      <td>0.307923</td>\n",
       "      <td>0.355315</td>\n",
       "      <td>0.501899</td>\n",
       "      <td>0.558449</td>\n",
       "      <td>0.885169</td>\n",
       "      <td>0.182754</td>\n",
       "      <td>0</td>\n",
       "      <td>-0.015639</td>\n",
       "    </tr>\n",
       "  </tbody>\n",
       "</table>\n",
       "</div>"
      ],
      "text/plain": [
       "       Col1      Col2      Col3      Col4      Col5      Col6      Col7  \\\n",
       "0  0.263995  0.764929  0.138424  0.935242  0.605867  0.518790  0.912225   \n",
       "1  0.546092  0.653975  0.065575  0.227772  0.845269  0.837066  0.272379   \n",
       "2  0.336714  0.538842  0.192801  0.553563  0.074515  0.332993  0.365792   \n",
       "3  0.092108  0.995017  0.014465  0.176371  0.241530  0.514724  0.562208   \n",
       "4  0.325261  0.805968  0.957033  0.331665  0.307923  0.355315  0.501899   \n",
       "\n",
       "       Col8      Col9     Col10  Anomaly  Anomaly_Score  \n",
       "0  0.608234  0.723782  0.733591        0      -0.030361  \n",
       "1  0.331679  0.429297  0.367422        0      -0.078290  \n",
       "2  0.861309  0.899017  0.088600        1       0.026938  \n",
       "3  0.158963  0.073715  0.208463        1       0.053551  \n",
       "4  0.558449  0.885169  0.182754        0      -0.015639  "
      ]
     },
     "execution_count": 68,
     "metadata": {},
     "output_type": "execute_result"
    }
   ],
   "source": [
    "from pycaret.anomaly import load_model, predict_model\n",
    "l = load_model('iforest-abc', platform = 'aws', authentication = .......)\n",
    "p = predict_model(l, data=data)\n",
    "p.head()"
   ]
  },
  {
   "cell_type": "code",
   "execution_count": 74,
   "metadata": {},
   "outputs": [
    {
     "data": {
      "text/html": [
       "<div>\n",
       "<style scoped>\n",
       "    .dataframe tbody tr th:only-of-type {\n",
       "        vertical-align: middle;\n",
       "    }\n",
       "\n",
       "    .dataframe tbody tr th {\n",
       "        vertical-align: top;\n",
       "    }\n",
       "\n",
       "    .dataframe thead th {\n",
       "        text-align: right;\n",
       "    }\n",
       "</style>\n",
       "<table border=\"1\" class=\"dataframe\">\n",
       "  <thead>\n",
       "    <tr style=\"text-align: right;\">\n",
       "      <th></th>\n",
       "      <th>Col1</th>\n",
       "      <th>Col2</th>\n",
       "      <th>Col3</th>\n",
       "      <th>Col4</th>\n",
       "      <th>Col5</th>\n",
       "      <th>Col6</th>\n",
       "      <th>Col7</th>\n",
       "      <th>Col8</th>\n",
       "      <th>Col9</th>\n",
       "      <th>Col10</th>\n",
       "      <th>Anomaly</th>\n",
       "      <th>Anomaly_Score</th>\n",
       "    </tr>\n",
       "  </thead>\n",
       "  <tbody>\n",
       "    <tr>\n",
       "      <th>0</th>\n",
       "      <td>0.263995</td>\n",
       "      <td>0.764929</td>\n",
       "      <td>0.138424</td>\n",
       "      <td>0.935242</td>\n",
       "      <td>0.605867</td>\n",
       "      <td>0.518790</td>\n",
       "      <td>0.912225</td>\n",
       "      <td>0.608234</td>\n",
       "      <td>0.723782</td>\n",
       "      <td>0.733591</td>\n",
       "      <td>0</td>\n",
       "      <td>-0.030361</td>\n",
       "    </tr>\n",
       "    <tr>\n",
       "      <th>1</th>\n",
       "      <td>0.546092</td>\n",
       "      <td>0.653975</td>\n",
       "      <td>0.065575</td>\n",
       "      <td>0.227772</td>\n",
       "      <td>0.845269</td>\n",
       "      <td>0.837066</td>\n",
       "      <td>0.272379</td>\n",
       "      <td>0.331679</td>\n",
       "      <td>0.429297</td>\n",
       "      <td>0.367422</td>\n",
       "      <td>0</td>\n",
       "      <td>-0.078290</td>\n",
       "    </tr>\n",
       "    <tr>\n",
       "      <th>2</th>\n",
       "      <td>0.336714</td>\n",
       "      <td>0.538842</td>\n",
       "      <td>0.192801</td>\n",
       "      <td>0.553563</td>\n",
       "      <td>0.074515</td>\n",
       "      <td>0.332993</td>\n",
       "      <td>0.365792</td>\n",
       "      <td>0.861309</td>\n",
       "      <td>0.899017</td>\n",
       "      <td>0.088600</td>\n",
       "      <td>1</td>\n",
       "      <td>0.026938</td>\n",
       "    </tr>\n",
       "    <tr>\n",
       "      <th>3</th>\n",
       "      <td>0.092108</td>\n",
       "      <td>0.995017</td>\n",
       "      <td>0.014465</td>\n",
       "      <td>0.176371</td>\n",
       "      <td>0.241530</td>\n",
       "      <td>0.514724</td>\n",
       "      <td>0.562208</td>\n",
       "      <td>0.158963</td>\n",
       "      <td>0.073715</td>\n",
       "      <td>0.208463</td>\n",
       "      <td>1</td>\n",
       "      <td>0.053551</td>\n",
       "    </tr>\n",
       "    <tr>\n",
       "      <th>4</th>\n",
       "      <td>0.325261</td>\n",
       "      <td>0.805968</td>\n",
       "      <td>0.957033</td>\n",
       "      <td>0.331665</td>\n",
       "      <td>0.307923</td>\n",
       "      <td>0.355315</td>\n",
       "      <td>0.501899</td>\n",
       "      <td>0.558449</td>\n",
       "      <td>0.885169</td>\n",
       "      <td>0.182754</td>\n",
       "      <td>0</td>\n",
       "      <td>-0.015639</td>\n",
       "    </tr>\n",
       "    <tr>\n",
       "      <th>...</th>\n",
       "      <td>...</td>\n",
       "      <td>...</td>\n",
       "      <td>...</td>\n",
       "      <td>...</td>\n",
       "      <td>...</td>\n",
       "      <td>...</td>\n",
       "      <td>...</td>\n",
       "      <td>...</td>\n",
       "      <td>...</td>\n",
       "      <td>...</td>\n",
       "      <td>...</td>\n",
       "      <td>...</td>\n",
       "    </tr>\n",
       "    <tr>\n",
       "      <th>995</th>\n",
       "      <td>0.305055</td>\n",
       "      <td>0.656837</td>\n",
       "      <td>0.331665</td>\n",
       "      <td>0.822525</td>\n",
       "      <td>0.907127</td>\n",
       "      <td>0.882276</td>\n",
       "      <td>0.855732</td>\n",
       "      <td>0.584786</td>\n",
       "      <td>0.808640</td>\n",
       "      <td>0.242762</td>\n",
       "      <td>0</td>\n",
       "      <td>-0.082756</td>\n",
       "    </tr>\n",
       "    <tr>\n",
       "      <th>996</th>\n",
       "      <td>0.812627</td>\n",
       "      <td>0.864258</td>\n",
       "      <td>0.616604</td>\n",
       "      <td>0.167966</td>\n",
       "      <td>0.811223</td>\n",
       "      <td>0.938071</td>\n",
       "      <td>0.418462</td>\n",
       "      <td>0.472306</td>\n",
       "      <td>0.348347</td>\n",
       "      <td>0.671129</td>\n",
       "      <td>0</td>\n",
       "      <td>-0.065453</td>\n",
       "    </tr>\n",
       "    <tr>\n",
       "      <th>997</th>\n",
       "      <td>0.250967</td>\n",
       "      <td>0.138627</td>\n",
       "      <td>0.919703</td>\n",
       "      <td>0.461234</td>\n",
       "      <td>0.886555</td>\n",
       "      <td>0.869888</td>\n",
       "      <td>0.800908</td>\n",
       "      <td>0.530324</td>\n",
       "      <td>0.779433</td>\n",
       "      <td>0.234952</td>\n",
       "      <td>0</td>\n",
       "      <td>-0.055405</td>\n",
       "    </tr>\n",
       "    <tr>\n",
       "      <th>998</th>\n",
       "      <td>0.502436</td>\n",
       "      <td>0.936820</td>\n",
       "      <td>0.580062</td>\n",
       "      <td>0.540773</td>\n",
       "      <td>0.151995</td>\n",
       "      <td>0.059452</td>\n",
       "      <td>0.225220</td>\n",
       "      <td>0.242755</td>\n",
       "      <td>0.279385</td>\n",
       "      <td>0.538755</td>\n",
       "      <td>0</td>\n",
       "      <td>-0.068005</td>\n",
       "    </tr>\n",
       "    <tr>\n",
       "      <th>999</th>\n",
       "      <td>0.457991</td>\n",
       "      <td>0.017755</td>\n",
       "      <td>0.714113</td>\n",
       "      <td>0.125992</td>\n",
       "      <td>0.063316</td>\n",
       "      <td>0.154739</td>\n",
       "      <td>0.922974</td>\n",
       "      <td>0.692299</td>\n",
       "      <td>0.816777</td>\n",
       "      <td>0.307592</td>\n",
       "      <td>0</td>\n",
       "      <td>-0.012268</td>\n",
       "    </tr>\n",
       "  </tbody>\n",
       "</table>\n",
       "<p>1000 rows × 12 columns</p>\n",
       "</div>"
      ],
      "text/plain": [
       "         Col1      Col2      Col3      Col4      Col5      Col6      Col7  \\\n",
       "0    0.263995  0.764929  0.138424  0.935242  0.605867  0.518790  0.912225   \n",
       "1    0.546092  0.653975  0.065575  0.227772  0.845269  0.837066  0.272379   \n",
       "2    0.336714  0.538842  0.192801  0.553563  0.074515  0.332993  0.365792   \n",
       "3    0.092108  0.995017  0.014465  0.176371  0.241530  0.514724  0.562208   \n",
       "4    0.325261  0.805968  0.957033  0.331665  0.307923  0.355315  0.501899   \n",
       "..        ...       ...       ...       ...       ...       ...       ...   \n",
       "995  0.305055  0.656837  0.331665  0.822525  0.907127  0.882276  0.855732   \n",
       "996  0.812627  0.864258  0.616604  0.167966  0.811223  0.938071  0.418462   \n",
       "997  0.250967  0.138627  0.919703  0.461234  0.886555  0.869888  0.800908   \n",
       "998  0.502436  0.936820  0.580062  0.540773  0.151995  0.059452  0.225220   \n",
       "999  0.457991  0.017755  0.714113  0.125992  0.063316  0.154739  0.922974   \n",
       "\n",
       "         Col8      Col9     Col10  Anomaly  Anomaly_Score  \n",
       "0    0.608234  0.723782  0.733591        0      -0.030361  \n",
       "1    0.331679  0.429297  0.367422        0      -0.078290  \n",
       "2    0.861309  0.899017  0.088600        1       0.026938  \n",
       "3    0.158963  0.073715  0.208463        1       0.053551  \n",
       "4    0.558449  0.885169  0.182754        0      -0.015639  \n",
       "..        ...       ...       ...      ...            ...  \n",
       "995  0.584786  0.808640  0.242762        0      -0.082756  \n",
       "996  0.472306  0.348347  0.671129        0      -0.065453  \n",
       "997  0.530324  0.779433  0.234952        0      -0.055405  \n",
       "998  0.242755  0.279385  0.538755        0      -0.068005  \n",
       "999  0.692299  0.816777  0.307592        0      -0.012268  \n",
       "\n",
       "[1000 rows x 12 columns]"
      ]
     },
     "execution_count": 74,
     "metadata": {},
     "output_type": "execute_result"
    }
   ],
   "source": [
    "p"
   ]
  },
  {
   "cell_type": "code",
   "execution_count": 80,
   "metadata": {},
   "outputs": [
    {
     "data": {
      "text/html": [
       "<div>\n",
       "<style scoped>\n",
       "    .dataframe tbody tr th:only-of-type {\n",
       "        vertical-align: middle;\n",
       "    }\n",
       "\n",
       "    .dataframe tbody tr th {\n",
       "        vertical-align: top;\n",
       "    }\n",
       "\n",
       "    .dataframe thead th {\n",
       "        text-align: right;\n",
       "    }\n",
       "</style>\n",
       "<table border=\"1\" class=\"dataframe\">\n",
       "  <thead>\n",
       "    <tr style=\"text-align: right;\">\n",
       "      <th></th>\n",
       "      <th>Col1</th>\n",
       "      <th>Col2</th>\n",
       "      <th>Col3</th>\n",
       "      <th>Col4</th>\n",
       "      <th>Col5</th>\n",
       "      <th>Col6</th>\n",
       "      <th>Col7</th>\n",
       "      <th>Col8</th>\n",
       "      <th>Col9</th>\n",
       "      <th>Col10</th>\n",
       "      <th>Anomaly</th>\n",
       "      <th>Anomaly_Score</th>\n",
       "    </tr>\n",
       "  </thead>\n",
       "  <tbody>\n",
       "    <tr>\n",
       "      <th>0</th>\n",
       "      <td>0.263995</td>\n",
       "      <td>0.764929</td>\n",
       "      <td>0.138424</td>\n",
       "      <td>0.935242</td>\n",
       "      <td>0.605867</td>\n",
       "      <td>0.518790</td>\n",
       "      <td>0.912225</td>\n",
       "      <td>0.608234</td>\n",
       "      <td>0.723782</td>\n",
       "      <td>0.733591</td>\n",
       "      <td>0</td>\n",
       "      <td>-0.035865</td>\n",
       "    </tr>\n",
       "    <tr>\n",
       "      <th>1</th>\n",
       "      <td>0.546092</td>\n",
       "      <td>0.653975</td>\n",
       "      <td>0.065575</td>\n",
       "      <td>0.227772</td>\n",
       "      <td>0.845269</td>\n",
       "      <td>0.837066</td>\n",
       "      <td>0.272379</td>\n",
       "      <td>0.331679</td>\n",
       "      <td>0.429297</td>\n",
       "      <td>0.367422</td>\n",
       "      <td>0</td>\n",
       "      <td>-0.084927</td>\n",
       "    </tr>\n",
       "    <tr>\n",
       "      <th>2</th>\n",
       "      <td>0.336714</td>\n",
       "      <td>0.538842</td>\n",
       "      <td>0.192801</td>\n",
       "      <td>0.553563</td>\n",
       "      <td>0.074515</td>\n",
       "      <td>0.332993</td>\n",
       "      <td>0.365792</td>\n",
       "      <td>0.861309</td>\n",
       "      <td>0.899017</td>\n",
       "      <td>0.088600</td>\n",
       "      <td>1</td>\n",
       "      <td>0.025356</td>\n",
       "    </tr>\n",
       "    <tr>\n",
       "      <th>3</th>\n",
       "      <td>0.092108</td>\n",
       "      <td>0.995017</td>\n",
       "      <td>0.014465</td>\n",
       "      <td>0.176371</td>\n",
       "      <td>0.241530</td>\n",
       "      <td>0.514724</td>\n",
       "      <td>0.562208</td>\n",
       "      <td>0.158963</td>\n",
       "      <td>0.073715</td>\n",
       "      <td>0.208463</td>\n",
       "      <td>1</td>\n",
       "      <td>0.042415</td>\n",
       "    </tr>\n",
       "    <tr>\n",
       "      <th>4</th>\n",
       "      <td>0.325261</td>\n",
       "      <td>0.805968</td>\n",
       "      <td>0.957033</td>\n",
       "      <td>0.331665</td>\n",
       "      <td>0.307923</td>\n",
       "      <td>0.355315</td>\n",
       "      <td>0.501899</td>\n",
       "      <td>0.558449</td>\n",
       "      <td>0.885169</td>\n",
       "      <td>0.182754</td>\n",
       "      <td>0</td>\n",
       "      <td>-0.023408</td>\n",
       "    </tr>\n",
       "  </tbody>\n",
       "</table>\n",
       "</div>"
      ],
      "text/plain": [
       "       Col1      Col2      Col3      Col4      Col5      Col6      Col7  \\\n",
       "0  0.263995  0.764929  0.138424  0.935242  0.605867  0.518790  0.912225   \n",
       "1  0.546092  0.653975  0.065575  0.227772  0.845269  0.837066  0.272379   \n",
       "2  0.336714  0.538842  0.192801  0.553563  0.074515  0.332993  0.365792   \n",
       "3  0.092108  0.995017  0.014465  0.176371  0.241530  0.514724  0.562208   \n",
       "4  0.325261  0.805968  0.957033  0.331665  0.307923  0.355315  0.501899   \n",
       "\n",
       "       Col8      Col9     Col10  Anomaly  Anomaly_Score  \n",
       "0  0.608234  0.723782  0.733591        0      -0.035865  \n",
       "1  0.331679  0.429297  0.367422        0      -0.084927  \n",
       "2  0.861309  0.899017  0.088600        1       0.025356  \n",
       "3  0.158963  0.073715  0.208463        1       0.042415  \n",
       "4  0.558449  0.885169  0.182754        0      -0.023408  "
      ]
     },
     "execution_count": 80,
     "metadata": {},
     "output_type": "execute_result"
    }
   ],
   "source": [
    "iforest = create_model('iforest', fraction = 0.05)\n",
    "results = assign_model(iforest)\n",
    "results.head()"
   ]
  },
  {
   "cell_type": "code",
   "execution_count": 83,
   "metadata": {},
   "outputs": [
    {
     "data": {
      "text/plain": [
       "<AxesSubplot:>"
      ]
     },
     "execution_count": 83,
     "metadata": {},
     "output_type": "execute_result"
    },
    {
     "data": {
      "image/png": "[encoded data removed]",
      "text/plain": [
       "<Figure size 720x432 with 1 Axes>"
      ]
     },
     "metadata": {},
     "output_type": "display_data"
    }
   ],
   "source": [
    "results['Anomaly_Score'].hist(bins=100, figsize=(10,6))"
   ]
  },
  {
   "cell_type": "code",
   "execution_count": null,
   "metadata": {},
   "outputs": [],
   "source": []
  },
  {
   "cell_type": "code",
   "execution_count": null,
   "metadata": {},
   "outputs": [],
   "source": []
  },
  {
   "cell_type": "code",
   "execution_count": 71,
   "metadata": {},
   "outputs": [],
   "source": [
    "from sklearn import set_config\n",
    "set_config(display=None)"
   ]
  },
  {
   "cell_type": "code",
   "execution_count": 72,
   "metadata": {},
   "outputs": [
    {
     "data": {
      "text/html": [
       "<style>div.sk-top-container {color: black;background-color: white;}div.sk-toggleable {background-color: white;}label.sk-toggleable__label {cursor: pointer;display: block;width: 100%;margin-bottom: 0;padding: 0.2em 0.3em;box-sizing: border-box;text-align: center;}div.sk-toggleable__content {max-height: 0;max-width: 0;overflow: hidden;text-align: left;background-color: #f0f8ff;}div.sk-toggleable__content pre {margin: 0.2em;color: black;border-radius: 0.25em;background-color: #f0f8ff;}input.sk-toggleable__control:checked~div.sk-toggleable__content {max-height: 200px;max-width: 100%;overflow: auto;}div.sk-estimator input.sk-toggleable__control:checked~label.sk-toggleable__label {background-color: #d4ebff;}div.sk-label input.sk-toggleable__control:checked~label.sk-toggleable__label {background-color: #d4ebff;}input.sk-hidden--visually {border: 0;clip: rect(1px 1px 1px 1px);clip: rect(1px, 1px, 1px, 1px);height: 1px;margin: -1px;overflow: hidden;padding: 0;position: absolute;width: 1px;}div.sk-estimator {font-family: monospace;background-color: #f0f8ff;margin: 0.25em 0.25em;border: 1px dotted black;border-radius: 0.25em;box-sizing: border-box;}div.sk-estimator:hover {background-color: #d4ebff;}div.sk-parallel-item::after {content: \"\";width: 100%;border-bottom: 1px solid gray;flex-grow: 1;}div.sk-label:hover label.sk-toggleable__label {background-color: #d4ebff;}div.sk-serial::before {content: \"\";position: absolute;border-left: 1px solid gray;box-sizing: border-box;top: 2em;bottom: 0;left: 50%;}div.sk-serial {display: flex;flex-direction: column;align-items: center;background-color: white;}div.sk-item {z-index: 1;}div.sk-parallel {display: flex;align-items: stretch;justify-content: center;background-color: white;}div.sk-parallel-item {display: flex;flex-direction: column;position: relative;background-color: white;}div.sk-parallel-item:first-child::after {align-self: flex-end;width: 50%;}div.sk-parallel-item:last-child::after {align-self: flex-start;width: 50%;}div.sk-parallel-item:only-child::after {width: 0;}div.sk-dashed-wrapped {border: 1px dashed gray;margin: 0.2em;box-sizing: border-box;padding-bottom: 0.1em;background-color: white;position: relative;}div.sk-label label {font-family: monospace;font-weight: bold;background-color: white;display: inline-block;line-height: 1.2em;}div.sk-label-container {position: relative;z-index: 2;text-align: center;}div.sk-container {display: inline-block;position: relative;}</style><div class=\"sk-top-container\"><div class=\"sk-container\"><div class=\"sk-item sk-dashed-wrapped\"><div class=\"sk-label-container\"><div class=\"sk-label sk-toggleable\"><input class=\"sk-toggleable__control sk-hidden--visually\" id=\"121e7376-e50f-4812-917c-7ee857530086\" type=\"checkbox\" ><label class=\"sk-toggleable__label\" for=\"121e7376-e50f-4812-917c-7ee857530086\">Pipeline</label><div class=\"sk-toggleable__content\"><pre>Pipeline(memory=None,\n",
       "         steps=[('dtypes',\n",
       "                 DataTypes_Auto_infer(categorical_features=[],\n",
       "                                      display_types=True, features_todrop=[],\n",
       "                                      id_columns=[], ml_usecase='regression',\n",
       "                                      numerical_features=[],\n",
       "                                      target='UNSUPERVISED_DUMMY_TARGET',\n",
       "                                      time_features=[])),\n",
       "                ('imputer',\n",
       "                 Simple_Imputer(categorical_strategy='most frequent',\n",
       "                                fill_value_categorical=None,\n",
       "                                fill_value_numerical=None...\n",
       "                ('fix_perfect', 'passthrough'),\n",
       "                ('clean_names', Clean_Colum_Names()),\n",
       "                ('feature_select', 'passthrough'), ('fix_multi', 'passthrough'),\n",
       "                ('dfs', 'passthrough'), ('pca', 'passthrough'),\n",
       "                ['trained_model',\n",
       "                 IForest(behaviour='new', bootstrap=False, contamination=0.05,\n",
       "    max_features=1.0, max_samples='auto', n_estimators=200, n_jobs=-1,\n",
       "    random_state=123, verbose=0)]],\n",
       "         verbose=False)</pre></div></div></div><div class=\"sk-serial\"><div class=\"sk-item\"><div class=\"sk-estimator sk-toggleable\"><input class=\"sk-toggleable__control sk-hidden--visually\" id=\"1203b7c0-0088-41eb-b7aa-7bf344f25f82\" type=\"checkbox\" ><label class=\"sk-toggleable__label\" for=\"1203b7c0-0088-41eb-b7aa-7bf344f25f82\">DataTypes_Auto_infer</label><div class=\"sk-toggleable__content\"><pre>DataTypes_Auto_infer(ml_usecase='regression',\n",
       "                     target='UNSUPERVISED_DUMMY_TARGET')</pre></div></div></div><div class=\"sk-item\"><div class=\"sk-estimator sk-toggleable\"><input class=\"sk-toggleable__control sk-hidden--visually\" id=\"f0ba02a9-eee9-4f16-b5ee-4e8fe9c39b43\" type=\"checkbox\" ><label class=\"sk-toggleable__label\" for=\"f0ba02a9-eee9-4f16-b5ee-4e8fe9c39b43\">Simple_Imputer</label><div class=\"sk-toggleable__content\"><pre>Simple_Imputer(categorical_strategy='most frequent',\n",
       "               fill_value_categorical=None, fill_value_numerical=None,\n",
       "               numeric_strategy='mean', target_variable=None)</pre></div></div></div><div class=\"sk-item\"><div class=\"sk-estimator sk-toggleable\"><input class=\"sk-toggleable__control sk-hidden--visually\" id=\"7caad950-dc7f-40ea-9cd9-07df1a650f95\" type=\"checkbox\" ><label class=\"sk-toggleable__label\" for=\"7caad950-dc7f-40ea-9cd9-07df1a650f95\">New_Catagorical_Levels_in_TestData</label><div class=\"sk-toggleable__content\"><pre>New_Catagorical_Levels_in_TestData(replacement_strategy='least frequent',\n",
       "                                   target='UNSUPERVISED_DUMMY_TARGET')</pre></div></div></div><div class=\"sk-item\"><div class=\"sk-estimator sk-toggleable\"><input class=\"sk-toggleable__control sk-hidden--visually\" id=\"f7b81f8c-bdda-4e1d-ad88-a83402c299f2\" type=\"checkbox\" ><label class=\"sk-toggleable__label\" for=\"f7b81f8c-bdda-4e1d-ad88-a83402c299f2\">passthrough</label><div class=\"sk-toggleable__content\"><pre>passthrough</pre></div></div></div><div class=\"sk-item\"><div class=\"sk-estimator sk-toggleable\"><input class=\"sk-toggleable__control sk-hidden--visually\" id=\"98cf3825-94d8-43c7-a84c-c07818055bff\" type=\"checkbox\" ><label class=\"sk-toggleable__label\" for=\"98cf3825-94d8-43c7-a84c-c07818055bff\">passthrough</label><div class=\"sk-toggleable__content\"><pre>passthrough</pre></div></div></div><div class=\"sk-item\"><div class=\"sk-estimator sk-toggleable\"><input class=\"sk-toggleable__control sk-hidden--visually\" id=\"599cd2c2-394b-44a2-bc53-2037b11193e2\" type=\"checkbox\" ><label class=\"sk-toggleable__label\" for=\"599cd2c2-394b-44a2-bc53-2037b11193e2\">passthrough</label><div class=\"sk-toggleable__content\"><pre>passthrough</pre></div></div></div><div class=\"sk-item\"><div class=\"sk-estimator sk-toggleable\"><input class=\"sk-toggleable__control sk-hidden--visually\" id=\"6af731e7-fee5-4d5f-ab21-dc14ab79d663\" type=\"checkbox\" ><label class=\"sk-toggleable__label\" for=\"6af731e7-fee5-4d5f-ab21-dc14ab79d663\">passthrough</label><div class=\"sk-toggleable__content\"><pre>passthrough</pre></div></div></div><div class=\"sk-item\"><div class=\"sk-estimator sk-toggleable\"><input class=\"sk-toggleable__control sk-hidden--visually\" id=\"c335f609-02d4-4f40-9b5c-6a656b4ba2d2\" type=\"checkbox\" ><label class=\"sk-toggleable__label\" for=\"c335f609-02d4-4f40-9b5c-6a656b4ba2d2\">New_Catagorical_Levels_in_TestData</label><div class=\"sk-toggleable__content\"><pre>New_Catagorical_Levels_in_TestData(replacement_strategy='least frequent',\n",
       "                                   target='UNSUPERVISED_DUMMY_TARGET')</pre></div></div></div><div class=\"sk-item\"><div class=\"sk-estimator sk-toggleable\"><input class=\"sk-toggleable__control sk-hidden--visually\" id=\"07e17ef2-ca8d-4f64-8236-952a16f03cef\" type=\"checkbox\" ><label class=\"sk-toggleable__label\" for=\"07e17ef2-ca8d-4f64-8236-952a16f03cef\">Make_Time_Features</label><div class=\"sk-toggleable__content\"><pre>Make_Time_Features(list_of_features=None,\n",
       "                   time_feature=Index([], dtype='object'))</pre></div></div></div><div class=\"sk-item\"><div class=\"sk-estimator sk-toggleable\"><input class=\"sk-toggleable__control sk-hidden--visually\" id=\"76842f45-c1cb-4703-b18f-364b265c52bd\" type=\"checkbox\" ><label class=\"sk-toggleable__label\" for=\"76842f45-c1cb-4703-b18f-364b265c52bd\">passthrough</label><div class=\"sk-toggleable__content\"><pre>passthrough</pre></div></div></div><div class=\"sk-item\"><div class=\"sk-estimator sk-toggleable\"><input class=\"sk-toggleable__control sk-hidden--visually\" id=\"15a642d1-ca46-478f-9ec3-4a3a10807f34\" type=\"checkbox\" ><label class=\"sk-toggleable__label\" for=\"15a642d1-ca46-478f-9ec3-4a3a10807f34\">passthrough</label><div class=\"sk-toggleable__content\"><pre>passthrough</pre></div></div></div><div class=\"sk-item\"><div class=\"sk-estimator sk-toggleable\"><input class=\"sk-toggleable__control sk-hidden--visually\" id=\"f4598183-ac38-44e0-8447-0f2fa7a12d48\" type=\"checkbox\" ><label class=\"sk-toggleable__label\" for=\"f4598183-ac38-44e0-8447-0f2fa7a12d48\">passthrough</label><div class=\"sk-toggleable__content\"><pre>passthrough</pre></div></div></div><div class=\"sk-item\"><div class=\"sk-estimator sk-toggleable\"><input class=\"sk-toggleable__control sk-hidden--visually\" id=\"4d52fe16-faf0-4def-8998-667e2d7ec754\" type=\"checkbox\" ><label class=\"sk-toggleable__label\" for=\"4d52fe16-faf0-4def-8998-667e2d7ec754\">passthrough</label><div class=\"sk-toggleable__content\"><pre>passthrough</pre></div></div></div><div class=\"sk-item\"><div class=\"sk-estimator sk-toggleable\"><input class=\"sk-toggleable__control sk-hidden--visually\" id=\"e23c0278-5f23-4cb1-b4ab-4c819572bf2f\" type=\"checkbox\" ><label class=\"sk-toggleable__label\" for=\"e23c0278-5f23-4cb1-b4ab-4c819572bf2f\">passthrough</label><div class=\"sk-toggleable__content\"><pre>passthrough</pre></div></div></div><div class=\"sk-item\"><div class=\"sk-estimator sk-toggleable\"><input class=\"sk-toggleable__control sk-hidden--visually\" id=\"e28376f6-2531-42a0-9919-481f23892958\" type=\"checkbox\" ><label class=\"sk-toggleable__label\" for=\"e28376f6-2531-42a0-9919-481f23892958\">passthrough</label><div class=\"sk-toggleable__content\"><pre>passthrough</pre></div></div></div><div class=\"sk-item\"><div class=\"sk-estimator sk-toggleable\"><input class=\"sk-toggleable__control sk-hidden--visually\" id=\"75ccb5a3-4b37-4d52-9889-91343412e7f8\" type=\"checkbox\" ><label class=\"sk-toggleable__label\" for=\"75ccb5a3-4b37-4d52-9889-91343412e7f8\">passthrough</label><div class=\"sk-toggleable__content\"><pre>passthrough</pre></div></div></div><div class=\"sk-item\"><div class=\"sk-estimator sk-toggleable\"><input class=\"sk-toggleable__control sk-hidden--visually\" id=\"87b0860c-f3fc-40a5-bdf3-61fda737e07c\" type=\"checkbox\" ><label class=\"sk-toggleable__label\" for=\"87b0860c-f3fc-40a5-bdf3-61fda737e07c\">Dummify</label><div class=\"sk-toggleable__content\"><pre>Dummify(target='UNSUPERVISED_DUMMY_TARGET')</pre></div></div></div><div class=\"sk-item\"><div class=\"sk-estimator sk-toggleable\"><input class=\"sk-toggleable__control sk-hidden--visually\" id=\"beb8d54b-8a29-4de2-b0d8-a945c66f4a5d\" type=\"checkbox\" ><label class=\"sk-toggleable__label\" for=\"beb8d54b-8a29-4de2-b0d8-a945c66f4a5d\">passthrough</label><div class=\"sk-toggleable__content\"><pre>passthrough</pre></div></div></div><div class=\"sk-item\"><div class=\"sk-estimator sk-toggleable\"><input class=\"sk-toggleable__control sk-hidden--visually\" id=\"a6541815-b2db-46d3-a237-756a4807bd15\" type=\"checkbox\" ><label class=\"sk-toggleable__label\" for=\"a6541815-b2db-46d3-a237-756a4807bd15\">Clean_Colum_Names</label><div class=\"sk-toggleable__content\"><pre>Clean_Colum_Names()</pre></div></div></div><div class=\"sk-item\"><div class=\"sk-estimator sk-toggleable\"><input class=\"sk-toggleable__control sk-hidden--visually\" id=\"450a8d59-7155-4496-85d2-119d834c4d62\" type=\"checkbox\" ><label class=\"sk-toggleable__label\" for=\"450a8d59-7155-4496-85d2-119d834c4d62\">passthrough</label><div class=\"sk-toggleable__content\"><pre>passthrough</pre></div></div></div><div class=\"sk-item\"><div class=\"sk-estimator sk-toggleable\"><input class=\"sk-toggleable__control sk-hidden--visually\" id=\"30edd21e-0382-4ec5-8844-550dbd7b8f92\" type=\"checkbox\" ><label class=\"sk-toggleable__label\" for=\"30edd21e-0382-4ec5-8844-550dbd7b8f92\">passthrough</label><div class=\"sk-toggleable__content\"><pre>passthrough</pre></div></div></div><div class=\"sk-item\"><div class=\"sk-estimator sk-toggleable\"><input class=\"sk-toggleable__control sk-hidden--visually\" id=\"4a574de8-4abd-4aa2-9032-f3827d1b6601\" type=\"checkbox\" ><label class=\"sk-toggleable__label\" for=\"4a574de8-4abd-4aa2-9032-f3827d1b6601\">passthrough</label><div class=\"sk-toggleable__content\"><pre>passthrough</pre></div></div></div><div class=\"sk-item\"><div class=\"sk-estimator sk-toggleable\"><input class=\"sk-toggleable__control sk-hidden--visually\" id=\"3b448f78-d49a-4068-ae79-5f5f6e92f7a4\" type=\"checkbox\" ><label class=\"sk-toggleable__label\" for=\"3b448f78-d49a-4068-ae79-5f5f6e92f7a4\">passthrough</label><div class=\"sk-toggleable__content\"><pre>passthrough</pre></div></div></div><div class=\"sk-item\"><div class=\"sk-estimator sk-toggleable\"><input class=\"sk-toggleable__control sk-hidden--visually\" id=\"4f7e9d78-544e-4354-ad7b-f71106553aac\" type=\"checkbox\" ><label class=\"sk-toggleable__label\" for=\"4f7e9d78-544e-4354-ad7b-f71106553aac\">IForest</label><div class=\"sk-toggleable__content\"><pre>IForest(behaviour='new', bootstrap=False, contamination=0.05,\n",
       "    max_features=1.0, max_samples='auto', n_estimators=200, n_jobs=-1,\n",
       "    random_state=123, verbose=0)</pre></div></div></div></div></div></div></div>"
      ],
      "text/plain": [
       "Pipeline(memory=None,\n",
       "         steps=[('dtypes',\n",
       "                 DataTypes_Auto_infer(categorical_features=[],\n",
       "                                      display_types=True, features_todrop=[],\n",
       "                                      id_columns=[], ml_usecase='regression',\n",
       "                                      numerical_features=[],\n",
       "                                      target='UNSUPERVISED_DUMMY_TARGET',\n",
       "                                      time_features=[])),\n",
       "                ('imputer',\n",
       "                 Simple_Imputer(categorical_strategy='most frequent',\n",
       "                                fill_value_categorical=None,\n",
       "                                fill_value_numerical=None...\n",
       "                ('fix_perfect', 'passthrough'),\n",
       "                ('clean_names', Clean_Colum_Names()),\n",
       "                ('feature_select', 'passthrough'), ('fix_multi', 'passthrough'),\n",
       "                ('dfs', 'passthrough'), ('pca', 'passthrough'),\n",
       "                ['trained_model',\n",
       "                 IForest(behaviour='new', bootstrap=False, contamination=0.05,\n",
       "    max_features=1.0, max_samples='auto', n_estimators=200, n_jobs=-1,\n",
       "    random_state=123, verbose=0)]],\n",
       "         verbose=False)"
      ]
     },
     "execution_count": 72,
     "metadata": {},
     "output_type": "execute_result"
    }
   ],
   "source": [
    "l"
   ]
  },
  {
   "cell_type": "code",
   "execution_count": 73,
   "metadata": {},
   "outputs": [
    {
     "name": "stdout",
     "output_type": "stream",
     "text": [
      "Model Succesfully Deployed on AWS S3\n"
     ]
    }
   ],
   "source": [
    "deploy_model(iforest, 'iforest-abc', platform = 'aws', \n",
    "             authentication = {'bucket' : 'pycaret-test'})"
   ]
  },
  {
   "cell_type": "code",
   "execution_count": null,
   "metadata": {},
   "outputs": [],
   "source": []
  },
  {
   "cell_type": "code",
   "execution_count": null,
   "metadata": {},
   "outputs": [],
   "source": []
  },
  {
   "cell_type": "code",
   "execution_count": null,
   "metadata": {},
   "outputs": [],
   "source": []
  },
  {
   "cell_type": "code",
   "execution_count": null,
   "metadata": {},
   "outputs": [],
   "source": []
  },
  {
   "cell_type": "code",
   "execution_count": null,
   "metadata": {},
   "outputs": [],
   "source": []
  },
  {
   "cell_type": "code",
   "execution_count": 51,
   "metadata": {},
   "outputs": [
    {
     "data": {
      "text/plain": [
       "IForest(behaviour='new', bootstrap=False, contamination=0.05,\n",
       "    max_features=1.0, max_samples='auto', n_estimators=100, n_jobs=-1,\n",
       "    random_state=123, verbose=0)"
      ]
     },
     "execution_count": 51,
     "metadata": {},
     "output_type": "execute_result"
    }
   ],
   "source": [
    "iforest"
   ]
  },
  {
   "cell_type": "code",
   "execution_count": 52,
   "metadata": {},
   "outputs": [
    {
     "data": {
      "text/plain": [
       "pyod.models.iforest.IForest"
      ]
     },
     "execution_count": 52,
     "metadata": {},
     "output_type": "execute_result"
    }
   ],
   "source": [
    "type(iforest)"
   ]
  },
  {
   "cell_type": "code",
   "execution_count": 53,
   "metadata": {},
   "outputs": [
    {
     "data": {
      "text/html": [
       "<div>\n",
       "<style scoped>\n",
       "    .dataframe tbody tr th:only-of-type {\n",
       "        vertical-align: middle;\n",
       "    }\n",
       "\n",
       "    .dataframe tbody tr th {\n",
       "        vertical-align: top;\n",
       "    }\n",
       "\n",
       "    .dataframe thead th {\n",
       "        text-align: right;\n",
       "    }\n",
       "</style>\n",
       "<table border=\"1\" class=\"dataframe\">\n",
       "  <thead>\n",
       "    <tr style=\"text-align: right;\">\n",
       "      <th></th>\n",
       "      <th>Col1</th>\n",
       "      <th>Col2</th>\n",
       "      <th>Col3</th>\n",
       "      <th>Col4</th>\n",
       "      <th>Col5</th>\n",
       "      <th>Col6</th>\n",
       "      <th>Col7</th>\n",
       "      <th>Col8</th>\n",
       "      <th>Col9</th>\n",
       "      <th>Col10</th>\n",
       "      <th>Anomaly</th>\n",
       "      <th>Anomaly_Score</th>\n",
       "    </tr>\n",
       "  </thead>\n",
       "  <tbody>\n",
       "    <tr>\n",
       "      <th>0</th>\n",
       "      <td>0.263995</td>\n",
       "      <td>0.764929</td>\n",
       "      <td>0.138424</td>\n",
       "      <td>0.935242</td>\n",
       "      <td>0.605867</td>\n",
       "      <td>0.518790</td>\n",
       "      <td>0.912225</td>\n",
       "      <td>0.608234</td>\n",
       "      <td>0.723782</td>\n",
       "      <td>0.733591</td>\n",
       "      <td>0</td>\n",
       "      <td>-0.035865</td>\n",
       "    </tr>\n",
       "    <tr>\n",
       "      <th>1</th>\n",
       "      <td>0.546092</td>\n",
       "      <td>0.653975</td>\n",
       "      <td>0.065575</td>\n",
       "      <td>0.227772</td>\n",
       "      <td>0.845269</td>\n",
       "      <td>0.837066</td>\n",
       "      <td>0.272379</td>\n",
       "      <td>0.331679</td>\n",
       "      <td>0.429297</td>\n",
       "      <td>0.367422</td>\n",
       "      <td>0</td>\n",
       "      <td>-0.084927</td>\n",
       "    </tr>\n",
       "    <tr>\n",
       "      <th>2</th>\n",
       "      <td>0.336714</td>\n",
       "      <td>0.538842</td>\n",
       "      <td>0.192801</td>\n",
       "      <td>0.553563</td>\n",
       "      <td>0.074515</td>\n",
       "      <td>0.332993</td>\n",
       "      <td>0.365792</td>\n",
       "      <td>0.861309</td>\n",
       "      <td>0.899017</td>\n",
       "      <td>0.088600</td>\n",
       "      <td>1</td>\n",
       "      <td>0.025356</td>\n",
       "    </tr>\n",
       "    <tr>\n",
       "      <th>3</th>\n",
       "      <td>0.092108</td>\n",
       "      <td>0.995017</td>\n",
       "      <td>0.014465</td>\n",
       "      <td>0.176371</td>\n",
       "      <td>0.241530</td>\n",
       "      <td>0.514724</td>\n",
       "      <td>0.562208</td>\n",
       "      <td>0.158963</td>\n",
       "      <td>0.073715</td>\n",
       "      <td>0.208463</td>\n",
       "      <td>1</td>\n",
       "      <td>0.042415</td>\n",
       "    </tr>\n",
       "    <tr>\n",
       "      <th>4</th>\n",
       "      <td>0.325261</td>\n",
       "      <td>0.805968</td>\n",
       "      <td>0.957033</td>\n",
       "      <td>0.331665</td>\n",
       "      <td>0.307923</td>\n",
       "      <td>0.355315</td>\n",
       "      <td>0.501899</td>\n",
       "      <td>0.558449</td>\n",
       "      <td>0.885169</td>\n",
       "      <td>0.182754</td>\n",
       "      <td>0</td>\n",
       "      <td>-0.023408</td>\n",
       "    </tr>\n",
       "  </tbody>\n",
       "</table>\n",
       "</div>"
      ],
      "text/plain": [
       "       Col1      Col2      Col3      Col4      Col5      Col6      Col7  \\\n",
       "0  0.263995  0.764929  0.138424  0.935242  0.605867  0.518790  0.912225   \n",
       "1  0.546092  0.653975  0.065575  0.227772  0.845269  0.837066  0.272379   \n",
       "2  0.336714  0.538842  0.192801  0.553563  0.074515  0.332993  0.365792   \n",
       "3  0.092108  0.995017  0.014465  0.176371  0.241530  0.514724  0.562208   \n",
       "4  0.325261  0.805968  0.957033  0.331665  0.307923  0.355315  0.501899   \n",
       "\n",
       "       Col8      Col9     Col10  Anomaly  Anomaly_Score  \n",
       "0  0.608234  0.723782  0.733591        0      -0.035865  \n",
       "1  0.331679  0.429297  0.367422        0      -0.084927  \n",
       "2  0.861309  0.899017  0.088600        1       0.025356  \n",
       "3  0.158963  0.073715  0.208463        1       0.042415  \n",
       "4  0.558449  0.885169  0.182754        0      -0.023408  "
      ]
     },
     "execution_count": 53,
     "metadata": {},
     "output_type": "execute_result"
    }
   ],
   "source": [
    "results = assign_model(iforest)\n",
    "results.head()"
   ]
  },
  {
   "cell_type": "code",
   "execution_count": null,
   "metadata": {},
   "outputs": [],
   "source": []
  }
 ],
 "metadata": {
  "kernelspec": {
   "display_name": "Python 3",
   "language": "python",
   "name": "python3"
  },
  "language_info": {
   "codemirror_mode": {
    "name": "ipython",
    "version": 3
   },
   "file_extension": ".py",
   "mimetype": "text/x-python",
   "name": "python",
   "nbconvert_exporter": "python",
   "pygments_lexer": "ipython3",
   "version": "3.7.4"
  }
 },
 "nbformat": 4,
 "nbformat_minor": 2
}
